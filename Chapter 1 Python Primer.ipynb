{
 "cells": [
  {
   "cell_type": "markdown",
   "metadata": {},
   "source": [
    "# Chapter 1: Python Primer"
   ]
  },
  {
   "cell_type": "markdown",
   "metadata": {},
   "source": [
    "## Reinforcement"
   ]
  },
  {
   "cell_type": "code",
   "execution_count": 7,
   "metadata": {},
   "outputs": [
    {
     "name": "stdout",
     "output_type": "stream",
     "text": [
      "False\n",
      "False\n",
      "True\n"
     ]
    }
   ],
   "source": [
    "# R-1.1\n",
    "\n",
    "def is_multiple(n,m):\n",
    "    if n%m == 0: return True\n",
    "    else: return False\n",
    "\n",
    "print(is_multiple(2,3))\n",
    "print(is_multiple(1824732189479,32748217384237))\n",
    "print(is_multiple(6,3))"
   ]
  },
  {
   "cell_type": "code",
   "execution_count": 10,
   "metadata": {},
   "outputs": [
    {
     "name": "stdout",
     "output_type": "stream",
     "text": [
      "True\n",
      "False\n",
      "False\n",
      "True\n"
     ]
    }
   ],
   "source": [
    "# R-1.2\n",
    "\n",
    "def is_even(k):\n",
    "    if isinstance(k, int):\n",
    "        return k&1 == 0\n",
    "    else:\n",
    "        return False\n",
    "        \n",
    "print(is_even(8))\n",
    "print(is_even(237583279845))\n",
    "print(is_even(893842934.6))\n",
    "print(is_even(-342348))"
   ]
  },
  {
   "cell_type": "code",
   "execution_count": 15,
   "metadata": {},
   "outputs": [
    {
     "name": "stdout",
     "output_type": "stream",
     "text": [
      "(8, 4)\n",
      "(9, 1)\n",
      "(9, 6)\n",
      "(8, 1)\n"
     ]
    }
   ],
   "source": [
    "# R-1.3\n",
    "\n",
    "def minmax(data):\n",
    "    largest, smallest = 0, 9\n",
    "    for i in str(data):\n",
    "        digit = int(i)\n",
    "        if digit > largest: largest = digit\n",
    "        if digit < largest: smallest = digit\n",
    "    return largest, smallest\n",
    "\n",
    "print(minmax(34837847837348))\n",
    "print(minmax(3284392831))\n",
    "print(minmax(198414637896))\n",
    "print(minmax(1865341))"
   ]
  },
  {
   "cell_type": "code",
   "execution_count": 26,
   "metadata": {},
   "outputs": [
    {
     "name": "stdout",
     "output_type": "stream",
     "text": [
      "3658116140695\n",
      "3187291745\n",
      "5\n"
     ]
    }
   ],
   "source": [
    "# R-1.4\n",
    "\n",
    "def sum_of_squares_until(num):\n",
    "    return sum([n*n for n in range(1,num+1)])\n",
    "\n",
    "print(sum_of_squares_until(22222))\n",
    "print(sum_of_squares_until(2122))\n",
    "print(sum_of_squares_until(2))"
   ]
  },
  {
   "cell_type": "code",
   "execution_count": null,
   "metadata": {},
   "outputs": [],
   "source": [
    "# R-1.5\n",
    "\n",
    "def sum_of_squares_until(num):\n",
    "    return sum([n*n for n in range(1,num+1)])\n",
    "\n",
    "print(sum_of_squares_until(22222))\n",
    "print(sum_of_squares_until(2122))\n",
    "print(sum_of_squares_until(2))"
   ]
  },
  {
   "cell_type": "code",
   "execution_count": 3,
   "metadata": {},
   "outputs": [
    {
     "name": "stdout",
     "output_type": "stream",
     "text": [
      "10\n",
      "35\n",
      "10131861606\n"
     ]
    }
   ],
   "source": [
    "# R-1.6\n",
    "\n",
    "def sum_of_odd_squares_until(num):\n",
    "    return sum((n*n for n in range(1,num+1) if n%2 != 0))\n",
    "\n",
    "print(sum_of_odd_squares_until(3))\n",
    "print(sum_of_odd_squares_until(5))\n",
    "print(sum_of_odd_squares_until(3932))"
   ]
  },
  {
   "cell_type": "code",
   "execution_count": 1,
   "metadata": {},
   "outputs": [
    {
     "name": "stdout",
     "output_type": "stream",
     "text": [
      "10\n",
      "35\n",
      "10131861606\n"
     ]
    }
   ],
   "source": [
    "# R-1.7\n",
    "\n",
    "def sum_of_odd_squares_until(num):\n",
    "    return sum((n*n for n in range(1,num+1) if n%2 != 0))\n",
    "\n",
    "print(sum_of_odd_squares_until(3))\n",
    "print(sum_of_odd_squares_until(5))\n",
    "print(sum_of_odd_squares_until(3932))"
   ]
  },
  {
   "cell_type": "code",
   "execution_count": 9,
   "metadata": {},
   "outputs": [
    {
     "name": "stdout",
     "output_type": "stream",
     "text": [
      "2\n",
      "2\n"
     ]
    }
   ],
   "source": [
    "# R-1.8\n",
    "\n",
    "j = n + k"
   ]
  },
  {
   "cell_type": "code",
   "execution_count": 3,
   "metadata": {},
   "outputs": [
    {
     "data": {
      "text/plain": [
       "[50, 60, 70, 80]"
      ]
     },
     "execution_count": 3,
     "metadata": {},
     "output_type": "execute_result"
    }
   ],
   "source": [
    "# R-1.9\n",
    "\n",
    "[i for i in range(50, 81, 10)]"
   ]
  },
  {
   "cell_type": "code",
   "execution_count": 13,
   "metadata": {},
   "outputs": [
    {
     "data": {
      "text/plain": [
       "[8, 6, 4, 2, 0, -2, -4, -6, -8]"
      ]
     },
     "execution_count": 13,
     "metadata": {},
     "output_type": "execute_result"
    }
   ],
   "source": [
    "# R-1.10\n",
    "\n",
    "[i for i in range(8, -9, -2)]"
   ]
  },
  {
   "cell_type": "code",
   "execution_count": 23,
   "metadata": {},
   "outputs": [
    {
     "name": "stdout",
     "output_type": "stream",
     "text": [
      "[1, 2, 4, 8, 16, 32, 64, 128, 256]\n"
     ]
    }
   ],
   "source": [
    "# R-1.11\n",
    "\n",
    "print([2**i for i in range(0,9)])"
   ]
  },
  {
   "cell_type": "code",
   "execution_count": 44,
   "metadata": {},
   "outputs": [
    {
     "name": "stdout",
     "output_type": "stream",
     "text": [
      "0\n",
      "6\n",
      "166 438 479 567 47 692 27 985 877 52 205 114 763 79 53 349 414 519 321 785 393 270 40 468 737 663 729 369 425 455 317 212 584 206 353 152 394 923 15 735 830 781 6 512 312 668 461 808 643 820 113 59 154 394 538 54 763 516 734 418 318 109 326 875 19 352 780 541 18 911 27 675 523 618 951 923 876 845 903 319 274 286 427 671 193 702 756 565 125 84 0 968 545 175 440 947 549 83 373 "
     ]
    }
   ],
   "source": [
    "# R-1.12\n",
    "\n",
    "from random import randint\n",
    "\n",
    "def choice(array):\n",
    "    return randint(0,len(array))\n",
    "\n",
    "print(choice([1,2,3,4,5,6,7,8,9,10]))\n",
    "print(choice((1,2,3,4,5,6,7,8,9,10)))\n",
    "for i in range(1,100):\n",
    "    print(choice(range(1,1000)), end= \" \")"
   ]
  },
  {
   "cell_type": "markdown",
   "metadata": {},
   "source": [
    "## Creativity"
   ]
  },
  {
   "cell_type": "code",
   "execution_count": 55,
   "metadata": {},
   "outputs": [
    {
     "name": "stdout",
     "output_type": "stream",
     "text": [
      "[8, 7, 6, 5, 4, 3, 2, 1]\n",
      "[19, 17, 15, 13, 11, 9, 7, 5, 3, 1]\n",
      "[2, 3, 4, 5, 6, 7, 8, 9, 10, 11, 12, 13, 14, 15, 16, 17, 18, 19, 20, 21, 22, 23, 24, 25, 26, 27, 28, 29, 30, 31, 32, 33, 34, 35, 36, 37, 38, 39, 40, 41, 42, 43, 44, 45, 46, 47, 48, 49, 50]\n",
      "[199, 198, 197, 196, 195, 194, 193, 192, 191, 190, 189, 188, 187, 186, 185, 184, 183, 182, 181, 180, 179, 178, 177, 176, 175, 174, 173, 172, 171, 170, 169, 168, 167, 166, 165, 164, 163, 162, 161, 160, 159, 158, 157, 156, 155, 154, 153, 152, 151, 150, 149, 148, 147, 146, 145, 144, 143, 142, 141, 140, 139, 138, 137, 136, 135, 134, 133, 132, 131, 130, 129, 128, 127, 126, 125, 124, 123, 122, 121, 120, 119, 118, 117, 116, 115, 114, 113, 112, 111, 110, 109, 108, 107, 106, 105, 104, 103, 102, 101, 100, 99, 98, 97, 96, 95, 94, 93, 92, 91, 90, 89, 88, 87, 86, 85, 84, 83, 82, 81, 80, 79, 78, 77, 76, 75, 74, 73, 72, 71, 70, 69, 68, 67, 66, 65, 64, 63, 62, 61, 60, 59, 58, 57, 56, 55, 54, 53, 52, 51, 50, 49, 48, 47, 46, 45, 44, 43, 42, 41, 40, 39, 38, 37, 36, 35, 34, 33, 32, 31, 30, 29, 28, 27, 26, 25, 24, 23, 22, 21, 20, 19, 18, 17, 16, 15, 14, 13, 12, 11, 10, 9, 8, 7, 6, 5, 4, 3, 2, 1]\n",
      "[8, 7, 6, 5, 4, 3, 2, 1]\n",
      "User defined Revert Function takes: 0.7846053999996911\n",
      "User defined revert_in_place function takes: 0.7546572999999626\n",
      "Built in reverse method takes: 0.21915760000001683\n",
      "Built in reversed function takes: 0.131960700000036\n"
     ]
    }
   ],
   "source": [
    "# C-1.13\n",
    "\"\"\"\n",
    "Write a pseudo-code description of a function that reverses a list of n\n",
    "integers, so that the numbers are listed in the opposite order than they\n",
    "were before, and compare this method to an equivalent Python function\n",
    "for doing the same thing.\n",
    "\"\"\"\n",
    "import timeit\n",
    "\n",
    "def revert(array):\n",
    "    \"\"\"\n",
    "    Creates a new list.\n",
    "    \"\"\"\n",
    "    return [array[i] for i in range(len(array)-1, -1, -1)]\n",
    "\n",
    "def revert_in_place(x):\n",
    "    \"\"\"\n",
    "    Reverses the same list.\n",
    "    \"\"\"\n",
    "    for i in range((len(x))//2):\n",
    "        x[i], x[len(x)-1-i] = x[len(x)-1-i], x[i]\n",
    "    return x\n",
    "\n",
    "\n",
    "print(revert([1,2,3,4,5,6,7,8]))\n",
    "print(revert(range(1,20,2)))\n",
    "print(revert((range(50, 1, -1))))\n",
    "print(revert_in_place([i for i in range(1,200)]))\n",
    "print(revert_in_place([1,2,3,4,5,6,7,8]))\n",
    "\n",
    "import timeit\n",
    "print(f\"User defined Revert Function takes: {timeit.timeit(lambda: revert([1,2,3,4,5]))}\")\n",
    "print(f\"User defined revert_in_place function takes: {timeit.timeit(lambda: revert_in_place([1,2,3,4,5]))}\")\n",
    "print(f\"Built in reverse method takes: {timeit.timeit(lambda: reversed([1,2,3,4,5]))}\")\n",
    "print(f\"Built in reversed function takes: {timeit.timeit(lambda: [1,2,3,4,5].reverse())}\")"
   ]
  }
 ],
 "metadata": {
  "kernelspec": {
   "display_name": "Python 3",
   "language": "python",
   "name": "python3"
  },
  "language_info": {
   "codemirror_mode": {
    "name": "ipython",
    "version": 3
   },
   "file_extension": ".py",
   "mimetype": "text/x-python",
   "name": "python",
   "nbconvert_exporter": "python",
   "pygments_lexer": "ipython3",
   "version": "3.9.1"
  }
 },
 "nbformat": 4,
 "nbformat_minor": 4
}
