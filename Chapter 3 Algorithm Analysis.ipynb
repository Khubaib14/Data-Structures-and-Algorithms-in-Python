{
 "cells": [
  {
   "cell_type": "markdown",
   "metadata": {},
   "source": [
    "# Chapter 3: Algorithm Analysis "
   ]
  },
  {
   "cell_type": "markdown",
   "metadata": {},
   "source": [
    "## Reinforcement"
   ]
  },
  {
   "cell_type": "code",
   "execution_count": 1,
   "metadata": {},
   "outputs": [],
   "source": [
    "import matplotlib.pyplot as plt\n",
    "import numpy as np"
   ]
  },
  {
   "cell_type": "code",
   "execution_count": 2,
   "metadata": {},
   "outputs": [
    {
     "data": {
      "image/png": "[encoded data removed]",
      "text/plain": [
       "<Figure size 432x288 with 1 Axes>"
      ]
     },
     "metadata": {
      "needs_background": "light"
     },
     "output_type": "display_data"
    }
   ],
   "source": [
    "\"\"\"\n",
    "Just some plt recall.\n",
    "\"\"\"\n",
    "x = [i for i in range(1,10000)]\n",
    "y = [i*i for i in range(1,10000)]\n",
    "plt.plot(x, y)\n",
    "\n",
    "plt.yscale('log')\n",
    "plt.xscale('log')"
   ]
  },
  {
   "cell_type": "code",
   "execution_count": 3,
   "metadata": {},
   "outputs": [
    {
     "ename": "SyntaxError",
     "evalue": "invalid syntax (<ipython-input-3-5b49415dc740>, line 27)",
     "output_type": "error",
     "traceback": [
      "\u001b[1;36m  File \u001b[1;32m\"<ipython-input-3-5b49415dc740>\"\u001b[1;36m, line \u001b[1;32m27\u001b[0m\n\u001b[1;33m    plt.xscale('log')cd Py\u001b[0m\n\u001b[1;37m                     ^\u001b[0m\n\u001b[1;31mSyntaxError\u001b[0m\u001b[1;31m:\u001b[0m invalid syntax\n"
     ]
    }
   ],
   "source": [
    "# R-3.1\n",
    "\n",
    "# build array for x-axis\n",
    "x = [i for i in range(1,100)]\n",
    "\n",
    "# list of all functions\n",
    "functions = [lambda x: 8*x,\n",
    "            lambda x: 4*x*log(x),\n",
    "            lambda x: 2*x**2,\n",
    "            lambda x: x**3,\n",
    "            lambda x: 2**x,\n",
    "            ]\n",
    "\n",
    "# empty array for y axis\n",
    "y = []\n",
    "\n",
    "# calculate the y value for corresponding x value and store in y\n",
    "for function in functions:\n",
    "    y.append(list(map(function, x)))\n",
    "\n",
    "# plot each function from y\n",
    "for j in y:\n",
    "    plt.plot(x,j)\n",
    "\n",
    "# change the scale\n",
    "plt.yscale('log')\n",
    "plt.xscale('log')cd Py"
   ]
  },
  {
   "cell_type": "code",
   "execution_count": null,
   "metadata": {},
   "outputs": [],
   "source": [
    "# R-3.2\n",
    "\n",
    "from math import log\n",
    "\n",
    "x = [i for i in range(1,20)]\n",
    "\n",
    "functions = [lambda x: 8*x*log(x),\n",
    "            lambda x: 2*(x**2)]\n",
    "\n",
    "y_vals = []\n",
    "\n",
    "[y_vals.append(list(map(function, x))) for function in functions]\n",
    "\n",
    "[plt.plot(x,y) for y in y_vals]\n",
    "    \n",
    "\n",
    "plt.show()\n",
    "\n",
    "\"\"\"\n",
    "The point of intersection here is x = 4log(n)\n",
    "\"\"\""
   ]
  },
  {
   "cell_type": "code",
   "execution_count": null,
   "metadata": {},
   "outputs": [],
   "source": [
    "# R-3.3\n",
    "\n",
    "x = [i for i in range(1,25)]\n",
    "\n",
    "functions = [lambda x: 40*x**2,\n",
    "            lambda x: 2*(x**3)]\n",
    "\n",
    "y_vals = []\n",
    "\n",
    "[y_vals.append(list(map(function, x))) for function in functions]\n",
    "\n",
    "[plt.plot(x,y) for y in y_vals]\n",
    "    \n",
    "\n",
    "plt.show()\n",
    "\n",
    "\"\"\"\n",
    "The point of intersection here is x = 20.\n",
    "\"\"\""
   ]
  },
  {
   "cell_type": "code",
   "execution_count": null,
   "metadata": {},
   "outputs": [],
   "source": [
    "# R-3.4\n",
    "\"\"\"\n",
    "A constant function.\n",
    "\"\"\""
   ]
  },
  {
   "cell_type": "code",
   "execution_count": null,
   "metadata": {},
   "outputs": [],
   "source": [
    "# R-3.5\n",
    "\n",
    "\"\"\"\n",
    "y = n^c\n",
    "\n",
    "Take log on both sides\n",
    "\n",
    "log(y) = c * log(n)\n",
    "\n",
    "Plotting between log(y) and log(n) will form a straight line that passes through origin and has slope c.\n",
    "\"\"\""
   ]
  },
  {
   "cell_type": "code",
   "execution_count": null,
   "metadata": {},
   "outputs": [],
   "source": [
    "# R-3.6\n",
    "\n",
    "def sum_int(j):\n",
    "    total = 0\n",
    "    for i in range(j+1):\n",
    "        total += i\n",
    "    return total\n",
    "\n",
    "\"\"\"\n",
    "The formula for this purpose:\n",
    "\n",
    "(n*(n+1))/2\n",
    "\n",
    "also returns the same ans.\n",
    "\"\"\"\n",
    "\n",
    "print(sum_int(3))"
   ]
  },
  {
   "cell_type": "code",
   "execution_count": null,
   "metadata": {},
   "outputs": [],
   "source": [
    "# R-3.7\n",
    "\n",
    "\"\"\"\n",
    "The running time of the algorithm is f(n) <= c(g(n)) where c>0 and n>=n0 and n0>=1.\n",
    "\n",
    "If the running time of algorithm A is always O(f(n)), it is the equality case of the \n",
    "above definition where c(g(n)) is the worst case.\n",
    "\"\"\""
   ]
  },
  {
   "cell_type": "code",
   "execution_count": null,
   "metadata": {},
   "outputs": [],
   "source": [
    "# R-3.8\n",
    "\n",
    "\"\"\"\n",
    "2^10              <---- constant \n",
    "\n",
    "4n                <---- linear\n",
    "\n",
    "3n + 100logn      <---- linear\n",
    "\n",
    "nlogn             <---- nlogn\n",
    "\n",
    "4nlogn + 2n       <---- nlogn\n",
    "\n",
    "n^2 + 10n         <---- exponential\n",
    "\n",
    "n^3               <---- exponential\n",
    "\n",
    "2^(logn)          <---- exponential\n",
    "\n",
    "2^n               <---- exponential\n",
    "\"\"\"\n",
    "\n",
    "x = [i for i in range(1,25)]\n",
    "\n",
    "functions = [lambda x: 4*x*2,\n",
    "            lambda x: 3*x + 100*log(x)]\n",
    "\n",
    "y_vals = []\n",
    "\n",
    "[y_vals.append(list(map(function, x))) for function in functions]\n",
    "\n",
    "[plt.plot(x,y) for y in y_vals]\n",
    "    \n",
    "\n",
    "plt.show()"
   ]
  },
  {
   "cell_type": "code",
   "execution_count": null,
   "metadata": {},
   "outputs": [],
   "source": [
    "# R-3.9\n",
    "\n",
    "\"\"\"\n",
    "- If d(n) belongs to O(f(n)) => d(n) <= c(f(n)) (by defintion) where c is some constant.\n",
    "\n",
    "- Multiply both sides by some constant a such that a > 0:\n",
    " a*d(n) <= a*c(f(n)) => a*d(n) <= C'(f(n)) = O(f(n)) where C' is some other constant C' = a*d\n",
    " \n",
    "- Thus, a*d(n) also belongs to  O(f(n)).\n",
    "\"\"\""
   ]
  },
  {
   "cell_type": "code",
   "execution_count": null,
   "metadata": {},
   "outputs": [],
   "source": [
    "#  R-3.10\n",
    "\n",
    "\"\"\"\n",
    "If d(n) belongs to O(f(n)) => d(n) <= c(f(n)) (by defintion) where c is some constant.\n",
    "\n",
    "If e(n) belongs to O(g(n)) => e(n) <= c'(g(n)) (by defintion) where c' is some constant.\n",
    "\n",
    "Multiplying both:\n",
    "\n",
    "d(n)*e(n) <= c(f(n))*c'(g(n))\n",
    "d(n)*e(n) <= C(f(n))*(g(n)) where C = c*c'\n",
    "d(n)*e(n) <= C(Z(n)) where Z(n)=f(n))*(g(n)\n",
    "\n",
    "Thus d(n)*e(n) belongs to O(Z(n)) = O(f(n)*g(n)).\n",
    "\"\"\""
   ]
  },
  {
   "cell_type": "code",
   "execution_count": null,
   "metadata": {},
   "outputs": [],
   "source": [
    "# R-3.11\n",
    "\n",
    "\"\"\"Basically the same argument as above but for addition.\"\"\""
   ]
  },
  {
   "cell_type": "code",
   "execution_count": null,
   "metadata": {},
   "outputs": [],
   "source": [
    "# R-3.12\n",
    "\n",
    "\"\"\"\n",
    "- Can't extend the above argument in case of subtraction.\n",
    "\n",
    "- Reason being d(n) belongs to O(f(n)) could be a constant function\n",
    "while e(n) that belongs to O(g(n)) could be an exponential one.\n",
    "\n",
    "- That function obtained after subtraction could very well be part \n",
    "of the O(g(n)) (the more populous set), not necessarily a part of \n",
    "O(g(n)) - O(f(n)).\n",
    "\"\"\""
   ]
  },
  {
   "cell_type": "code",
   "execution_count": null,
   "metadata": {},
   "outputs": [],
   "source": [
    "# R-3.13\n",
    "\n",
    "\"\"\"\n",
    "Show that if d(n) is O(f(n)) and f(n) is O(g(n)), then d(n) is O(g(n)).\n",
    "\"\"\"\n",
    "\n",
    "\"\"\"\n",
    "d(n) =< c*f(n)         <--- (1)\n",
    "\n",
    "f(n) =< a*g(n)\n",
    "\n",
    "c*f(n) =< a*c*g(n)     <--- (2)\n",
    "\n",
    "Using (1) and (2)\n",
    "\n",
    "d(n) =< c*f(n) =< a*c*g(n)\n",
    "\n",
    "which is the same as:\n",
    "\n",
    "d(n) belongs to O(f(n)) belongs to O(g(n))\n",
    "\n",
    "Thus d(n) belongs to O(g(n)).\n",
    "\n",
    "\"\"\""
   ]
  },
  {
   "cell_type": "code",
   "execution_count": null,
   "metadata": {},
   "outputs": [],
   "source": [
    "# R-3.14 [UNSOLVED]\n",
    "\n",
    "\"\"\"\n",
    "Show that O(max{f(n),g(n)}) = O(f(n)+g(n)).\n",
    "\"\"\"\n",
    "\n",
    "\"\"\"\n",
    "\n",
    "d(n) =< c*max{f(n), g(n)}\n",
    "\n",
    "\n",
    "\"\"\""
   ]
  },
  {
   "cell_type": "code",
   "execution_count": null,
   "metadata": {},
   "outputs": [],
   "source": [
    "# R-3.15\n",
    "\n",
    "\"\"\"\n",
    "Given: g(n) >= a*f(n)      \n",
    "\n",
    "Divide both sides by a (a > 0)\n",
    "\n",
    "(1/a)*g(n) >= f(n)\n",
    "\n",
    "Let 1/a = c\n",
    "\n",
    "c*g(n) >= f(n)   =>   f(n) =< c*g(n)     =>   f(n) is O(g(n))\n",
    "\"\"\""
   ]
  },
  {
   "cell_type": "code",
   "execution_count": null,
   "metadata": {},
   "outputs": [],
   "source": [
    "# R-3.16\n",
    "\n",
    "\"\"\"\n",
    "Show that if p(n) is a polynomial in n, then log p(n) is O(logn).\n",
    "\"\"\"\n",
    "\n",
    "\"\"\"\n",
    "p(n) = O(n^d)    where d is degree of the polynomial\n",
    "\n",
    "=> p(n) =< c(n^d)\n",
    "\n",
    "taking log on both side:\n",
    "\n",
    "log(p(n)) =< log(c) + dlog(n)   =>   log(p(n)) is O(log(n))\n",
    "\n",
    "We can drop the constant log(c) and the constant d.\n",
    "\"\"\""
   ]
  },
  {
   "cell_type": "code",
   "execution_count": null,
   "metadata": {},
   "outputs": [],
   "source": [
    "# R-3.17\n",
    "\n",
    "\"\"\"\n",
    "On exapanding the given function, the degree of the expression is 5. Hence the run-time will be O(n^5).\n",
    "\"\"\""
   ]
  },
  {
   "cell_type": "code",
   "execution_count": null,
   "metadata": {},
   "outputs": [],
   "source": [
    "# R-3.18\n",
    "\n",
    "\"\"\"\n",
    "2^(n+1) = 2*(2^n)\n",
    "\n",
    "We can drop the constant value from the 2*(2^n) to get 2^n. Thus f(n) belongs to O(2^n). \n",
    "\"\"\""
   ]
  },
  {
   "cell_type": "code",
   "execution_count": null,
   "metadata": {},
   "outputs": [],
   "source": [
    "# R-3.19\n",
    "\"\"\"\n",
    "Show that n is O(nlog n).\n",
    "\"\"\"\n",
    "\n",
    "\"\"\"\n",
    "Big-oh: f(n) =< c(g(n)) for n>=n0 and c>0\n",
    "In our case, f(n) = n and g(n) = nlog n. For any value n>2, the above will hold.\n",
    "Thus, n is a part of O(nlog n)\n",
    "\n",
    "ALTERNATIVELY\n",
    "\n",
    "Using the result of problem 10:  d(n)*e(n) belongs to O(f(n)*g(n)).\n",
    "For our case, we can take take \n",
    "- d(n) = n and f(n) = n \n",
    "- e(n) = 1 and g(n) = log n\n",
    "Thus, n belongs to O(nlog n).\n",
    "\"\"\""
   ]
  },
  {
   "cell_type": "code",
   "execution_count": null,
   "metadata": {},
   "outputs": [],
   "source": [
    "# R-3.20\n",
    "\n",
    "\"\"\"\n",
    "Big Omega: f(n) >= c(g(n)) for n >= n0, c > 0 and n0 >= 1\n",
    "\n",
    "Setting f(n) = n^2 and g(n) = nlog n. For any n >= 1 and appropriate c, n^2 belongs to Ω(nlog n).  \n",
    "\"\"\""
   ]
  },
  {
   "cell_type": "code",
   "execution_count": null,
   "metadata": {},
   "outputs": [],
   "source": [
    "# R-3.21 [UNSOLVED]\n",
    "\n",
    "\"\"\"\n",
    "\n",
    "\"\"\""
   ]
  },
  {
   "cell_type": "code",
   "execution_count": null,
   "metadata": {},
   "outputs": [],
   "source": [
    "# R-3.22"
   ]
  },
  {
   "cell_type": "code",
   "execution_count": null,
   "metadata": {},
   "outputs": [],
   "source": [
    "# R-3.23\n",
    "\n",
    "def example1(S):\n",
    "    n = len(S) # Findind the length is a constant time operation: O(1\n",
    "    total = 0 #  O(1) \n",
    "    for j in range(n): # loop from 0 to n-1  The loop goes n times \n",
    "        total += S[j]   #  Addition and getting the element both are: O(1) \n",
    "    return total #  O(1) \n",
    "\n",
    "\"\"\"\n",
    "All operations are O(1). The for loop goes for n iterations, the body having only constant time \n",
    "operations the net run-time is O(n).\n",
    "\n",
    "Adding all the above we get 5 O(1) and 1 O(n). Hence the net run-time is O(n).\n",
    "\"\"\""
   ]
  },
  {
   "cell_type": "code",
   "execution_count": null,
   "metadata": {},
   "outputs": [],
   "source": [
    "# R-3.24\n",
    "\n",
    "def example2(S):\n",
    "    n = len(S) # O(1) \n",
    "    total = 0  # O(1)\n",
    "    for j in range(0, n, 2): # note the increment of 2, The loop iterates n/2 times: O(n)\n",
    "        total += S[j] # Both operations are O(1)\n",
    "    return total # O(1)\n",
    "\n",
    "\"\"\"\n",
    "The for loop is O(n) while all the rest opeartions are O(1). Thus the net run time is O(n).  \n",
    "\"\"\""
   ]
  },
  {
   "cell_type": "code",
   "execution_count": null,
   "metadata": {},
   "outputs": [],
   "source": [
    "# R-3.25\n",
    "\n",
    "def example3(S):\n",
    "    n = len(S) # O(1)\n",
    "    total = 0 # O(1)\n",
    "    for j in range(n): # loop from 0 to n-1, loops n-1 times\n",
    "        for k in range(1+j): # loop from 0 to j, loops 1+2+3+4+.....+n-1+n times\n",
    "            total += S[k] # Both operations take O(1)\n",
    "    return total # O(1)\n",
    "\n",
    "\"\"\"\n",
    "Outer loop runs n times and the inner one runs 1+2+3+4+.....+n-1+n times. All the other opeartions, \n",
    "inside or outside the loops take O(1) time. Thus the net run-time will be O(n^2) plus all the O(1)s.\n",
    "\"\"\""
   ]
  },
  {
   "cell_type": "code",
   "execution_count": null,
   "metadata": {},
   "outputs": [],
   "source": [
    "# R-3.26\n",
    "\n",
    "def example4(S):\n",
    "    n = len(S) # O(1)\n",
    "    prefix = 0 # O(1)\n",
    "    total = 0 # O(1)\n",
    "    for j in range(n): # loop runs n times\n",
    "        prefix += S[j] # both are O(1)\n",
    "        total += prefix # both are O(1)\n",
    "    return total # O(1)\n",
    "\n",
    "\"\"\"\n",
    "Run-time is O(n).\n",
    "\"\"\""
   ]
  },
  {
   "cell_type": "code",
   "execution_count": null,
   "metadata": {},
   "outputs": [],
   "source": [
    "# R-3.27\n",
    "\n",
    "def example5(A, B): # assume that A and B have equal length\n",
    "    n = len(A) #  O(1)\n",
    "    count = 0 # O(1)\n",
    "    for i in range(n): # loop from 0 to n-1\n",
    "        total = 0 # O(1)\n",
    "        for j in range(n): # loop from 0 to n-1\n",
    "            for k in range(1+j): # loop from 0 to j, loop runs 1+2+3+4+....n times\n",
    "                total += A[k] # both O(1)\n",
    "        if B[i] == total: # both O(1)\n",
    "            count += 1 # both O(1)\n",
    "    return count # O(1)\n",
    "\n",
    "\"\"\"\n",
    "Outer loop has n calls.\n",
    "Inner one has n-1 calls. Each iterations of this loop further calls another another for loop, resulting\n",
    "in O(n^2.)\n",
    "\n",
    "Both the inner loops are called n times by the outer loop, hence O(n*n^2) = O(n^3).\n",
    "\"\"\""
   ]
  },
  {
   "cell_type": "code",
   "execution_count": null,
   "metadata": {},
   "outputs": [],
   "source": [
    "# R-3.28 [UNSOLVED]\n",
    "\n",
    "\"\"\"\n",
    "\n",
    "\"\"\""
   ]
  },
  {
   "cell_type": "code",
   "execution_count": null,
   "metadata": {},
   "outputs": [],
   "source": [
    "# R-3.29\n",
    "\n",
    "\"\"\"\n",
    "O(nlog n)\n",
    "\"\"\""
   ]
  },
  {
   "cell_type": "code",
   "execution_count": null,
   "metadata": {},
   "outputs": [],
   "source": [
    "# R-3.30\n",
    "\n",
    "\"\"\"\n",
    "Each of the chosen log n elements involve execution of O(n) time operation(s). Hence net run-time is\n",
    "O(nlog n).\n",
    "\"\"\""
   ]
  },
  {
   "cell_type": "code",
   "execution_count": null,
   "metadata": {},
   "outputs": [],
   "source": [
    "# R-3.31\n",
    "\n",
    "\"\"\"\n",
    "Worst: All are even: O(n)\n",
    "Best: All are odd: O(log n)\n",
    "\"\"\""
   ]
  },
  {
   "cell_type": "code",
   "execution_count": 4,
   "metadata": {},
   "outputs": [
    {
     "data": {
      "text/plain": [
       "'\\nWorst Case: E runs on the nth element of S taking O(n) time. Going through the whole array the \\nnumberof calls would have been: 1+2+3+4+...+n. This shows O(n*(n+1)/2) => 0(n) run-time.\\n'"
      ]
     },
     "execution_count": 4,
     "metadata": {},
     "output_type": "execute_result"
    }
   ],
   "source": [
    "# R-3.32 !!!Not very sure about this one!!!\n",
    "\n",
    "\"\"\"\n",
    "Worst Case: E runs on the nth element of S taking O(n) time. Going through the whole array the \n",
    "numberof calls would have been: 1+2+3+4+...+n. This shows O(n*(n+1)/2) => 0(n) run-time.\n",
    "\"\"\""
   ]
  },
  {
   "cell_type": "code",
   "execution_count": 13,
   "metadata": {},
   "outputs": [
    {
     "data": {
      "text/plain": [
       "15.051499783199061"
      ]
     },
     "execution_count": 13,
     "metadata": {},
     "output_type": "execute_result"
    }
   ],
   "source": [
    "# R-3.33\n",
    "\n",
    "\"\"\"\n",
    "The O(n) notation or the big-oh takes into account only the worst case run-time. f(n) <= c*g(n).\n",
    "\n",
    "Thus for A algorithm: a(nlog n)\n",
    "Thus for B algorithm: b(n^2)\n",
    "\n",
    "These run-times are equal for n = 100.\n",
    "\n",
    "anlogn = bn^2\n",
    "a/b = n/logn\n",
    "a = 15.05*b\n",
    "\n",
    "From the above set of equations, we see that time taken by algorithm A is 15 times the time taken by B.\n",
    "As the number of calls increase further, algorithm B will turn out to be faster.\n",
    "\"\"\"\n",
    "\n",
    "from math import log2\n",
    "100/log2(100)"
   ]
  },
  {
   "cell_type": "code",
   "execution_count": 18,
   "metadata": {},
   "outputs": [
    {
     "data": {
      "image/png": "[encoded data removed]",
      "text/plain": [
       "<Figure size 432x288 with 1 Axes>"
      ]
     },
     "metadata": {
      "needs_background": "light"
     },
     "output_type": "display_data"
    }
   ],
   "source": [
    "# R-3.34\n",
    "\n",
    "\"\"\"\n",
    "Out of n number of meals, the very best meal can be only 1. The probability of such a meal will then \n",
    "be 1/n.\n",
    "\n",
    "The sum of such good meal occurences will be sum of all (1/n)s. Integral of 1/x is ln x \n",
    "( I dropped the c).\n",
    "\n",
    "Below is a plot of ln x.\n",
    "\"\"\"\n",
    "\n",
    "from math import log \n",
    "\n",
    "x = [i for i in range(1,100000)]\n",
    "y = list(map(lambda x: log(x), x))\n",
    "\n",
    "plt.plot(x,y)\n",
    "\n",
    "plt.show()"
   ]
  },
  {
   "cell_type": "markdown",
   "metadata": {},
   "source": [
    "## Creativity"
   ]
  },
  {
   "cell_type": "code",
   "execution_count": 29,
   "metadata": {},
   "outputs": [
    {
     "data": {
      "text/plain": [
       "'\\nUsing the given algorithm, all the 3 arrays can be sorted. On these sorted arrays, using counter\\nindices, compare the element values. Keep comparing them until either of the 2 scenarios:\\n- Elements turn out be equal: return True straightaway.\\n- Keep comparing the elements until an equal value is found or a greater one. Once the greater value\\nis found, increment the index.\\nThis can be completed using primitive operations such as comparision operators and if-elif statements, \\nall of which will be constant time operations. Traversing the array with constant time operations \\nmeans a run-time of O(n) \\n\\nHence the net run-time will be O(nlog n + n) = O(nlog n.\\n'"
      ]
     },
     "execution_count": 29,
     "metadata": {},
     "output_type": "execute_result"
    }
   ],
   "source": [
    "# R-3.35\n",
    "\n",
    "\"\"\"\n",
    "Assuming it is possible to sort n numbers in O(nlog n) time, show that it\n",
    "is possible to solve the three-way set disjointness problem in O(nlogn)\n",
    "time.\n",
    "\"\"\"\n",
    "\n",
    "\"\"\"\n",
    "Using the given algorithm, all the 3 arrays can be sorted. On these sorted arrays, using counter\n",
    "indices, compare the element values. Keep comparing them until either of the 2 scenarios:\n",
    "- Elements turn out be equal: return True straightaway.\n",
    "- Keep comparing the elements until an equal value is found or a greater one. Once the greater value\n",
    "is found, increment the index.\n",
    "This can be completed using primitive operations such as comparision operators and if-elif statements, \n",
    "all of which will be constant time operations. Traversing the array with constant time operations \n",
    "means a run-time of O(n) \n",
    "\n",
    "Hence the net run-time will be O(nlog n + n) = O(nlog n.\n",
    "\"\"\""
   ]
  },
  {
   "cell_type": "code",
   "execution_count": 30,
   "metadata": {},
   "outputs": [
    {
     "name": "stdout",
     "output_type": "stream",
     "text": [
      "[5, 4, 3, 2]\n",
      "[65, 54, 7, 5]\n"
     ]
    },
    {
     "data": {
      "text/plain": [
       "'\\nThe loop run \"terms\" number of times, with the whole body being constant run time. The sorted() function\\nis O(nlog n). \\n\\nAdding all the run-times we get: O(n), terms*O(1) and O(nlog n) resulting in a net run-time of O(nlog n).\\n'"
      ]
     },
     "execution_count": 30,
     "metadata": {},
     "output_type": "execute_result"
    }
   ],
   "source": [
    "# R-3.36\n",
    "\n",
    "def top_ten(array, terms):\n",
    "    a, array = [0]*terms, sorted(array, reverse=True) # list initialisation is O(n), sorted is O(nlogn)\n",
    "    for i in range(terms): # loop runs \"terms\" number of times\n",
    "        a[i] = array[i] # O(1)\n",
    "    return a # O(1)\n",
    "\n",
    "print(top_ten([1,2,3,4,5], 4))\n",
    "print(top_ten([1,2,3,4,5,7,4,3,54,65,3,2], 4))\n",
    "\n",
    "\"\"\"\n",
    "The loop run \"terms\" number of times, with the whole body being constant run time. The sorted() function\n",
    "is O(nlog n). \n",
    "\n",
    "Adding all the run-times we get: O(n), terms*O(1) and O(nlog n) resulting in a net run-time of O(nlog n).\n",
    "\"\"\""
   ]
  },
  {
   "cell_type": "code",
   "execution_count": 31,
   "metadata": {},
   "outputs": [],
   "source": [
    "# R-3.37 [UNSOLVED]"
   ]
  },
  {
   "cell_type": "code",
   "execution_count": 32,
   "metadata": {},
   "outputs": [
    {
     "data": {
      "text/plain": [
       "'\\nSum of squares of integers is given by n*(n+1)*(2n+1)/6 which has the highest power of n = 3.\\n'"
      ]
     },
     "execution_count": 32,
     "metadata": {},
     "output_type": "execute_result"
    }
   ],
   "source": [
    "# R-3.38\n",
    "\n",
    "\"\"\"\n",
    "Sum of squares of integers is given by n*(n+1)*(2n+1)/6 which has the highest power of n = 3.\n",
    "\"\"\""
   ]
  },
  {
   "cell_type": "code",
   "execution_count": null,
   "metadata": {},
   "outputs": [],
   "source": [
    "# R-3.39 [UNSOLVED]\n",
    "\n",
    "\"\"\"\n",
    "\n",
    "\"\"\""
   ]
  },
  {
   "cell_type": "code",
   "execution_count": null,
   "metadata": {},
   "outputs": [],
   "source": [
    "# R-3.40\n",
    "\n",
    "\"\"\"\n",
    "Big Theta: c'g(n) =< f(n) =< c''g(n)\n",
    "\n",
    "c'g(n) =< log(f(n))/logb =< c''g(n)\n",
    "\n",
    "C' g(n) =< log(f(n)) =< C'' g(n)\n",
    "\n",
    "which is the same as Θ(logf(n)).\n",
    "\"\"\""
   ]
  },
  {
   "cell_type": "code",
   "execution_count": 33,
   "metadata": {},
   "outputs": [],
   "source": [
    "# R-3.41 [UNSOLVED]"
   ]
  },
  {
   "cell_type": "code",
   "execution_count": 34,
   "metadata": {},
   "outputs": [
    {
     "data": {
      "text/plain": [
       "'\\nLet all i friends visit the website once. The counter C = i\\nFriend of index i = 1 had only one chance to visit which (s)he has done.\\n'"
      ]
     },
     "execution_count": 34,
     "metadata": {},
     "output_type": "execute_result"
    }
   ],
   "source": [
    "# R-3.42\n",
    "\n",
    "\"\"\"\n",
    "Let all i friends visit the website once. The counter C = i\n",
    "Friend of index i = 1 had only one chance to visit which (s)he has done.\n",
    "\"\"\""
   ]
  },
  {
   "cell_type": "code",
   "execution_count": null,
   "metadata": {},
   "outputs": [],
   "source": [
    "# R-3.43 [UNSOLVED]"
   ]
  },
  {
   "cell_type": "code",
   "execution_count": 38,
   "metadata": {},
   "outputs": [
    {
     "data": {
      "text/plain": [
       "'\\nInteger of upto 100 bits means 100 places that can take a value of either 0 or 1.\\n\\n2^100 such combinations would be possible. The largest base 2 number would be all the places\\nequal to 1, that is, 1 written a hundered times.\\n\\nIn base 10, such a number would be 1.2e30.\\n\\na. One does not need to check for all the numbers till 1.2e30 for its factors. We only needs to check\\nuntil its square root. Square root of 1.2e30 will be: 1.09e15. \\nUsing the naive algorithm, every number from 1 to 1.09e15 will divide r. This endeavour willl take \\n1.09e15 * 1e-6 seconds (each operation is expected to take a millionth of a second) or 1.09e9 seconds.\\n'"
      ]
     },
     "execution_count": 38,
     "metadata": {},
     "output_type": "execute_result"
    }
   ],
   "source": [
    "# R-3.44\n",
    "\n",
    "\"\"\"\n",
    "Integer of upto 100 bits means 100 places that can take a value of either 0 or 1.\n",
    "\n",
    "2^100 such combinations would be possible. The largest base 2 number would be all the places\n",
    "equal to 1, that is, 1 written a hundered times.\n",
    "\n",
    "In base 10, such a number would be 1.2e30.\n",
    "\n",
    "a. One does not need to check for all the numbers till 1.2e30 for its factors. We only needs to check\n",
    "until its square root. Square root of 1.2e30 will be: 1.09e15. \n",
    "Using the naive algorithm, every number from 1 to 1.09e15 will divide r. This endeavour willl take \n",
    "1.09e15 * 1e-6 seconds (each operation is expected to take a millionth of a second) or 1.09e9 seconds.\n",
    "\n",
    "b. COULD NOT FIGURE THIS ONE OUT YET.\n",
    "\"\"\""
   ]
  },
  {
   "cell_type": "code",
   "execution_count": 42,
   "metadata": {},
   "outputs": [
    {
     "data": {
      "text/plain": [
       "'\\nAll the operations within the loop take O(1) time and loop runs len(s) times.\\nThus this function runs in O(n) time.\\n'"
      ]
     },
     "execution_count": 42,
     "metadata": {},
     "output_type": "execute_result"
    }
   ],
   "source": [
    "# R-3.45\n",
    "\n",
    "from random import randint\n",
    "\n",
    "s = [i for i in range(100)]\n",
    "random_int = randint(1,100)\n",
    "s.pop(random_int)\n",
    "\n",
    "def find(s):\n",
    "    for i in s: # runs len(s) times\n",
    "        if i in range(len(s)+1): # O(1), checking in range() takes O(1) in Python3, if runs len(s)-1 times\n",
    "            continue \n",
    "        else:\n",
    "            return i # O(1)\n",
    "\n",
    "\"\"\"\n",
    "All the operations within the loop take O(1) time and loop runs len(s) times.\n",
    "Thus this function runs in O(n) time.\n",
    "\"\"\""
   ]
  },
  {
   "cell_type": "code",
   "execution_count": 43,
   "metadata": {},
   "outputs": [
    {
     "data": {
      "text/plain": [
       "'\\nI have not really studied induction, but my guess is induction involves proving incrementally, \\nlike sheep 1 is white, so is sheep 2 and so on. Out of all the sheeps, a couple of them may \\nhave a different color and then the argument would not hold. \\n'"
      ]
     },
     "execution_count": 43,
     "metadata": {},
     "output_type": "execute_result"
    }
   ],
   "source": [
    "# R-3.46\n",
    "\n",
    "\"\"\"\n",
    "I have not really studied induction, but my guess is induction involves proving incrementally, \n",
    "like sheep 1 is white, so is sheep 2 and so on. Out of all the sheeps, a couple of them may \n",
    "have a different color and then the argument would not hold. \n",
    "\"\"\""
   ]
  },
  {
   "cell_type": "code",
   "execution_count": null,
   "metadata": {},
   "outputs": [],
   "source": [
    "# R-3.47\n",
    "\n",
    "\"\"\"\n",
    "Let S be a set of n lines in the plane such that no two are parallel and\n",
    "no three meet in the same point. Show, by induction, that the lines in S\n",
    "determine Θ(n2) intersection points.\n",
    "\"\"\"\n",
    "\n",
    "\"\"\"\n",
    "1 line: 0 intersection points\n",
    "2 lines: 1 intersection points\n",
    "3 lines: 3 intersection points\n",
    "4 lines: 6 intersection points\n",
    ".  .  .   .   .   .   .   .   .\n",
    ".  .  .   .   .   .   .   .   .\n",
    ".  .  .   .   .   .   .   .   .\n",
    ".  .  .   .   .   .   .   .   .\n",
    ".  .  .   .   .   .   .   .   .\n",
    "n lines: nC2 intersection points\n",
    "\n",
    "nC2 can be written as n(n-1)/2 which translates to O(n^2).\n",
    "\"\"\""
   ]
  },
  {
   "cell_type": "code",
   "execution_count": 44,
   "metadata": {},
   "outputs": [],
   "source": [
    "# R-3.48\n",
    "\n",
    "\"\"\"\n",
    "[Not very sure about this.]\n",
    "\n",
    "In the base case, n represents the number of terms in the series.\n",
    "\n",
    "In the Induction step, the n has been used, as a number which is a part of the series. \n",
    "\"\"\""
   ]
  },
  {
   "cell_type": "code",
   "execution_count": 45,
   "metadata": {},
   "outputs": [
    {
     "data": {
      "text/plain": [
       "'\\nF(n) >= c(1.5^n) for some c>0.\\n\\n\\n'"
      ]
     },
     "execution_count": 45,
     "metadata": {},
     "output_type": "execute_result"
    }
   ],
   "source": [
    "# R-3.49 [UNSOLVED]\n",
    "\n",
    "\"\"\"\n",
    "Consider the Fibonacci function, F(n) (see Proposition 3.20). Show by\n",
    "induction that F(n) is Ω((3/2)^n).\n",
    "\"\"\"\n",
    "\n",
    "\"\"\"\n",
    "F(n) >= c(1.5^n) for some c>0.\n",
    "\n",
    "\n",
    "\"\"\""
   ]
  },
  {
   "cell_type": "code",
   "execution_count": null,
   "metadata": {},
   "outputs": [],
   "source": [
    "# R-3.50\n",
    "\n",
    "\"\"\"\n",
    "a. Function takes the number of terms desired as the argument.\n",
    "An empty list is initialised. A for loop is run for as many number \n",
    "of times as the argument is passed. In the loop each value is\n",
    "calculated and added to the list. Lastly, the sum of the list \n",
    "is returned.\n",
    "Here the loop does not have all constant operations. Python's append\n",
    "method takes O(n) and this O(n) append operation has to be carried\n",
    "out in each iteration of the loop. Thus the time taken is O(n^2).\n",
    "\n",
    "\n",
    "b. Function takes the number of terms desired as the argument.\n",
    "A variable is initialised to 0. A for loop is run for as many\n",
    "number of times as the argument that is passed.\n",
    "Within the for loop, the variable is updated by summing the \n",
    "product of a and x for that i. Both of these will take constant\n",
    "time.\n",
    "The loop runs for n (let's say) iterations, doing only constant\n",
    "time operations. Thus this algorithm will take O(n) time.\n",
    "\n",
    "c. Here there will be only O(n) additions and O(n) multiplications.\n",
    "\"\"\""
   ]
  },
  {
   "cell_type": "code",
   "execution_count": 46,
   "metadata": {},
   "outputs": [
    {
     "data": {
      "text/plain": [
       "'\\nf(n) = log1 + log2 + log3 + .... + logn\\n=> log(1*2*3*....*n) => log(n!)\\n\\nlog(n!) =< c*nlog(n)\\n=> log(n!) =< c*log(n^n)   (since, n! < n^n)\\n\\nThus f(n) is O(nlog n)\\n'"
      ]
     },
     "execution_count": 46,
     "metadata": {},
     "output_type": "execute_result"
    }
   ],
   "source": [
    "# R-3.51\n",
    "\n",
    "\"\"\"\n",
    "f(n) = log1 + log2 + log3 + .... + logn\n",
    "=> log(1*2*3*....*n) => log(n!)\n",
    "\n",
    "log(n!) =< c*nlog(n)\n",
    "=> log(n!) =< c*log(n^n)   (since, n! < n^n)\n",
    "\n",
    "Thus f(n) is O(nlog n)\n",
    "\"\"\""
   ]
  },
  {
   "cell_type": "code",
   "execution_count": null,
   "metadata": {},
   "outputs": [],
   "source": [
    "# R-3.52\n",
    "\n",
    "\"\"\"\n",
    "f(n) = log1 + log2 + log3 + .... + logn\n",
    "=> log(1*2*3*....*n) => log(n!)\n",
    "\n",
    "log(n!) >= c*nlog(n)\n",
    "=> log(n!) >= C*log(n)   (where C = c*n)\n",
    "\n",
    "Thus f(n) is Ω(nlog n) also.\n",
    "\"\"\""
   ]
  },
  {
   "cell_type": "code",
   "execution_count": null,
   "metadata": {},
   "outputs": [],
   "source": [
    "# R-3.53 [UNSOLVED]\n",
    "\n",
    "\"\"\"\n",
    "Probability of getting poisoned wine is 1/n.\n",
    "\"\"\""
   ]
  },
  {
   "cell_type": "code",
   "execution_count": 81,
   "metadata": {},
   "outputs": [
    {
     "name": "stdout",
     "output_type": "stream",
     "text": [
      "4\n",
      "944\n"
     ]
    }
   ],
   "source": [
    "# R-3.54\n",
    "\n",
    "\"\"\"\n",
    "Below runs in O(n) time.\n",
    "\"\"\"\n",
    "from random import randint\n",
    "\n",
    "def find_max(array):\n",
    "    d = {} # O(1)\n",
    "    for i in array: # runs n times\n",
    "        d[i] = 0 # O(1)\n",
    "    for i in array: # runs n times\n",
    "        d[i] = d[i] + 1 # O(1), python docs give dict accessing O(n) for the average case\n",
    "    flag, key_track = 0, 0 # O(1)\n",
    "    for key, value in d.items():  # runs n times \n",
    "        if value > flag: # O(1)\n",
    "            flag = value # O(1)\n",
    "            key_track = key # O(1)\n",
    "    return key_track # O(1)\n",
    "\n",
    "print(find_max([1,2,3,4,4,2,1,3,4,5]))\n",
    "print(find_max([randint(1,1000) for i in range(100)]))"
   ]
  },
  {
   "cell_type": "markdown",
   "metadata": {},
   "source": [
    "## Projects"
   ]
  },
  {
   "cell_type": "code",
   "execution_count": 6,
   "metadata": {},
   "outputs": [
    {
     "data": {
      "image/png": "[encoded data removed]",
      "text/plain": [
       "<Figure size 432x288 with 1 Axes>"
      ]
     },
     "metadata": {
      "needs_background": "light"
     },
     "output_type": "display_data"
    },
    {
     "data": {
      "image/png": "[encoded data removed]",
      "text/plain": [
       "<Figure size 432x288 with 1 Axes>"
      ]
     },
     "metadata": {
      "needs_background": "light"
     },
     "output_type": "display_data"
    },
    {
     "data": {
      "image/png": "[encoded data removed]",
      "text/plain": [
       "<Figure size 432x288 with 1 Axes>"
      ]
     },
     "metadata": {
      "needs_background": "light"
     },
     "output_type": "display_data"
    },
    {
     "data": {
      "text/plain": [
       "\"\\nAs expected, the functions ran in following time:\\n- prefix_average1: O(n^2)\\n- prefix_average2: O(n^2)\\n- prefix_average3: O(n)\\n\\nThe charts show vertical lines. I don't know why that happens.\\n\""
      ]
     },
     "execution_count": 6,
     "metadata": {},
     "output_type": "execute_result"
    }
   ],
   "source": [
    "# P-3.55\n",
    "\n",
    "from matplotlib import pyplot as plt\n",
    "\n",
    "\n",
    "def timer_decorator(func):\n",
    "    import time\n",
    "    def wrapper(*args, **kwargs):\n",
    "        t1 = time.time()\n",
    "        result = func(*args, **kwargs)\n",
    "        t_delta = time.time() - t1\n",
    "        # print(f\"The function {func.__name__} took\", t_delta, \"seconds.\")\n",
    "        return t_delta\n",
    "    return wrapper\n",
    "\n",
    "@timer_decorator\n",
    "def prefix_average1(S):\n",
    "    n = len(S)\n",
    "    A = [0]*n # create new list of n zeros\n",
    "    for j in range(n):\n",
    "        total = 0 # begin computing S[0] + ... + S[j]\n",
    "        for i in range(j + 1):\n",
    "            total += S[i]\n",
    "        A[j] = total / (j+1) # record the average\n",
    "    return A\n",
    "\n",
    "@timer_decorator\n",
    "def prefix_average2(S):\n",
    "    n = len(S)\n",
    "    A = [0]*n # create new list of n zeros\n",
    "    for j in range(n):\n",
    "        A[j] = sum(S[0:j+1]) / (j+1) # record the average\n",
    "    return A\n",
    "\n",
    "@timer_decorator\n",
    "def prefix_average3(S):\n",
    "    n = len(S)\n",
    "    A = [0]*n # create new list of n zeros\n",
    "    total = 0 # compute prefix sum as S[0] + S[1] + ...\n",
    "    for j in range(n):\n",
    "        total += S[j] # update prefix sum to include S[j]\n",
    "        A[j] = total / (j+1) # compute average based on current sum\n",
    "    return A\n",
    "\n",
    "def get_the_time(start, end, func):\n",
    "    x_s = [[i for i in range(1,j)] for j in range(start, end)]\n",
    "    n, t = [], []\n",
    "    for i in x_s:\n",
    "        n.append(len(i))\n",
    "        result = func(i)\n",
    "        t.append(result)\n",
    "    def plotter(n, t):\n",
    "        plt.plot(n, t)\n",
    "        plt.yscale('log')\n",
    "        plt.xscale('log')\n",
    "        plt.ylabel('Time Taken')\n",
    "        plt.xlabel('N- Input Size')\n",
    "        return plt.show()\n",
    "    plotter(n, t)\n",
    "    return n, t\n",
    "\n",
    "get_the_time(100, 1000, prefix_average1)\n",
    "get_the_time(100, 1000, prefix_average2)\n",
    "get_the_time(100, 10000, prefix_average3)\n",
    "\n",
    "\n",
    "\"\"\"\n",
    "As expected, the functions ran in following time:\n",
    "- prefix_average1: O(n^2)\n",
    "- prefix_average2: O(n^2)\n",
    "- prefix_average3: O(n)\n",
    "\n",
    "The charts show vertical lines. I don't know why that happens.\n",
    "\"\"\""
   ]
  },
  {
   "cell_type": "code",
   "execution_count": 26,
   "metadata": {},
   "outputs": [
    {
     "data": {
      "image/png": "[encoded data removed]",
      "text/plain": [
       "<Figure size 432x288 with 1 Axes>"
      ]
     },
     "metadata": {
      "needs_background": "light"
     },
     "output_type": "display_data"
    },
    {
     "data": {
      "image/png": "[encoded data removed]",
      "text/plain": [
       "<Figure size 432x288 with 1 Axes>"
      ]
     },
     "metadata": {
      "needs_background": "light"
     },
     "output_type": "display_data"
    },
    {
     "data": {
      "image/png": "[encoded data removed]",
      "text/plain": [
       "<Figure size 432x288 with 1 Axes>"
      ]
     },
     "metadata": {
      "needs_background": "light"
     },
     "output_type": "display_data"
    },
    {
     "data": {
      "image/png": "[encoded data removed]",
      "text/plain": [
       "<Figure size 432x288 with 1 Axes>"
      ]
     },
     "metadata": {
      "needs_background": "light"
     },
     "output_type": "display_data"
    },
    {
     "data": {
      "text/plain": [
       "\"\\nThe charts again show continuous lines. I don't know why that happens.\\n\""
      ]
     },
     "execution_count": 26,
     "metadata": {},
     "output_type": "execute_result"
    }
   ],
   "source": [
    "# P-3.56\n",
    "\n",
    "from matplotlib import pyplot as plt\n",
    "\n",
    "\n",
    "def timer_decorator(func):\n",
    "    import time\n",
    "    def wrapper(*args, **kwargs):\n",
    "        t1 = time.time()\n",
    "        result = func(*args, **kwargs)\n",
    "        t_delta = time.time() - t1\n",
    "        # print(f\"The function {func.__name__} took\", t_delta, \"seconds.\")\n",
    "        return t_delta\n",
    "    return wrapper\n",
    "\n",
    "@timer_decorator\n",
    "def example1(S):\n",
    "    n = len(S)\n",
    "    total = 0\n",
    "    for j in range(n):\n",
    "        total+= S[j]\n",
    "    return total\n",
    "\n",
    "@timer_decorator\n",
    "def example2(S):\n",
    "    n = len(S)\n",
    "    total = 0\n",
    "    for j in range(0, n, 2):\n",
    "        total += S[j]\n",
    "    return total\n",
    "    \n",
    "@timer_decorator\n",
    "def example3(S):\n",
    "    n = len(S)\n",
    "    total = 0\n",
    "    for j in range(n):\n",
    "        for k in range(1+j):\n",
    "            total += S[k]\n",
    "    return total\n",
    "\n",
    "@timer_decorator\n",
    "def example4(S):\n",
    "    n = len(S)\n",
    "    prefix = 0\n",
    "    total = 0\n",
    "    for j in range(n):\n",
    "        prefix += S[j]\n",
    "        total += prefix\n",
    "    return total\n",
    "\n",
    "def get_the_time(start, end, func):\n",
    "    from random import shuffle\n",
    "    x_s = [[i for i in range(1,j)] for j in range(start, end)]\n",
    "    # shuffle(x_s)\n",
    "    n, t = [], []\n",
    "    for i in x_s:\n",
    "        n.append(len(i))\n",
    "        result = func(i)\n",
    "        t.append(result)\n",
    "    def plotter(t, n):\n",
    "        plt.plot(t, n)\n",
    "        plt.yscale('log')\n",
    "        plt.xscale('log')\n",
    "        plt.ylabel('N- Input Size')\n",
    "        plt.xlabel('Time Taken')\n",
    "        return plt.show()\n",
    "    plotter(t, n)\n",
    "    return n, t\n",
    "\n",
    "get_the_time(100, 1000, example1)\n",
    "get_the_time(100, 1000, example2)\n",
    "get_the_time(100, 1000, example3)\n",
    "get_the_time(100, 1000, example4)\n",
    "\n",
    "\"\"\"\n",
    "The charts again show continuous lines. I don't know why that happens.\n",
    "\"\"\""
   ]
  },
  {
   "cell_type": "code",
   "execution_count": 45,
   "metadata": {},
   "outputs": [
    {
     "data": {
      "image/png": "[encoded data removed]",
      "text/plain": [
       "<Figure size 432x288 with 1 Axes>"
      ]
     },
     "metadata": {
      "needs_background": "light"
     },
     "output_type": "display_data"
    },
    {
     "name": "stdout",
     "output_type": "stream",
     "text": [
      "OK\n"
     ]
    }
   ],
   "source": [
    "# P-3.57\n",
    "\n",
    "from matplotlib import pyplot as plt\n",
    "\n",
    "\n",
    "def timer_decorator(func):\n",
    "    import time\n",
    "    def wrapper(*args, **kwargs):\n",
    "        t1 = time.time()\n",
    "        result = func(*args, **kwargs)\n",
    "        t_delta = time.time() - t1\n",
    "        # print(f\"The function {func.__name__} took\", t_delta, \"seconds.\")\n",
    "        return t_delta\n",
    "    return wrapper\n",
    "\n",
    "@timer_decorator\n",
    "def sorter(S):\n",
    "    x = sorted(S, reverse = True)\n",
    "    return x\n",
    "\n",
    "def get_the_time(start, end, func):\n",
    "    x_s = [[i for i in range(1,j)] for j in range(start, end)]\n",
    "    n, t = [], []\n",
    "    for i in x_s:\n",
    "        n.append(len(i))\n",
    "        result = func(i)\n",
    "        t.append(result)\n",
    "    def plotter(t, n):\n",
    "        plt.plot(t, n)\n",
    "        plt.yscale('log')\n",
    "        plt.xscale('log')\n",
    "        plt.ylabel('N- Input Size')\n",
    "        plt.xlabel('Time Taken')\n",
    "        return plt.show()\n",
    "    plotter(t, n)\n",
    "    return n, t\n",
    "\n",
    "get_the_time(0,5000, sorter)\n",
    "print(\"OK\")"
   ]
  },
  {
   "cell_type": "code",
   "execution_count": 29,
   "metadata": {},
   "outputs": [
    {
     "data": {
      "text/plain": [
       "[2, 2, 3, 4, 6, 6, 7, 14, 45]"
      ]
     },
     "execution_count": 29,
     "metadata": {},
     "output_type": "execute_result"
    }
   ],
   "source": [
    "x = [14,6,3,2,45,6,7,4,2]\n",
    "y = sorted(x)\n",
    "y"
   ]
  }
 ],
 "metadata": {
  "kernelspec": {
   "display_name": "Python 3",
   "language": "python",
   "name": "python3"
  },
  "language_info": {
   "codemirror_mode": {
    "name": "ipython",
    "version": 3
   },
   "file_extension": ".py",
   "mimetype": "text/x-python",
   "name": "python",
   "nbconvert_exporter": "python",
   "pygments_lexer": "ipython3",
   "version": "3.9.1"
  }
 },
 "nbformat": 4,
 "nbformat_minor": 4
}
