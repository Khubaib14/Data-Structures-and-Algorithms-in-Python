{
 "cells": [
  {
   "cell_type": "markdown",
   "metadata": {},
   "source": [
    "# Chapter 2: Object-Oriented Programming"
   ]
  },
  {
   "cell_type": "code",
   "execution_count": 1,
   "metadata": {},
   "outputs": [
    {
     "data": {
      "text/plain": [
       "'Medical Devices.'"
      ]
     },
     "execution_count": 1,
     "metadata": {},
     "output_type": "execute_result"
    }
   ],
   "source": [
    "# R-2.1\n",
    "\"Medical Devices.\""
   ]
  },
  {
   "cell_type": "code",
   "execution_count": 2,
   "metadata": {},
   "outputs": [
    {
     "data": {
      "text/plain": [
       "''"
      ]
     },
     "execution_count": 2,
     "metadata": {},
     "output_type": "execute_result"
    }
   ],
   "source": [
    "# R-2.2\n",
    "\"\""
   ]
  },
  {
   "cell_type": "code",
   "execution_count": 3,
   "metadata": {},
   "outputs": [
    {
     "data": {
      "text/plain": [
       "''"
      ]
     },
     "execution_count": 3,
     "metadata": {},
     "output_type": "execute_result"
    }
   ],
   "source": [
    "# R-2.3\n",
    "\"\""
   ]
  },
  {
   "cell_type": "code",
   "execution_count": 4,
   "metadata": {},
   "outputs": [
    {
     "ename": "AssertionError",
     "evalue": "Argument petal_count should be of type int.",
     "output_type": "error",
     "traceback": [
      "\u001b[1;31m---------------------------------------------------------------------------\u001b[0m",
      "\u001b[1;31mAssertionError\u001b[0m                            Traceback (most recent call last)",
      "\u001b[1;32m<ipython-input-4-bb21b647c3c9>\u001b[0m in \u001b[0;36m<module>\u001b[1;34m\u001b[0m\n\u001b[0;32m     24\u001b[0m \u001b[1;33m\u001b[0m\u001b[0m\n\u001b[0;32m     25\u001b[0m \u001b[1;31m# Throws Error\u001b[0m\u001b[1;33m\u001b[0m\u001b[1;33m\u001b[0m\u001b[1;33m\u001b[0m\u001b[0m\n\u001b[1;32m---> 26\u001b[1;33m \u001b[0mr\u001b[0m \u001b[1;33m=\u001b[0m \u001b[0mFlower\u001b[0m\u001b[1;33m(\u001b[0m\u001b[1;34m'Dandelion'\u001b[0m\u001b[1;33m,\u001b[0m \u001b[1;36m13.5\u001b[0m\u001b[1;33m,\u001b[0m \u001b[1;34m\"2.5\"\u001b[0m\u001b[1;33m)\u001b[0m\u001b[1;33m\u001b[0m\u001b[1;33m\u001b[0m\u001b[0m\n\u001b[0m\u001b[0;32m     27\u001b[0m \u001b[1;33m\u001b[0m\u001b[0m\n\u001b[0;32m     28\u001b[0m \u001b[0mf\u001b[0m \u001b[1;33m=\u001b[0m \u001b[0mFlower\u001b[0m\u001b[1;33m(\u001b[0m\u001b[1;34m\"Rose\"\u001b[0m\u001b[1;33m,\u001b[0m \u001b[1;36m12\u001b[0m\u001b[1;33m,\u001b[0m \u001b[1;36m15.5\u001b[0m\u001b[1;33m)\u001b[0m\u001b[1;33m\u001b[0m\u001b[1;33m\u001b[0m\u001b[0m\n",
      "\u001b[1;32m<ipython-input-4-bb21b647c3c9>\u001b[0m in \u001b[0;36m__init__\u001b[1;34m(self, name, petal_count, price)\u001b[0m\n\u001b[0;32m      5\u001b[0m         \u001b[0mself\u001b[0m\u001b[1;33m.\u001b[0m\u001b[0m_name\u001b[0m \u001b[1;33m=\u001b[0m \u001b[0mself\u001b[0m\u001b[1;33m.\u001b[0m\u001b[0m_petal_count\u001b[0m \u001b[1;33m=\u001b[0m \u001b[0mself\u001b[0m\u001b[1;33m.\u001b[0m\u001b[0m_price\u001b[0m \u001b[1;33m=\u001b[0m \u001b[1;32mNone\u001b[0m\u001b[1;33m\u001b[0m\u001b[1;33m\u001b[0m\u001b[0m\n\u001b[0;32m      6\u001b[0m         \u001b[0mself\u001b[0m\u001b[1;33m.\u001b[0m\u001b[0mset_name\u001b[0m\u001b[1;33m(\u001b[0m\u001b[0mname\u001b[0m\u001b[1;33m)\u001b[0m\u001b[1;33m\u001b[0m\u001b[1;33m\u001b[0m\u001b[0m\n\u001b[1;32m----> 7\u001b[1;33m         \u001b[0mself\u001b[0m\u001b[1;33m.\u001b[0m\u001b[0mset_petal_count\u001b[0m\u001b[1;33m(\u001b[0m\u001b[0mpetal_count\u001b[0m\u001b[1;33m)\u001b[0m\u001b[1;33m\u001b[0m\u001b[1;33m\u001b[0m\u001b[0m\n\u001b[0m\u001b[0;32m      8\u001b[0m         \u001b[0mself\u001b[0m\u001b[1;33m.\u001b[0m\u001b[0mset_price\u001b[0m\u001b[1;33m(\u001b[0m\u001b[0mprice\u001b[0m\u001b[1;33m)\u001b[0m\u001b[1;33m\u001b[0m\u001b[1;33m\u001b[0m\u001b[0m\n\u001b[0;32m      9\u001b[0m     \u001b[1;32mdef\u001b[0m \u001b[0mset_name\u001b[0m\u001b[1;33m(\u001b[0m\u001b[0mself\u001b[0m\u001b[1;33m,\u001b[0m \u001b[0mname\u001b[0m\u001b[1;33m)\u001b[0m\u001b[1;33m:\u001b[0m\u001b[1;33m\u001b[0m\u001b[1;33m\u001b[0m\u001b[0m\n",
      "\u001b[1;32m<ipython-input-4-bb21b647c3c9>\u001b[0m in \u001b[0;36mset_petal_count\u001b[1;34m(self, petal_count)\u001b[0m\n\u001b[0;32m     11\u001b[0m         \u001b[0mself\u001b[0m\u001b[1;33m.\u001b[0m\u001b[0m_name\u001b[0m \u001b[1;33m=\u001b[0m \u001b[0mname\u001b[0m\u001b[1;33m\u001b[0m\u001b[1;33m\u001b[0m\u001b[0m\n\u001b[0;32m     12\u001b[0m     \u001b[1;32mdef\u001b[0m \u001b[0mset_petal_count\u001b[0m\u001b[1;33m(\u001b[0m\u001b[0mself\u001b[0m\u001b[1;33m,\u001b[0m \u001b[0mpetal_count\u001b[0m\u001b[1;33m)\u001b[0m\u001b[1;33m:\u001b[0m\u001b[1;33m\u001b[0m\u001b[1;33m\u001b[0m\u001b[0m\n\u001b[1;32m---> 13\u001b[1;33m         \u001b[1;32massert\u001b[0m \u001b[0mtype\u001b[0m\u001b[1;33m(\u001b[0m\u001b[0mpetal_count\u001b[0m\u001b[1;33m)\u001b[0m \u001b[1;33m==\u001b[0m \u001b[0mint\u001b[0m\u001b[1;33m,\u001b[0m \u001b[1;34m\"Argument petal_count should be of type int.\"\u001b[0m\u001b[1;33m\u001b[0m\u001b[1;33m\u001b[0m\u001b[0m\n\u001b[0m\u001b[0;32m     14\u001b[0m         \u001b[0mself\u001b[0m\u001b[1;33m.\u001b[0m\u001b[0m_petal_count\u001b[0m \u001b[1;33m=\u001b[0m \u001b[0mpetal_count\u001b[0m\u001b[1;33m\u001b[0m\u001b[1;33m\u001b[0m\u001b[0m\n\u001b[0;32m     15\u001b[0m     \u001b[1;32mdef\u001b[0m \u001b[0mset_price\u001b[0m\u001b[1;33m(\u001b[0m\u001b[0mself\u001b[0m\u001b[1;33m,\u001b[0m \u001b[0mprice\u001b[0m\u001b[1;33m)\u001b[0m\u001b[1;33m:\u001b[0m\u001b[1;33m\u001b[0m\u001b[1;33m\u001b[0m\u001b[0m\n",
      "\u001b[1;31mAssertionError\u001b[0m: Argument petal_count should be of type int."
     ]
    }
   ],
   "source": [
    "# R-2.4\n",
    "\n",
    "class Flower():\n",
    "    def __init__(self, name=None, petal_count=None, price=None):\n",
    "        self._name = self._petal_count = self._price = None\n",
    "        self.set_name(name)\n",
    "        self.set_petal_count(petal_count) \n",
    "        self.set_price(price)\n",
    "    def set_name(self, name):\n",
    "        assert type(name) == str, \"Argument name should be of type string.\"\n",
    "        self._name = name\n",
    "    def set_petal_count(self, petal_count):\n",
    "        assert type(petal_count) == int, \"Argument petal_count should be of type int.\"\n",
    "        self._petal_count = petal_count\n",
    "    def set_price(self, price):\n",
    "        assert type(price) == float, \"Argument price should be of type float.\"\n",
    "        self._price = price\n",
    "    def get_name(self):\n",
    "        return self._name\n",
    "    def get_petal_count(self):\n",
    "        return self._petal_count\n",
    "    def get_price(self):\n",
    "        return self._price\n",
    "\n",
    "# Throws Error\n",
    "r = Flower('Dandelion', 13.5, \"2.5\")\n",
    "    \n",
    "f = Flower(\"Rose\", 12, 15.5)\n",
    "print(f.get_name())\n",
    "print(f.get_petal_count())\n",
    "print(f.get_price())"
   ]
  },
  {
   "cell_type": "code",
   "execution_count": null,
   "metadata": {},
   "outputs": [],
   "source": [
    "\"\"\"\n",
    "########################################\n",
    "# ORIGINAL CREDIT CARD CLASS FROM TEXT #\n",
    "########################################\n",
    "\"\"\"\n",
    "\n",
    "\"\"\"\n",
    "class CreditCard():\n",
    "    def __init__(self, customer, bank, acnt, limit):\n",
    "        self._customer = customer\n",
    "        self._bank = bank\n",
    "        self._account = acnt\n",
    "        self._limit = limit\n",
    "        self._balance = 0  #Start with a balance of zero\n",
    "        \n",
    "    def get_customer(self):\n",
    "        return self._customer\n",
    "    def get_bank(self):\n",
    "        return self._bank\n",
    "    def get_account(self):\n",
    "        return self._account\n",
    "    def get_limit(self):\n",
    "        return self._limit\n",
    "    def get_balance(self):\n",
    "        return self._balance\n",
    "    \n",
    "    def set_balance(self, value):\n",
    "        self._balance = value\n",
    "        \n",
    "    def charge(self, price):\n",
    "        if price + self._balance > self._limit:\n",
    "            return False\n",
    "        else:\n",
    "            self._balance += price\n",
    "            return True\n",
    "           \n",
    "    def make_payment(self, amount):\n",
    "        self._balance -= amount\n",
    "\"\"\""
   ]
  },
  {
   "cell_type": "code",
   "execution_count": null,
   "metadata": {},
   "outputs": [],
   "source": [
    "# R-2.5\n",
    "\n",
    "class CreditCard():\n",
    "    def __init__(self, customer, bank, acnt, limit):\n",
    "        self._customer = customer\n",
    "        self._bank = bank\n",
    "        self._account = acnt\n",
    "        self._limit = limit\n",
    "        self._balance = 0  #Start with a balance of zero\n",
    "        \n",
    "    def get_customer(self):\n",
    "        return self._customer\n",
    "    def get_bank(self):\n",
    "        return self._bank\n",
    "    def get_account(self):\n",
    "        return self._account\n",
    "    def get_limit(self):\n",
    "        return self._limit\n",
    "    def get_balance(self):\n",
    "        return self._balance\n",
    "    \n",
    "    def set_balance(self, value):\n",
    "        self._balance = value\n",
    "        \n",
    "    def charge(self, price):\n",
    "        try:\n",
    "            price = float(price)\n",
    "        except:\n",
    "            print(\"Enter a valid value.\")\n",
    "            return False\n",
    "        if price + self._balance > self._limit:\n",
    "            return False\n",
    "        else:\n",
    "            self._balance += price\n",
    "            return True\n",
    "           \n",
    "            \n",
    "    def make_payment(self, amount):\n",
    "        try:\n",
    "            amount = float(amount)\n",
    "        except:\n",
    "            print(\"Enter a valid value.\")\n",
    "        self._balance -= amount\n",
    "        \n",
    "\n",
    "cc = CreditCard(\"Khubaib\", \"IDBI\", 1001, 1000)\n",
    "cc.charge(1000)\n",
    "# Throws error\n",
    "# cc.charge(\"fefefe\")\n",
    "# cc.make_payment(\"dwedfw\")"
   ]
  },
  {
   "cell_type": "code",
   "execution_count": null,
   "metadata": {},
   "outputs": [],
   "source": [
    "# R-2.6\n",
    "\"\"\"\n",
    "I have used the customised CreditCard class from the previous question for this question.\n",
    "\"\"\"\n",
    "\n",
    "class CreditCard():\n",
    "    def __init__(self, customer, bank, acnt, limit):\n",
    "        self._customer = customer\n",
    "        self._bank = bank\n",
    "        self._account = acnt\n",
    "        self._limit = limit\n",
    "        self._balance = 0  #Start with a balance of zero\n",
    "        \n",
    "    def get_customer(self):\n",
    "        return self._customer\n",
    "    def get_bank(self):\n",
    "        return self._bank\n",
    "    def get_account(self):\n",
    "        return self._account\n",
    "    def get_limit(self):\n",
    "        return self._limit\n",
    "    def get_balance(self):\n",
    "        return self._balance\n",
    "    \n",
    "    def set_balance(self, value):\n",
    "        self._balance = value\n",
    "        \n",
    "    def charge(self, price):\n",
    "        try:\n",
    "            price = float(price)\n",
    "        except:\n",
    "            print(\"Enter a valid value.\")\n",
    "            return False\n",
    "        if price + self._balance > self._limit:\n",
    "            return False\n",
    "        else:\n",
    "            self._balance += price\n",
    "            return True\n",
    "           \n",
    "            \n",
    "    def make_payment(self, amount):\n",
    "        try:\n",
    "            amount = float(amount)\n",
    "        except:\n",
    "            raise ValueError(\"Invalid amount entered.\")\n",
    "        \n",
    "        if amount < 0: # Checks if the amount passed is negative\n",
    "            raise ValueError(\"Negative value entered.\")\n",
    "        else:\n",
    "            self._balance -= amount\n",
    "cc = CreditCard(\"Khubaib\", \"IDBI\", 1001 , 1000)\n",
    "\n",
    "# Throws error\n",
    "# cc.make_payment(\"-123\")"
   ]
  },
  {
   "cell_type": "code",
   "execution_count": 5,
   "metadata": {},
   "outputs": [
    {
     "name": "stdout",
     "output_type": "stream",
     "text": [
      "0.0\n",
      "500.0\n"
     ]
    }
   ],
   "source": [
    "# R-2.7\n",
    "\n",
    "class CreditCard():\n",
    "    def __init__(self, customer, bank, acnt, limit, reward = 0):\n",
    "        self._customer = customer\n",
    "        self._bank = bank\n",
    "        self._account = acnt\n",
    "        self._limit = limit\n",
    "        \n",
    "        try:\n",
    "            reward = float(reward)\n",
    "        except:\n",
    "            raise ValueError(\"Invalid Value Added.\")\n",
    "        if reward >= 0:\n",
    "            self._balance = 0 + float(reward) # Start with a balance of zero\n",
    "        else:\n",
    "            raise ValueError(\"Negative Value Cannot be Added.\")\n",
    "        \n",
    "    def get_customer(self):\n",
    "        return self._customer\n",
    "    def get_bank(self):\n",
    "        return self._bank\n",
    "    def get_account(self):\n",
    "        return self._account\n",
    "    def get_limit(self):\n",
    "        return self._limit\n",
    "    def get_balance(self):\n",
    "        return self._balance\n",
    "    \n",
    "    def set_balance(self, value):\n",
    "        self._balance = value\n",
    "        \n",
    "    def charge(self, price):\n",
    "        try:\n",
    "            price = float(price)\n",
    "        except:\n",
    "            print(\"Enter a valid value.\")\n",
    "            return False\n",
    "        \n",
    "        if price + self._balance > self._limit:\n",
    "            return False\n",
    "        else:\n",
    "            self._balance += price\n",
    "            return True\n",
    "           \n",
    "            \n",
    "    def make_payment(self, amount):\n",
    "        try:\n",
    "            amount = float(amount)\n",
    "        except:\n",
    "            raise ValueError(\"Invalid amount entered.\")\n",
    "        \n",
    "        if amount < 0: # Checks if the amount passed is negative\n",
    "            raise ValueError(\"Negative value entered.\")\n",
    "        else:\n",
    "            self._balance -= amount\n",
    "\n",
    "cc1 = CreditCard(\"Khubaib\", \"IDBI\", '1001', '1000') # 4 parameters\n",
    "cc2 = CreditCard(\"Khubaib\", \"IDBI\", '1001', '1000', \"500\") # 5 parameters\n",
    "\n",
    "print(cc1.get_balance())\n",
    "print(cc2.get_balance())\n",
    "\n",
    "# Throws error\n",
    "# cc3 = CreditCard(\"Khubaib\", \"IDBI\", '1001', '1000', \"-500.5\") # 5 parameters\n",
    "# print(cc3.get_balance())"
   ]
  },
  {
   "cell_type": "code",
   "execution_count": 6,
   "metadata": {},
   "outputs": [
    {
     "name": "stdout",
     "output_type": "stream",
     "text": [
      "Customer =  John Bowman\n",
      "Bank =  California Savings\n",
      "Account =  5391\n",
      "Limit =  250\n",
      "Balance =  231.0\n",
      "New Balance =  131.0\n",
      "New Balance =  31.0\n",
      "\n",
      "Customer =  John Bowman\n",
      "Bank =  California Federal\n",
      "Account =  5392\n",
      "Limit =  500\n",
      "Balance =  462.0\n",
      "New Balance =  362.0\n",
      "New Balance =  262.0\n",
      "New Balance =  162.0\n",
      "New Balance =  62.0\n",
      "\n",
      "Customer =  John Bowman\n",
      "Bank =  California Finance\n",
      "Account =  5393\n",
      "Limit =  750\n",
      "Balance =  693.0\n",
      "New Balance =  593.0\n",
      "New Balance =  493.0\n",
      "New Balance =  393.0\n",
      "New Balance =  293.0\n",
      "New Balance =  193.0\n",
      "New Balance =  93.0\n",
      "\n"
     ]
    }
   ],
   "source": [
    "# R-2.8\n",
    "\n",
    "wallet = []\n",
    "wallet.append(CreditCard( \"John Bowman\" , \"California Savings\" ,5391 , 250) )\n",
    "wallet.append(CreditCard( \"John Bowman\" , \"California Federal\" ,5392 , 500) )\n",
    "wallet.append(CreditCard( \"John Bowman\" , \"California Finance\" ,5393 , 750) )\n",
    "\n",
    "for val in range(1,100):\n",
    "    wallet[0].charge(val)\n",
    "    wallet[1].charge(2 * val)\n",
    "    wallet[2].charge(3 * val)\n",
    "    \n",
    "for c in range(3):\n",
    "    print ('Customer = ', wallet[c].get_customer())\n",
    "    print ('Bank = ', wallet[c].get_bank())\n",
    "    print('Account = ', wallet[c].get_account())\n",
    "    print ('Limit = ', wallet[c].get_limit())\n",
    "    print('Balance = ', wallet[c].get_balance())\n",
    "    while wallet[c].get_balance() > 100:\n",
    "        wallet[c].make_payment(100)\n",
    "        print('New Balance = ', wallet[c].get_balance())\n",
    "    print()"
   ]
  },
  {
   "cell_type": "code",
   "execution_count": 7,
   "metadata": {},
   "outputs": [],
   "source": [
    "################################################\n",
    "#       Vector class from the text             #\n",
    "################################################\n",
    "\n",
    "class Vector:\n",
    "    def __init__(self, d):\n",
    "        self._coords = [0]*d\n",
    "    def __len__(self):\n",
    "        return len(self._coords)\n",
    "    def __getitem__(self, j):\n",
    "        return self._coords[j]\n",
    "    def __setitem__(self, j, val):\n",
    "        try:\n",
    "            self._coords[j] = val\n",
    "            return True\n",
    "        except:\n",
    "            print('Invalid input or index')\n",
    "            return False\n",
    "    def __add__(self, other):\n",
    "        if len(self)!=len(other):\n",
    "            raise ValueError('Dimensions must match')\n",
    "        result = Vector(len(self))\n",
    "        for j in range(len(self)):\n",
    "            result[j] = self[j] + other[j]\n",
    "        return result\n",
    "            \n",
    "    def __eq__(self, other):\n",
    "        return self._coords == other._coords\n",
    "    \n",
    "    def __ne__(self, other):\n",
    "        return not self==other\n",
    "    \n",
    "    def __str__(self):\n",
    "        return '<' + str(self._coords)[1:-1] + '>'     "
   ]
  },
  {
   "cell_type": "code",
   "execution_count": 8,
   "metadata": {},
   "outputs": [
    {
     "name": "stdout",
     "output_type": "stream",
     "text": [
      "V2 - V1:  <1, 1, 1>\n",
      "V1 - V2:  <-1, -1, -1>\n",
      "V2 + V1:  <1, 3, 5>\n"
     ]
    }
   ],
   "source": [
    "# R-2.9\n",
    "\n",
    "class Vector:\n",
    "    def __init__(self, d):\n",
    "        self._coords = [0]*d\n",
    "    def __len__(self):\n",
    "        return len(self._coords)\n",
    "    def __getitem__(self, j):\n",
    "        return self._coords[j]\n",
    "    def __setitem__(self, j, val):\n",
    "        try:\n",
    "            self._coords[j] = val\n",
    "            return True\n",
    "        except:\n",
    "            print('Invalid input or index')\n",
    "            return False\n",
    "    def __add__(self, other):\n",
    "        if len(self)!=len(other):\n",
    "            raise ValueError('Dimensions must match')\n",
    "        result = Vector(len(self))\n",
    "        for j in range(len(self)):\n",
    "            result[j] = self[j] + other[j]\n",
    "        return result\n",
    "            \n",
    "    def __sub__(self, other):\n",
    "            if len(self) != len(other):\n",
    "                raise ValueError('Dimensions must match.')\n",
    "            result = Vector(len(self))\n",
    "            for j in range(len(self)):\n",
    "                result[j] = self[j] - other[j]\n",
    "            return result\n",
    "    \n",
    "    def __eq__(self, other):\n",
    "        return self._coords == other._coords\n",
    "    \n",
    "    def __ne__(self, other):\n",
    "        return not self==other\n",
    "    \n",
    "    def __str__(self):\n",
    "        return '<' + str(self._coords)[1:-1] + '>'\n",
    "\n",
    "           \n",
    "# Instantiating\n",
    "v1 = Vector(3)\n",
    "v2 = Vector(3)\n",
    "\n",
    "# Populating the Vector instances\n",
    "for i in range(3):\n",
    "    v1[i] = i # __setitem__ in action\n",
    "    v2[i] = i+1\n",
    "\n",
    "print(\"V2 - V1: \", v2-v1)\n",
    "print(\"V1 - V2: \", v1-v2)\n",
    "print(\"V2 + V1: \", v2+v1)"
   ]
  },
  {
   "cell_type": "code",
   "execution_count": 9,
   "metadata": {},
   "outputs": [
    {
     "name": "stdout",
     "output_type": "stream",
     "text": [
      "<0, -1, -4>\n"
     ]
    }
   ],
   "source": [
    "# R-2.10\n",
    "\n",
    "class NegVector(Vector):\n",
    "    def __init__(self, d):\n",
    "        super().__init__(d)\n",
    "    \n",
    "    def __neg__(self):\n",
    "        result = Vector(len(self))\n",
    "        for j in range(len(self)):\n",
    "            result[j] = -self[j] # thanks to __setitem__\n",
    "        return result\n",
    "    \n",
    "n = NegVector(3)\n",
    "\n",
    "for i in range(len(n)):\n",
    "    n[i] = i*i\n",
    "\n",
    "print(-n)"
   ]
  },
  {
   "cell_type": "code",
   "execution_count": 10,
   "metadata": {},
   "outputs": [
    {
     "name": "stdout",
     "output_type": "stream",
     "text": [
      "<1, 3, 7>\n",
      "<1, 3, 7>\n"
     ]
    }
   ],
   "source": [
    "# R-2.11\n",
    "\n",
    "\"\"\"\n",
    "Implemented the __radd__ special method so that Python tries addition from both sides of the method call.\n",
    "\"\"\"\n",
    "\n",
    "class rAddVector(NegVector):\n",
    "    def __init__(self, d):\n",
    "        super().__init__(d)\n",
    "\n",
    "    def __radd__(self, other):\n",
    "            if len(self)!=len(other):\n",
    "                raise ValueError('Dimensions must match')\n",
    "            result = Vector(len(self))\n",
    "            for j in range(len(self)):\n",
    "                result[j] = self[j] + other[j]\n",
    "            return result\n",
    "\n",
    "        \n",
    "n1 = rAddVector(3)\n",
    "x = [1,2,3]\n",
    "\n",
    "for i in range(len(n)):\n",
    "    n1[i] = i*i\n",
    "\n",
    "print(x+n1)\n",
    "print(n1+x)"
   ]
  },
  {
   "cell_type": "code",
   "execution_count": 11,
   "metadata": {},
   "outputs": [
    {
     "name": "stdout",
     "output_type": "stream",
     "text": [
      "<0, 27, 54>\n",
      "<0.0, 2.6999999999999997, 5.3999999999999995>\n",
      "<0, 27, 54>\n"
     ]
    }
   ],
   "source": [
    "# R-2.12 & R-2.13\n",
    "\n",
    "class ProdVector(rAddVector):\n",
    "    def __init__(self, d):\n",
    "        super().__init__(d)\n",
    "    def __mul__(self, factor):\n",
    "        result = Vector(len(self))\n",
    "        for i in range(len(self)):\n",
    "            result[i] = self[i] * factor\n",
    "        return result\n",
    "    \n",
    "    def __rmul__(self, factor):\n",
    "        result = Vector(len(self))\n",
    "        for i in range(len(self)):\n",
    "            result[i] = self[i] * factor\n",
    "        return result\n",
    "\n",
    "v1 = ProdVector(3)\n",
    "\n",
    "for i in range(len(v1)):\n",
    "    v1[i] = i*9\n",
    "\n",
    "print(v1*3)\n",
    "print(v1*0.3)\n",
    "print(3*v1) # thanks to __rmul__"
   ]
  },
  {
   "cell_type": "code",
   "execution_count": 12,
   "metadata": {},
   "outputs": [],
   "source": [
    "# R-2.14\n",
    "\n",
    "\"\"\"\n",
    "Implement the mul method for the Vector class of Section 2.3.3, so\n",
    "that the expression u v returns a scalar that represents the dot product of\n",
    "the vectors, that is\n",
    "\"\"\"\n",
    "\n",
    "class CrossVector(ProdVector):\n",
    "    pass"
   ]
  },
  {
   "cell_type": "code",
   "execution_count": 13,
   "metadata": {},
   "outputs": [
    {
     "name": "stdout",
     "output_type": "stream",
     "text": [
      "<1, 2, 3, 4, 5, 6, 7, 8, 9, 10>\n",
      "<2, 4, 6, 8, 10, 12, 14, 16, 18, 20>\n",
      "<0, 0, 0, 0, 0, 0, 0, 0, 0, 0>\n",
      "<3, 6, 9, 12, 15, 18, 21, 24, 27, 30>\n"
     ]
    }
   ],
   "source": [
    "# R-2.15\n",
    "\n",
    "class NewVector(CrossVector):\n",
    "    def __init__(self, d):\n",
    "        if type(d) == list or type(d) == tuple or type(d) == set:\n",
    "            if all(isinstance(x, (int, float)) for x in d):\n",
    "                d = list(d)\n",
    "            else:\n",
    "                raise TypeError(\"Contents of the sequence seem inappropriate.\")\n",
    "        else:\n",
    "            raise TypeError(\"Pass in approproiate data format.\")\n",
    "        self._coords = d\n",
    "\n",
    "\n",
    "\n",
    "v1 = NewVector((1,2,3,4,5,6,7,8,9,10))\n",
    "v2 = NewVector((1,2,3,4,5,6,7,8,9,10))\n",
    "print(v1)\n",
    "print(v1+v2)\n",
    "print(v1-v2)\n",
    "print(v1*3)\n",
    "\n",
    "# Throws error\n",
    "# v3 = NewVector([\"a\", \"b\", \"c\"])\n",
    "# v4 = NewVector([\"abcd\"])"
   ]
  },
  {
   "cell_type": "code",
   "execution_count": 14,
   "metadata": {},
   "outputs": [
    {
     "data": {
      "text/plain": [
       "'\\nThe formula is used to get the length of the Range\\nobject. The formula:\\n\\nmax( 0, (stop - start + step - 1) // step)\\n\\nuses max which returns whichever value is found to be the \\nhighest between 0 and the expression given.\\n\\nAs for the expression, it starts by taking the difference\\nbetween the first and the last number and adding back the \\nstep. We deduct one as the very last number is not to be counted.\\n\\nWe finally divide by the step size and get the number or \\nnumbers that will be in our range object.\\n\\nThe // operation is used, which leaves the remainder and \\nreturns only the quotient value.\\n\\nIn case the expression returuns a negative value, the max\\nensures that the higher value among 0 and the negative \\nexpression value (of course the 0) is returned.\\n'"
      ]
     },
     "execution_count": 14,
     "metadata": {},
     "output_type": "execute_result"
    }
   ],
   "source": [
    "# R-2.16\n",
    "\n",
    "\"\"\"\n",
    "The formula is used to get the length of the Range\n",
    "object. The formula:\n",
    "\n",
    "max( 0, (stop - start + step - 1) // step)\n",
    "\n",
    "uses max which returns whichever value is found to be the \n",
    "highest between 0 and the expression given.\n",
    "\n",
    "As for the expression, it starts by taking the difference\n",
    "between the first and the last number and adding back the \n",
    "step. We deduct one as the very last number is not to be counted.\n",
    "\n",
    "We finally divide by the step size and get the number or \n",
    "numbers that will be in our range object.\n",
    "\n",
    "The // operation is used, which leaves the remainder and \n",
    "returns only the quotient value.\n",
    "\n",
    "In case the expression returuns a negative value, the max\n",
    "ensures that the higher value among 0 and the negative \n",
    "expression value (of course the 0) is returned.\n",
    "\"\"\""
   ]
  },
  {
   "cell_type": "code",
   "execution_count": 15,
   "metadata": {},
   "outputs": [
    {
     "data": {
      "text/plain": [
       "'\\n\\n'"
      ]
     },
     "execution_count": 15,
     "metadata": {},
     "output_type": "execute_result"
    }
   ],
   "source": [
    "# R-2.17\n",
    "\n",
    "\"\"\"\n",
    "\n",
    "\"\"\""
   ]
  },
  {
   "cell_type": "code",
   "execution_count": 16,
   "metadata": {},
   "outputs": [],
   "source": [
    "####################################\n",
    "#   Progression Class from text   #\n",
    "####################################\n",
    "\n",
    "class Progression():\n",
    "    def __init__(self, start=0):\n",
    "        self._current = 0\n",
    "    def _advance(self):\n",
    "        self._current += 1\n",
    "    def __next__(self):\n",
    "        if self._current is None:\n",
    "            raise StopIteration()\n",
    "        else:\n",
    "            answer = self._current\n",
    "            self._advance()\n",
    "            return answer\n",
    "    def __iter__(self):\n",
    "        return self\n",
    "    def print_progression(self, n):\n",
    "        print (' '.join(str(next(self)) for j in range(n)))"
   ]
  },
  {
   "cell_type": "code",
   "execution_count": 17,
   "metadata": {},
   "outputs": [
    {
     "name": "stdout",
     "output_type": "stream",
     "text": [
      "0 1 2 3 4 5 6 7 8 9\n",
      "Element 1 is 2\n",
      "Element 2 is 2\n",
      "Element 3 is 4\n",
      "Element 4 is 6\n",
      "Element 5 is 10\n",
      "Element 6 is 16\n",
      "Element 7 is 26\n",
      "Element 8 is 42\n"
     ]
    }
   ],
   "source": [
    "# R-2.18\n",
    "\n",
    "class Fibonacci(Progression):\n",
    "    def __init__(self, start=0, second=1 ):\n",
    "        super().__init__(start)\n",
    "        self._current = start \n",
    "        self._prev = second - start # dummy previous value\n",
    "    def _advance(self):\n",
    "        self._prev, self._current = self._current, self._prev + self._current\n",
    "    def print_progression(self, n):\n",
    "        [print(f\"Element {i} is \" + str(next(self))) for i in range(1,n+1)]\n",
    "\n",
    "p = Progression()\n",
    "p.print_progression(10)\n",
    "\n",
    "f = Fibonacci(2,2)\n",
    "f.print_progression(8)"
   ]
  },
  {
   "cell_type": "code",
   "execution_count": 18,
   "metadata": {},
   "outputs": [
    {
     "name": "stdout",
     "output_type": "stream",
     "text": [
      "33554433\n"
     ]
    }
   ],
   "source": [
    "# R-2.19\n",
    "\n",
    "class ArithmeticProgression(Progression):\n",
    "    call_count = 0 # count number of times __next__ was called\n",
    "    def __init__(self, start = 0, increment = 1):\n",
    "        super().__init__(start)\n",
    "        self._increment = increment\n",
    "    def _advance(self):\n",
    "        self._current += self._increment\n",
    "    def __next__(self):\n",
    "        self.call_count += 1\n",
    "        if self._current is None:\n",
    "            raise StopIteration()\n",
    "        else:\n",
    "            answer = self._current\n",
    "            self._advance()\n",
    "            return answer\n",
    "       \n",
    "\n",
    "# will take some time to print anything\n",
    "a = ArithmeticProgression(0, 128)\n",
    "target = 2 ** 32\n",
    "value = 0\n",
    "while target:\n",
    "    if value < target:\n",
    "        value = next(a)\n",
    "    else:\n",
    "        print(a.call_count)\n",
    "        break"
   ]
  },
  {
   "cell_type": "code",
   "execution_count": 19,
   "metadata": {},
   "outputs": [
    {
     "data": {
      "text/plain": [
       "'\\nThe super.__init__() method will be called repeatedly in case we wish to access the topmost class.\\n'"
      ]
     },
     "execution_count": 19,
     "metadata": {},
     "output_type": "execute_result"
    }
   ],
   "source": [
    "# R-2.20\n",
    "\"\"\"\n",
    "The super.__init__() method will be called repeatedly in case we wish to access the topmost class.\n",
    "\"\"\""
   ]
  },
  {
   "cell_type": "code",
   "execution_count": 20,
   "metadata": {},
   "outputs": [
    {
     "data": {
      "text/plain": [
       "'\\nToo shallow hierarchy can imply that there can be subclasses from which other suclasses may \\ninherit, hence defeating the very purpose of inheritance.\\n\\nSecond, changes in the parent class may affect the subclasses and then debugging each subclass\\nwill take forever.\\n'"
      ]
     },
     "execution_count": 20,
     "metadata": {},
     "output_type": "execute_result"
    }
   ],
   "source": [
    "# R-2.21\n",
    "\n",
    "\"\"\"\n",
    "Too shallow hierarchy can imply that there can be subclasses from which other suclasses may \n",
    "inherit, hence defeating the very purpose of inheritance.\n",
    "\n",
    "Second, changes in the parent class may affect the subclasses and then debugging each subclass\n",
    "will take forever.\n",
    "\"\"\""
   ]
  },
  {
   "cell_type": "code",
   "execution_count": 21,
   "metadata": {},
   "outputs": [],
   "source": [
    "# R-2.22\n",
    "\n",
    "\"\"\"\n",
    "This whole class did not make a whole lot of sense to me. When I try to instantiate it, \n",
    "some error comes up:\n",
    "\n",
    "TypeError: Can't instantiate abstract class Sequence with abstract methods __getitem__, __len__\n",
    "\n",
    "I don't know why or what this is.\n",
    "\n",
    "I have put the __eq__ special method however.\n",
    "\"\"\"\n",
    "\n",
    "\n",
    "from abc import ABCMeta, abstractmethod\n",
    "\n",
    "class Sequence(metaclass = ABCMeta):\n",
    "    @abstractmethod\n",
    "    def __len__(self):\n",
    "        pass\n",
    "        \n",
    "    @abstractmethod\n",
    "    def __getitem__(self, index):\n",
    "        pass\n",
    "        \n",
    "    def __contains__(self, val):\n",
    "        for i in range(len(self)):\n",
    "            if self[i] == val: return True\n",
    "        return False #if it wasn't found\n",
    "    \n",
    "    def count(self, val):\n",
    "        k = 0\n",
    "        for j in range(len(self)):\n",
    "            if self[j] == val: k+=1\n",
    "        return k\n",
    "    \n",
    "    def __eq__(self, other):\n",
    "        \"\"\"\n",
    "        Assuming other is a also a Sequence.\n",
    "        \"\"\"\n",
    "        if len(self) == len(other):\n",
    "            for i,j in zip(self, other):\n",
    "                if i == j:\n",
    "                    pass\n",
    "                else:\n",
    "                    return False\n",
    "            return True\n",
    "        else:\n",
    "            return False\n",
    "\n",
    "# s1 = Sequence()\n",
    "# s2 = Sequence()"
   ]
  },
  {
   "cell_type": "code",
   "execution_count": 22,
   "metadata": {},
   "outputs": [],
   "source": [
    "# R-2.23\n",
    "\n",
    "\"\"\"\n",
    "How exactly to compare the sequences has not been mentioned in the problem.\n",
    "My approach is to compare each element of the 2 sequences. \n",
    "If even 1 element pair shows a \"greater than\" type relationship, it returns False.\n",
    "Only if all the element-elemnet pairs show a \"less than\" type relationship will it return True.\n",
    "\"\"\"\n",
    "\n",
    "from abc import ABCMeta, abstractmethod\n",
    "\n",
    "class Sequence(metaclass = ABCMeta):\n",
    "    @abstractmethod\n",
    "    def __len__(self):\n",
    "        pass\n",
    "        \n",
    "    @abstractmethod\n",
    "    def __getitem__(self, index):\n",
    "        pass\n",
    "        \n",
    "    def __contains__(self, val):\n",
    "        for i in range(len(self)):\n",
    "            if self[i] == val: return True\n",
    "        return False #if it wasn't found\n",
    "    \n",
    "    def count(self, val):\n",
    "        k = 0\n",
    "        for j in range(len(self)):\n",
    "            if self[j] == val: k+=1\n",
    "        return k\n",
    "    \n",
    "    def __eq__(self, other):\n",
    "        \"\"\"\n",
    "        Assuming other is a also a Sequence.\n",
    "        \"\"\"\n",
    "        if len(self) == len(other):\n",
    "            for i,j in zip(self, other):\n",
    "                if i == j:\n",
    "                    pass\n",
    "                else:\n",
    "                    return False\n",
    "            return True\n",
    "        else:\n",
    "            return False\n",
    "    \n",
    "    def __lt__(self, other):\n",
    "        \"\"\"\n",
    "        Assuming other is a also a Sequence.\n",
    "        \"\"\"\n",
    "        if len(self) == len(other):\n",
    "            if len(self) == len(other):\n",
    "                for i,j in zip(self, other):\n",
    "                    if i >= j:\n",
    "                        pass\n",
    "                    else:\n",
    "                        return False\n",
    "            return True\n",
    "        else:\n",
    "            return False"
   ]
  },
  {
   "cell_type": "markdown",
   "metadata": {},
   "source": [
    "## Creativity"
   ]
  },
  {
   "cell_type": "code",
   "execution_count": 23,
   "metadata": {},
   "outputs": [],
   "source": [
    "# C-2.24"
   ]
  },
  {
   "cell_type": "code",
   "execution_count": 24,
   "metadata": {},
   "outputs": [],
   "source": [
    "# C-2.25"
   ]
  },
  {
   "cell_type": "code",
   "execution_count": 25,
   "metadata": {},
   "outputs": [
    {
     "name": "stdout",
     "output_type": "stream",
     "text": [
      "4\n",
      "3\n",
      "2\n",
      "1\n"
     ]
    }
   ],
   "source": [
    "# C-2.26\n",
    "\n",
    "class SequenceIterator:\n",
    "    def __init__(self, sequence):\n",
    "        self._seq = sequence\n",
    "        self._k = -1\n",
    "    def __next__(self):\n",
    "        self._k += 1\n",
    "        if self._k < len(self._seq):\n",
    "            return self._seq[self._k]\n",
    "        else:\n",
    "            raise StopIteration()\n",
    "    def __iter__(self):\n",
    "        return self\n",
    "    def __len__(self):\n",
    "        return len(self._seq)\n",
    "\n",
    "class ReversedSequenceIterator(SequenceIterator):\n",
    "    def __init__(self, sequence):\n",
    "        super().__init__(sequence)\n",
    "        self._seq = sequence\n",
    "        self._k = 0\n",
    "    def __next__(self):\n",
    "        self._k -= 1\n",
    "        if self._k > -(len(self._seq) + 1):\n",
    "            return self._seq[self._k]\n",
    "        else:\n",
    "            raise StopIteration()\n",
    "\n",
    "r = ReversedSequenceIterator([1,2,3,4])\n",
    "for i in range(len(r)):\n",
    "    print(next(r))"
   ]
  },
  {
   "cell_type": "code",
   "execution_count": 26,
   "metadata": {},
   "outputs": [
    {
     "name": "stdout",
     "output_type": "stream",
     "text": [
      "False\n",
      "True\n"
     ]
    }
   ],
   "source": [
    "# C-2.27\n",
    "\n",
    "class Range():\n",
    "    def __init__(self, start, stop = None, step = 1):\n",
    "        if step == 0: raise ValueError('step cannot be 0')\n",
    "        if stop is None:    \n",
    "            start, stop = 0, start\n",
    "            \n",
    "        self._length = max(0, (stop-start + step -1)//step)\n",
    "        \n",
    "        self._start = start\n",
    "        self._step = step\n",
    "        \n",
    "    def __len__(self):\n",
    "        return self._length\n",
    "    \n",
    "    def __getitem__(self, k):\n",
    "        if k<0:\n",
    "            k += len(self)\n",
    "        if not 0 <= k < self._length:\n",
    "            raise IndexError('index out of range')\n",
    "            \n",
    "        return self._start + k * self._step # general expression for elements of a range\n",
    "    \n",
    "    def __contains__(self, value):\n",
    "        \"\"\"\n",
    "        The general expression of elements of a range has an increment variable k.\n",
    "        Hence any element in the range is given by x = start + (k*step).\n",
    "        If x is a part of the range, the value of k will be an int. This is what \n",
    "        the if condition below checks.\n",
    "        k = (x - start)/step\n",
    "        \"\"\"\n",
    "        if ((value - self._start)/self._step)%1 == 0:\n",
    "            return True\n",
    "        else:\n",
    "            return False\n",
    "\n",
    "r1 = Range(10,1,-2)\n",
    "r2 = Range(1,11,1)\n",
    "\n",
    "print(3 in r1)\n",
    "print(4 in r2)"
   ]
  },
  {
   "cell_type": "code",
   "execution_count": 27,
   "metadata": {},
   "outputs": [],
   "source": [
    "# C-2.28\n",
    "\n",
    "class CreditCard():\n",
    "    def __init__(self, customer, bank, acnt, limit):\n",
    "        self._customer = customer\n",
    "        self._bank = bank\n",
    "        self._account = acnt\n",
    "        self._limit = limit\n",
    "        self._balance = 0  #Start with a balance of zero\n",
    "        \n",
    "    def get_customer(self):\n",
    "        return self._customer\n",
    "    def get_bank(self):\n",
    "        return self._bank\n",
    "    def get_account(self):\n",
    "        return self._account\n",
    "    def get_limit(self):\n",
    "        return self._limit\n",
    "    def get_balance(self):\n",
    "        return self._balance\n",
    "    \n",
    "    def set_balance(self, value):\n",
    "        self._balance = value\n",
    "        \n",
    "    def charge(self, price):\n",
    "        if price + self._balance > self._limit:\n",
    "            return False\n",
    "        else:\n",
    "            self._balance += price\n",
    "            return True\n",
    "           \n",
    "    def make_payment(self, amount):\n",
    "        self._balance -= amount\n",
    "\n",
    "\n",
    "\n",
    "class PredatoryCreditCard(CreditCard):\n",
    "    monthly_count = 0\n",
    "    def __init__(self, customer, bank, acnt, limit, apr):\n",
    "        super().__init__(customer, bank, acnt, limit)\n",
    "        self._apr = apr\n",
    "        self._num_charges = 0\n",
    "        \n",
    "        \n",
    "    def charge(self, price):\n",
    "        success = super().charge(price) # calls charge method from the parent class\n",
    "        if not success:\n",
    "            self._balance += 5\n",
    "        elif self.monthly_count > 10:\n",
    "            self._balance -= 1\n",
    "        self.monthly_count += 1\n",
    "        return success\n",
    "    \n",
    "    def process_month(self):\n",
    "        if self._balance > 0:\n",
    "            monthly_factor = pow(1+self._apr, 1/12)\n",
    "            self._balance *= monthly_factor\n",
    "    \n",
    "p = PredatoryCreditCard(\"Khubaib\", \"IDBI\", 123456789, 1000, 10)"
   ]
  },
  {
   "cell_type": "code",
   "execution_count": 28,
   "metadata": {},
   "outputs": [],
   "source": [
    "# C-2.29"
   ]
  },
  {
   "cell_type": "code",
   "execution_count": 29,
   "metadata": {},
   "outputs": [],
   "source": [
    "# C-2.30"
   ]
  },
  {
   "cell_type": "code",
   "execution_count": 30,
   "metadata": {},
   "outputs": [
    {
     "name": "stdout",
     "output_type": "stream",
     "text": [
      "0 200 200 0 -200\n"
     ]
    }
   ],
   "source": [
    "# C-2.31\n",
    "\n",
    "class Progression():\n",
    "    \"\"\"\n",
    "    From the text.\n",
    "    \"\"\"\n",
    "    def __init__(self, start=0):\n",
    "        self._current = 0\n",
    "    def _advance(self):\n",
    "        self._current += 1\n",
    "    def __next__(self):\n",
    "        if self._current is None:\n",
    "            raise StopIteration()\n",
    "        else:\n",
    "            answer = self._current\n",
    "            self._advance()\n",
    "            return answer\n",
    "    def __iter__(self):\n",
    "        return self\n",
    "    def print_progression(self, n):\n",
    "        print (' '.join(str(next(self)) for j in range(n)))\n",
    "        \n",
    "\n",
    "class DiffFibo(Progression):\n",
    "    def __init__(self, start=2, second = 200):\n",
    "        super().__init__(start)\n",
    "        self._prev = -second # even I don't know why this works\n",
    "    def _advance(self):\n",
    "        self._prev, self._current = self._current, self._current - self._prev\n",
    "    \n",
    "d = DiffFibo()\n",
    "d.print_progression(5)\n",
    "# d.print_progression(50)\n",
    "# d.print_progression(500)"
   ]
  },
  {
   "cell_type": "code",
   "execution_count": 31,
   "metadata": {},
   "outputs": [
    {
     "name": "stdout",
     "output_type": "stream",
     "text": [
      "===========================================================\n",
      "65536 256.0 16.0 4.0 2.0\n",
      "===========================================================\n"
     ]
    }
   ],
   "source": [
    "# C-2.32\n",
    "\n",
    "class ProdProg(Progression):\n",
    "    def __init__(self, start=65536):\n",
    "        super().__init__(start)\n",
    "        self._current = start # even I don't know why this works\n",
    "    def _advance(self):\n",
    "        self._current = self._current**0.5\n",
    "        \n",
    "p = ProdProg()\n",
    "print(\"===========================================================\")\n",
    "p.print_progression(5)\n",
    "print(\"===========================================================\")\n",
    "# p.print_progression(50)\n",
    "# print(\"===========================================================\")\n",
    "# p.print_progression(500)\n",
    "# print(\"===========================================================\")"
   ]
  },
  {
   "cell_type": "markdown",
   "metadata": {},
   "source": [
    "## Projects"
   ]
  },
  {
   "cell_type": "code",
   "execution_count": 75,
   "metadata": {},
   "outputs": [
    {
     "name": "stdout",
     "output_type": "stream",
     "text": [
      "5x^0 + 4x^1 + 3x^2 + -2x^3 + 1x^4\n",
      "0x^-1 + 4x^0 + 6x^1 + -6x^2 + 4x^3\n"
     ]
    }
   ],
   "source": [
    "# P-2.33\n",
    "\n",
    "class Polynomial():\n",
    "    def __init__(self, coeff):\n",
    "        self._coeff = coeff\n",
    "    def __getitem__(self, j):\n",
    "        return self._coeff[j]\n",
    "    def __setitem__(self, j, val):\n",
    "        self._coeff[j] = val\n",
    "    def __str__(self):\n",
    "        return \" + \".join((str(self._coeff[len(self._coeff)-1-i]) +\"x^\" + str(i) for i in range(0,len(self._coeff),1)))        \n",
    "    def derivative(self):\n",
    "        result = [0] * len(self._coeff)\n",
    "        for i in range(0, len(self._coeff)-1):\n",
    "            result[i] = self._coeff[i] * (len(self._coeff) - i -1)\n",
    "        return result\n",
    "    def get_derivative(self):\n",
    "        derivative = self.derivative()\n",
    "        return \" + \".join((str(derivative[len(derivative)-1-i]) +\"x^\" + str(i-1) for i in range(0,len(derivative),1)))\n",
    "    \n",
    "    \n",
    "p = Polynomial([1,-2,3,4 ,5])\n",
    "print(p)\n",
    "print(p.get_derivative())"
   ]
  },
  {
   "cell_type": "code",
   "execution_count": 93,
   "metadata": {},
   "outputs": [
    {
     "name": "stdout",
     "output_type": "stream",
     "text": [
      "B :  =\n",
      "e :  ======================================================================================\n",
      "a :  ==================================================\n",
      "u :  ====================\n",
      "t :  ==========================================================================\n",
      "i :  =================================================\n",
      "f :  ==========\n",
      "l :  =================================\n",
      "  :  ========================================================================================================================================\n",
      "s :  ==========================================\n",
      "b :  ===================\n",
      "r :  ===============================\n",
      "h :  =============================\n",
      "n :  ======================================\n",
      "g :  ===========\n",
      "y :  ===============\n",
      ". :  ==================\n",
      "E :  ==\n",
      "x :  ======\n",
      "p :  ====================\n",
      "c :  ================\n",
      "m :  ===============\n",
      "S :  ===\n",
      "o :  =========================================\n",
      "C :  =\n",
      "d :  ================\n",
      "F :  =\n",
      "R :  =\n",
      "' :  ====\n",
      "k :  ==\n",
      "A :  ===\n",
      "v :  =====\n",
      "U :  =\n",
      "I :  ===\n",
      ", :  ===\n",
      "T :  =\n",
      "- :  ======\n",
      "w :  ====\n",
      "D :  =\n",
      "N :  ==\n",
      "* :  ==\n",
      "! :  =\n"
     ]
    }
   ],
   "source": [
    "# P-2.34\n",
    "\n",
    "class BarChart():\n",
    "    from collections import Counter\n",
    "    def __init__(self, path):\n",
    "        self._path = path\n",
    "    def getfilecontent(self):\n",
    "        with open(self._path, \"r\") as f:\n",
    "            content = f.read()\n",
    "        return content\n",
    "    def count_freq(self):\n",
    "        return Counter(self.getfilecontent())\n",
    "    def draw_bar(self):\n",
    "        for key, value in self.count_freq().items():\n",
    "            print(key, \": \", value * \"=\")\n",
    "\n",
    "b = BarChart(\"zen.txt\")\n",
    "b.draw_bar()"
   ]
  },
  {
   "cell_type": "code",
   "execution_count": 159,
   "metadata": {},
   "outputs": [
    {
     "name": "stdout",
     "output_type": "stream",
     "text": [
      "wvzvb\n",
      "True\n",
      "None\n",
      "None\n",
      "Packet Sent!\n",
      "wvzvb\n",
      "None\n"
     ]
    }
   ],
   "source": [
    "# P-2.35\n",
    "\n",
    "\"\"\"\n",
    "I'll try to add a class-object diagram provided I find a good app to make it.\n",
    "\"\"\"\n",
    "\n",
    "from random import randint\n",
    "\n",
    "class User():\n",
    "    packet_to_send = None\n",
    "    packet_received = None\n",
    "    def __init__(self):\n",
    "        pass\n",
    "    def render_packet(self):\n",
    "        if randint(1,10) < 5:\n",
    "            msg = \"\".join(chr(randint(97, 122)) for i in range(5))\n",
    "            return msg\n",
    "        else:\n",
    "            self.render_packet()\n",
    "    def send_packet(self):\n",
    "        msg = self.render_packet()\n",
    "        self.packet_to_send = msg\n",
    "        return msg\n",
    "    def receive_packet(self, sender_user):\n",
    "        self.packet_received = sender_user.packet_to_send\n",
    "    def read_packet(self):\n",
    "        print(self.packet_received)\n",
    "        packet_received = None\n",
    "        \n",
    "class Internet():\n",
    "    def __init__(self):\n",
    "        pass\n",
    "    def check_for_packet(self, sender_user):\n",
    "        if isinstance(sender_user, User):\n",
    "            if sender_user.packet_to_send != None:\n",
    "                return True\n",
    "            else:\n",
    "                return False\n",
    "        return False\n",
    "    def send_packet(self, recv_user, sender_user):\n",
    "        if recv_user.packet_received == None:\n",
    "            recv_user.receive_packet(sender_user)\n",
    "            if self.check_delivery_status(recv_user):\n",
    "                return \"Packet Sent!\"\n",
    "        else:\n",
    "            self.packet_to_send(recv_user, sender_user)\n",
    "    def check_delivery_status(self, recv_user):\n",
    "        if recv_user.packet_received == None:\n",
    "            return False\n",
    "        else:\n",
    "            return True   \n",
    "\n",
    "i = Internet()\n",
    "sender = User()\n",
    "receiver = User()\n",
    "print(sender.send_packet())\n",
    "print(i.check_for_packet(sender))\n",
    "print(receiver.read_packet())\n",
    "print(i.send_packet(receiver, sender))"
   ]
  },
  {
   "cell_type": "code",
   "execution_count": 160,
   "metadata": {},
   "outputs": [],
   "source": [
    "# P-2.36"
   ]
  },
  {
   "cell_type": "code",
   "execution_count": 161,
   "metadata": {},
   "outputs": [],
   "source": [
    "# P-2.37"
   ]
  },
  {
   "cell_type": "code",
   "execution_count": 181,
   "metadata": {},
   "outputs": [
    {
     "name": "stdout",
     "output_type": "stream",
     "text": [
      "List of books you have.\n",
      "0 :  zen.txt\n",
      "1 :  xyz.txt\n",
      "0 :  zen.txt\n",
      "1 :  xyz.txt\n",
      "Input the index of the book you would like to read.\n",
      "0\n",
      "Here is zen.txt\n"
     ]
    },
    {
     "data": {
      "text/plain": [
       "\"Beautiful is better than ugly. Explicit is better than implicit. Simple is better than complex. Complex is better than complicated. Flat is better than nested. Sparse is better than dense. Readability counts. Special cases aren't special enough to break the rules. Although practicality beats purity. Errors should never pass silently. Unless explicitly silenced. In the face of ambiguity, refuse the temptation to guess. There should be one-- and preferably only one --obvious way to do it. Although that way may not be obvious at first unless you're Dutch. Now is better than never. Although never is often better than *right* now. If the implementation is hard to explain, it's a bad idea. If the implementation is easy to explain, it may be a good idea. Namespaces are one honking great idea -- let's do more of those!\""
      ]
     },
     "execution_count": 181,
     "metadata": {},
     "output_type": "execute_result"
    }
   ],
   "source": [
    "# P-2.38\n",
    "\n",
    "\"\"\"\n",
    "Write a Python program that simulates a system that supports the functions\n",
    "of an e-book reader. You should include methods for users of your\n",
    "system to “buy” new books, view their list of purchased books, and read\n",
    "their purchased books. Your system should use actual books, which have\n",
    "expired copyrights and are available on the Internet, to populate your set\n",
    "of available books for users of your system to “purchase” and read.\n",
    "\"\"\"\n",
    "\n",
    "class EBookReader():\n",
    "    shelf = []\n",
    "    def __init__(self):\n",
    "        pass\n",
    "    def purchase_book(self, book):\n",
    "        self.shelf.append(book)\n",
    "        return self.shelf\n",
    "    def show_books(self):\n",
    "        for i in range(len(self.shelf)):\n",
    "            print(i, \": \" , self.shelf[i])\n",
    "    def select_book(self):\n",
    "        self.show_books()\n",
    "        print(\"Input the index of the book you would like to read.\")\n",
    "        book_index = int(input())\n",
    "        print(\"Here is\", self.shelf[book_index])\n",
    "        return self.shelf[book_index]\n",
    "        # return 0 # for now, I have only 1 txt file, hence hardcoded the index, otherwise above 3 lines will be run\n",
    "    def load_book(self):\n",
    "        book = self.select_book() \n",
    "        if book in self.shelf:\n",
    "            with open('zen.txt', 'r') as file:\n",
    "                content = file.read()\n",
    "            return content\n",
    "        else:\n",
    "            return \"Enter a valid value.\"\n",
    "    def read_book(self):\n",
    "        print(self.load_book())\n",
    "\n",
    "# Initiate the class        \n",
    "e = EBookReader()\n",
    "\n",
    "# Purchase the book\n",
    "e.purchase_book(\"zen.txt\")\n",
    "e.purchase_book(\"xyz.txt\")\n",
    "\n",
    "# View the list of books you have\n",
    "print(\"List of books you have.\")\n",
    "e.show_books()\n",
    "\n",
    "# Load the book and read!\n",
    "e.load_book()"
   ]
  },
  {
   "cell_type": "code",
   "execution_count": null,
   "metadata": {},
   "outputs": [],
   "source": [
    "# P-2.39\n",
    "\n",
    "\"\"\"\n",
    "Did not do the whole question. Very repetitive.\n",
    "\"\"\"\n",
    "\n",
    "from abc import ABCMeta, abstractmethod\n",
    "\n",
    "class Polygon(metaclass = ABCMeta):\n",
    "    \n",
    "    @abstractmethod\n",
    "    def area(self):\n",
    "        pass\n",
    "    \n",
    "    @abstractmethod\n",
    "    def perimeter(self):\n",
    "        pass\n",
    "    \n",
    "class Triangle(Polygon):\n",
    "    def __init__(self, side1, side2, side3):\n",
    "        self._side1 = side1\n",
    "        self._side2 = side2\n",
    "        self._side3 = side3\n",
    "    def area(self):\n",
    "        semi_peri = self.perimeter()\n",
    "        return ((semi_peri)*(semi_peri - self._side1)*(semi_peri - self._side2)*(semi_peri - self._side3))**0.5\n",
    "    def perimeter(self):\n",
    "        return sum(self._side1, self._side2, self._side3)\n",
    "    \n",
    "    \n",
    "class Square(Polygon):\n",
    "    def __init__(self, side):\n",
    "        self._side = side\n",
    "    def area(self):\n",
    "        return self._side**2\n",
    "    def perimeter(self):\n",
    "        return 4*self._side"
   ]
  },
  {
   "cell_type": "markdown",
   "metadata": {},
   "source": [
    "## The end."
   ]
  }
 ],
 "metadata": {
  "kernelspec": {
   "display_name": "Python 3",
   "language": "python",
   "name": "python3"
  },
  "language_info": {
   "codemirror_mode": {
    "name": "ipython",
    "version": 3
   },
   "file_extension": ".py",
   "mimetype": "text/x-python",
   "name": "python",
   "nbconvert_exporter": "python",
   "pygments_lexer": "ipython3",
   "version": "3.9.1"
  }
 },
 "nbformat": 4,
 "nbformat_minor": 4
}
