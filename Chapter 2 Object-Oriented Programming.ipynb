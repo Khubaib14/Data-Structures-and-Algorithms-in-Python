{
 "cells": [
  {
   "cell_type": "markdown",
   "metadata": {},
   "source": [
    "# Chapter 2: Object-Oriented Programming"
   ]
  },
  {
   "cell_type": "code",
   "execution_count": 1,
   "metadata": {},
   "outputs": [
    {
     "data": {
      "text/plain": [
       "''"
      ]
     },
     "execution_count": 1,
     "metadata": {},
     "output_type": "execute_result"
    }
   ],
   "source": [
    "# R-2.1\n",
    "\"Medical Devices.\""
   ]
  },
  {
   "cell_type": "code",
   "execution_count": 2,
   "metadata": {},
   "outputs": [
    {
     "data": {
      "text/plain": [
       "''"
      ]
     },
     "execution_count": 2,
     "metadata": {},
     "output_type": "execute_result"
    }
   ],
   "source": [
    "# R-2.2\n",
    "\"\""
   ]
  },
  {
   "cell_type": "code",
   "execution_count": 3,
   "metadata": {},
   "outputs": [
    {
     "data": {
      "text/plain": [
       "''"
      ]
     },
     "execution_count": 3,
     "metadata": {},
     "output_type": "execute_result"
    }
   ],
   "source": [
    "# R-2.3\n",
    "\"\""
   ]
  },
  {
   "cell_type": "code",
   "execution_count": 11,
   "metadata": {},
   "outputs": [
    {
     "name": "stdout",
     "output_type": "stream",
     "text": [
      "Rose\n",
      "12\n",
      "15.5\n"
     ]
    }
   ],
   "source": [
    "# R-2.4\n",
    "\n",
    "class Flower():\n",
    "    def __init__(self, name=None, petal_count=None, price=None):\n",
    "        self._name = self._petal_count = self._price = None\n",
    "        self.set_name(name)\n",
    "        self.set_petal_count(petal_count) \n",
    "        self.set_price(price)\n",
    "    def set_name(self, name):\n",
    "        assert type(name) == str, \"Argument name should be of type string.\"\n",
    "        self._name = name\n",
    "    def set_petal_count(self, petal_count):\n",
    "        assert type(petal_count) == int, \"Argument petal_count should be of type int.\"\n",
    "        self._petal_count = petal_count\n",
    "    def set_price(self, price):\n",
    "        assert type(price) == float, \"Argument price should be of type float.\"\n",
    "        self._price = price\n",
    "    def get_name(self):\n",
    "        return self._name\n",
    "    def get_petal_count(self):\n",
    "        return self._petal_count\n",
    "    def get_price(self):\n",
    "        return self._price\n",
    "\n",
    "# Throws Error\n",
    "r = Flower('Dandelion', 13.5, \"2.5\")\n",
    "    \n",
    "f = Flower(\"Rose\", 12, 15.5)\n",
    "print(f.get_name())\n",
    "print(f.get_petal_count())\n",
    "print(f.get_price())"
   ]
  }
 ],
 "metadata": {
  "kernelspec": {
   "display_name": "Python 3",
   "language": "python",
   "name": "python3"
  },
  "language_info": {
   "codemirror_mode": {
    "name": "ipython",
    "version": 3
   },
   "file_extension": ".py",
   "mimetype": "text/x-python",
   "name": "python",
   "nbconvert_exporter": "python",
   "pygments_lexer": "ipython3",
   "version": "3.9.1"
  }
 },
 "nbformat": 4,
 "nbformat_minor": 4
}
