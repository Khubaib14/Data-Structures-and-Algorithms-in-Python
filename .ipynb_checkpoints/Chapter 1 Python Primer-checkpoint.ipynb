{
 "cells": [
  {
   "cell_type": "markdown",
   "metadata": {},
   "source": [
    "# Chapter 1: Python Primer"
   ]
  },
  {
   "cell_type": "markdown",
   "metadata": {},
   "source": [
    "## Reinforcement"
   ]
  },
  {
   "cell_type": "code",
   "execution_count": 7,
   "metadata": {},
   "outputs": [
    {
     "name": "stdout",
     "output_type": "stream",
     "text": [
      "False\n",
      "False\n",
      "True\n"
     ]
    }
   ],
   "source": [
    "# R-1.1\n",
    "\n",
    "def is_multiple(n,m):\n",
    "    if n%m == 0: return True\n",
    "    else: return False\n",
    "\n",
    "print(is_multiple(2,3))\n",
    "print(is_multiple(1824732189479,32748217384237))\n",
    "print(is_multiple(6,3))"
   ]
  },
  {
   "cell_type": "code",
   "execution_count": 10,
   "metadata": {},
   "outputs": [
    {
     "name": "stdout",
     "output_type": "stream",
     "text": [
      "True\n",
      "False\n",
      "False\n",
      "True\n"
     ]
    }
   ],
   "source": [
    "# R-1.2\n",
    "\n",
    "def is_even(k):\n",
    "    if isinstance(k, int):\n",
    "        return k&1 == 0\n",
    "    else:\n",
    "        return False\n",
    "        \n",
    "print(is_even(8))\n",
    "print(is_even(237583279845))\n",
    "print(is_even(893842934.6))\n",
    "print(is_even(-342348))"
   ]
  },
  {
   "cell_type": "code",
   "execution_count": 15,
   "metadata": {},
   "outputs": [
    {
     "name": "stdout",
     "output_type": "stream",
     "text": [
      "(8, 4)\n",
      "(9, 1)\n",
      "(9, 6)\n",
      "(8, 1)\n"
     ]
    }
   ],
   "source": [
    "# R-1.3\n",
    "\n",
    "def minmax(data):\n",
    "    largest, smallest = 0, 9\n",
    "    for i in str(data):\n",
    "        digit = int(i)\n",
    "        if digit > largest: largest = digit\n",
    "        if digit < largest: smallest = digit\n",
    "    return largest, smallest\n",
    "\n",
    "print(minmax(34837847837348))\n",
    "print(minmax(3284392831))\n",
    "print(minmax(198414637896))\n",
    "print(minmax(1865341))"
   ]
  },
  {
   "cell_type": "code",
   "execution_count": 26,
   "metadata": {},
   "outputs": [
    {
     "name": "stdout",
     "output_type": "stream",
     "text": [
      "3658116140695\n",
      "3187291745\n",
      "5\n"
     ]
    }
   ],
   "source": [
    "# R-1.4\n",
    "\n",
    "def sum_of_squares_until(num):\n",
    "    return sum([n*n for n in range(1,num+1)])\n",
    "\n",
    "print(sum_of_squares_until(22222))\n",
    "print(sum_of_squares_until(2122))\n",
    "print(sum_of_squares_until(2))"
   ]
  },
  {
   "cell_type": "code",
   "execution_count": null,
   "metadata": {},
   "outputs": [],
   "source": [
    "# R-1.5\n",
    "\n",
    "def sum_of_squares_until(num):\n",
    "    return sum([n*n for n in range(1,num+1)])\n",
    "\n",
    "print(sum_of_squares_until(22222))\n",
    "print(sum_of_squares_until(2122))\n",
    "print(sum_of_squares_until(2))"
   ]
  },
  {
   "cell_type": "code",
   "execution_count": 3,
   "metadata": {},
   "outputs": [
    {
     "name": "stdout",
     "output_type": "stream",
     "text": [
      "10\n",
      "35\n",
      "10131861606\n"
     ]
    }
   ],
   "source": [
    "# R-1.6\n",
    "\n",
    "def sum_of_odd_squares_until(num):\n",
    "    return sum((n*n for n in range(1,num+1) if n%2 != 0))\n",
    "\n",
    "print(sum_of_odd_squares_until(3))\n",
    "print(sum_of_odd_squares_until(5))\n",
    "print(sum_of_odd_squares_until(3932))"
   ]
  },
  {
   "cell_type": "code",
   "execution_count": 1,
   "metadata": {},
   "outputs": [
    {
     "name": "stdout",
     "output_type": "stream",
     "text": [
      "10\n",
      "35\n",
      "10131861606\n"
     ]
    }
   ],
   "source": [
    "# R-1.7\n",
    "\n",
    "def sum_of_odd_squares_until(num):\n",
    "    return sum((n*n for n in range(1,num+1) if n%2 != 0))\n",
    "\n",
    "print(sum_of_odd_squares_until(3))\n",
    "print(sum_of_odd_squares_until(5))\n",
    "print(sum_of_odd_squares_until(3932))"
   ]
  },
  {
   "cell_type": "code",
   "execution_count": 9,
   "metadata": {},
   "outputs": [
    {
     "name": "stdout",
     "output_type": "stream",
     "text": [
      "2\n",
      "2\n"
     ]
    }
   ],
   "source": [
    "# R-1.8\n",
    "\n",
    "j = n + k"
   ]
  },
  {
   "cell_type": "code",
   "execution_count": 3,
   "metadata": {},
   "outputs": [
    {
     "data": {
      "text/plain": [
       "[50, 60, 70, 80]"
      ]
     },
     "execution_count": 3,
     "metadata": {},
     "output_type": "execute_result"
    }
   ],
   "source": [
    "# R-1.9\n",
    "\n",
    "[i for i in range(50, 81, 10)]"
   ]
  },
  {
   "cell_type": "code",
   "execution_count": 13,
   "metadata": {},
   "outputs": [
    {
     "data": {
      "text/plain": [
       "[8, 6, 4, 2, 0, -2, -4, -6, -8]"
      ]
     },
     "execution_count": 13,
     "metadata": {},
     "output_type": "execute_result"
    }
   ],
   "source": [
    "# R-1.10\n",
    "\n",
    "[i for i in range(8, -9, -2)]"
   ]
  },
  {
   "cell_type": "code",
   "execution_count": 23,
   "metadata": {},
   "outputs": [
    {
     "name": "stdout",
     "output_type": "stream",
     "text": [
      "[1, 2, 4, 8, 16, 32, 64, 128, 256]\n"
     ]
    }
   ],
   "source": [
    "# R-1.11\n",
    "\n",
    "print([2**i for i in range(0,9)])"
   ]
  },
  {
   "cell_type": "code",
   "execution_count": 44,
   "metadata": {},
   "outputs": [
    {
     "name": "stdout",
     "output_type": "stream",
     "text": [
      "0\n",
      "6\n",
      "166 438 479 567 47 692 27 985 877 52 205 114 763 79 53 349 414 519 321 785 393 270 40 468 737 663 729 369 425 455 317 212 584 206 353 152 394 923 15 735 830 781 6 512 312 668 461 808 643 820 113 59 154 394 538 54 763 516 734 418 318 109 326 875 19 352 780 541 18 911 27 675 523 618 951 923 876 845 903 319 274 286 427 671 193 702 756 565 125 84 0 968 545 175 440 947 549 83 373 "
     ]
    }
   ],
   "source": [
    "# R-1.12\n",
    "\n",
    "from random import randint\n",
    "\n",
    "def choice(array):\n",
    "    return randint(0,len(array))\n",
    "\n",
    "print(choice([1,2,3,4,5,6,7,8,9,10]))\n",
    "print(choice((1,2,3,4,5,6,7,8,9,10)))\n",
    "for i in range(1,100):\n",
    "    print(choice(range(1,1000)), end= \" \")"
   ]
  },
  {
   "cell_type": "markdown",
   "metadata": {},
   "source": [
    "## Creativity"
   ]
  },
  {
   "cell_type": "code",
   "execution_count": 55,
   "metadata": {},
   "outputs": [
    {
     "name": "stdout",
     "output_type": "stream",
     "text": [
      "[8, 7, 6, 5, 4, 3, 2, 1]\n",
      "[19, 17, 15, 13, 11, 9, 7, 5, 3, 1]\n",
      "[2, 3, 4, 5, 6, 7, 8, 9, 10, 11, 12, 13, 14, 15, 16, 17, 18, 19, 20, 21, 22, 23, 24, 25, 26, 27, 28, 29, 30, 31, 32, 33, 34, 35, 36, 37, 38, 39, 40, 41, 42, 43, 44, 45, 46, 47, 48, 49, 50]\n",
      "[199, 198, 197, 196, 195, 194, 193, 192, 191, 190, 189, 188, 187, 186, 185, 184, 183, 182, 181, 180, 179, 178, 177, 176, 175, 174, 173, 172, 171, 170, 169, 168, 167, 166, 165, 164, 163, 162, 161, 160, 159, 158, 157, 156, 155, 154, 153, 152, 151, 150, 149, 148, 147, 146, 145, 144, 143, 142, 141, 140, 139, 138, 137, 136, 135, 134, 133, 132, 131, 130, 129, 128, 127, 126, 125, 124, 123, 122, 121, 120, 119, 118, 117, 116, 115, 114, 113, 112, 111, 110, 109, 108, 107, 106, 105, 104, 103, 102, 101, 100, 99, 98, 97, 96, 95, 94, 93, 92, 91, 90, 89, 88, 87, 86, 85, 84, 83, 82, 81, 80, 79, 78, 77, 76, 75, 74, 73, 72, 71, 70, 69, 68, 67, 66, 65, 64, 63, 62, 61, 60, 59, 58, 57, 56, 55, 54, 53, 52, 51, 50, 49, 48, 47, 46, 45, 44, 43, 42, 41, 40, 39, 38, 37, 36, 35, 34, 33, 32, 31, 30, 29, 28, 27, 26, 25, 24, 23, 22, 21, 20, 19, 18, 17, 16, 15, 14, 13, 12, 11, 10, 9, 8, 7, 6, 5, 4, 3, 2, 1]\n",
      "[8, 7, 6, 5, 4, 3, 2, 1]\n",
      "User defined Revert Function takes: 0.7846053999996911\n",
      "User defined revert_in_place function takes: 0.7546572999999626\n",
      "Built in reverse method takes: 0.21915760000001683\n",
      "Built in reversed function takes: 0.131960700000036\n"
     ]
    }
   ],
   "source": [
    "# C-1.13\n",
    "\n",
    "import timeit\n",
    "\n",
    "def revert(array):\n",
    "    \"\"\"\n",
    "    Creates a new list.\n",
    "    \"\"\"\n",
    "    return [array[i] for i in range(len(array)-1, -1, -1)]\n",
    "\n",
    "def revert_in_place(x):\n",
    "    \"\"\"\n",
    "    Reverses the same list.\n",
    "    \"\"\"\n",
    "    for i in range((len(x))//2):\n",
    "        x[i], x[len(x)-1-i] = x[len(x)-1-i], x[i]\n",
    "    return x\n",
    "\n",
    "\n",
    "print(revert([1,2,3,4,5,6,7,8]))\n",
    "print(revert(range(1,20,2)))\n",
    "print(revert((range(50, 1, -1))))\n",
    "print(revert_in_place([i for i in range(1,200)]))\n",
    "print(revert_in_place([1,2,3,4,5,6,7,8]))\n",
    "\n",
    "import timeit\n",
    "print(f\"User defined Revert Function takes: {timeit.timeit(lambda: revert([1,2,3,4,5]))}\")\n",
    "print(f\"User defined revert_in_place function takes: {timeit.timeit(lambda: revert_in_place([1,2,3,4,5]))}\")\n",
    "print(f\"Built in reverse method takes: {timeit.timeit(lambda: reversed([1,2,3,4,5]))}\")\n",
    "print(f\"Built in reversed function takes: {timeit.timeit(lambda: [1,2,3,4,5].reverse())}\")"
   ]
  },
  {
   "cell_type": "code",
   "execution_count": 71,
   "metadata": {},
   "outputs": [
    {
     "name": "stdout",
     "output_type": "stream",
     "text": [
      "(1, 1); (1, 3); (1, 5); (1, 5); (1, 3); (1, 23); (1, 3); (1, 1); (3, 1); (3, 3); (3, 5); (3, 5); (3, 3); (3, 23); (3, 3); (3, 1); (5, 1); (5, 3); (5, 5); (5, 5); (5, 3); (5, 23); (5, 3); (5, 1); (5, 1); (5, 3); (5, 5); (5, 5); (5, 3); (5, 23); (5, 3); (5, 1); (3, 1); (3, 3); (3, 5); (3, 5); (3, 3); (3, 23); (3, 3); (3, 1); (23, 1); (23, 3); (23, 5); (23, 5); (23, 3); (23, 23); (23, 3); (23, 1); (3, 1); (3, 3); (3, 5); (3, 5); (3, 3); (3, 23); (3, 3); (3, 1); (1, 1); (1, 3); (1, 5); (1, 5); (1, 3); (1, 23); (1, 3); (1, 1); \n",
      "\n",
      "(1, 1); (1, 3); (1, 5); (1, 7); (1, 9); (3, 1); (3, 3); (3, 5); (3, 7); (3, 9); (5, 1); (5, 3); (5, 5); (5, 7); (5, 9); (7, 1); (7, 3); (7, 5); (7, 7); (7, 9); (9, 1); (9, 3); (9, 5); (9, 7); (9, 9); "
     ]
    }
   ],
   "source": [
    "# C-1.14\n",
    "\n",
    "def odd_product(array):\n",
    "    \"\"\"\n",
    "    For odd product, both numbers must be odd.\n",
    "    \"\"\"\n",
    "    for i in array:\n",
    "        if i%2 != 0:\n",
    "            for j in array:\n",
    "                if j%2 != 0:\n",
    "                    yield i,j\n",
    "\n",
    "for i in odd_product([1,2,3,4,5,4,5,3,23,2,2,3,4,1]):\n",
    "    print(i, end = \"; \")\n",
    "print(\"\\n\")\n",
    "for i in odd_product(range(1,10)):\n",
    "    print(i, end = \"; \")"
   ]
  },
  {
   "cell_type": "code",
   "execution_count": 118,
   "metadata": {},
   "outputs": [
    {
     "name": "stdout",
     "output_type": "stream",
     "text": [
      "False\n",
      "True\n",
      "False\n",
      "True\n"
     ]
    }
   ],
   "source": [
    "# C-1.15\n",
    "\n",
    "\"\"\"\n",
    "Uses Counter object from in-built collections module\n",
    "\"\"\"\n",
    "\n",
    "from collections import Counter\n",
    "\n",
    "def all_distinct_nums(array):\n",
    "    counter = Counter(array).values()\n",
    "    for i in counter:\n",
    "        if i > 1:\n",
    "            return False\n",
    "    return True\n",
    "        \n",
    "\n",
    "print(all_distinct_nums([1,23,45,56,6,3,2,2,3,4,54,2,6,8,90,8,6,54,3,3,23]))\n",
    "print(all_distinct_nums([1,2,3,4,5,6,7]))\n",
    "\n",
    "\n",
    "def all_distinct_chk(array):\n",
    "    nums_set = set(array)\n",
    "    if len(array) == len(nums_set):\n",
    "        return True\n",
    "    else:\n",
    "        return False\n",
    "\n",
    "print(all_distinct_chk([1,23,45,56,6,3,2,2,3,4,54,2,6,8,90,8,6,54,3,3,23]))\n",
    "print(all_distinct_chk([1,2,3,4,5,6,7]))"
   ]
  },
  {
   "cell_type": "code",
   "execution_count": 128,
   "metadata": {},
   "outputs": [
    {
     "data": {
      "text/plain": [
       "\"\\nThe list itself does not hold values, but only the address of the values. \\nThe original int values don't change. New ones are calculated.\\nThe list being mutable, changes its addresses to the new int values.\\nThe list points to the addresses of the newly created int values.\\n\""
      ]
     },
     "execution_count": 128,
     "metadata": {},
     "output_type": "execute_result"
    }
   ],
   "source": [
    "# C-1.16\n",
    "\n",
    "\"\"\"\n",
    "The list itself does not hold values, but only the address of the values. \n",
    "The original int values don't change. New ones are calculated.\n",
    "The list being mutable, changes its addresses to the new int values.\n",
    "The list points to the addresses of the newly created int values.\n",
    "\"\"\""
   ]
  },
  {
   "cell_type": "code",
   "execution_count": 130,
   "metadata": {},
   "outputs": [
    {
     "name": "stdout",
     "output_type": "stream",
     "text": [
      "[1, 2, 3, 4]\n",
      "[3, 6, 9, 12]\n"
     ]
    }
   ],
   "source": [
    "# C-1.17\n",
    "\n",
    "def given_scale(data, factor):\n",
    "    for val in data:\n",
    "        val *= factor\n",
    "    return data\n",
    "print(given_scale([1,2,3,4], 3))\n",
    "\n",
    "\"\"\"\n",
    "Function given_scale calculates the scaled values,\n",
    "but the addresses are not bound to the list.\n",
    "\"\"\"\n",
    "\n",
    "def new_scale(data, factor):\n",
    "    for val in range(len(data)):\n",
    "        data[val] *= factor\n",
    "    return data\n",
    "print(new_scale([1,2,3,4], 3))"
   ]
  },
  {
   "cell_type": "code",
   "execution_count": 120,
   "metadata": {},
   "outputs": [
    {
     "data": {
      "text/plain": [
       "[0, 2, 6, 12, 20, 30, 42, 56, 72, 90]"
      ]
     },
     "execution_count": 120,
     "metadata": {},
     "output_type": "execute_result"
    }
   ],
   "source": [
    "# C-1.18\n",
    "\n",
    "\"\"\"\n",
    "[0*1, 1*2, 2*3, 3*4, 4*5, 5*6, 6*7, 7*8, 8*9, 9*10]\n",
    "\"\"\"\n",
    "\n",
    "[i*j for i,j in zip(range(0,10), range(1,11))]"
   ]
  },
  {
   "cell_type": "code",
   "execution_count": 137,
   "metadata": {},
   "outputs": [
    {
     "data": {
      "text/plain": [
       "['a',\n",
       " 'b',\n",
       " 'c',\n",
       " 'd',\n",
       " 'e',\n",
       " 'f',\n",
       " 'g',\n",
       " 'h',\n",
       " 'i',\n",
       " 'j',\n",
       " 'k',\n",
       " 'l',\n",
       " 'm',\n",
       " 'n',\n",
       " 'o',\n",
       " 'p',\n",
       " 'q',\n",
       " 'r',\n",
       " 's',\n",
       " 't',\n",
       " 'u',\n",
       " 'v',\n",
       " 'w',\n",
       " 'x',\n",
       " 'y',\n",
       " 'z']"
      ]
     },
     "execution_count": 137,
     "metadata": {},
     "output_type": "execute_result"
    }
   ],
   "source": [
    "# C-1.19\n",
    "\n",
    "[chr(i) for i in range(97, 123)]"
   ]
  },
  {
   "cell_type": "code",
   "execution_count": 302,
   "metadata": {},
   "outputs": [
    {
     "data": {
      "text/plain": [
       "[9, 9, 5, 4, 2, 2, 4, 8, 9, 1]"
      ]
     },
     "execution_count": 302,
     "metadata": {},
     "output_type": "execute_result"
    }
   ],
   "source": [
    "# C-1.20\n",
    "\n",
    "\"\"\"\n",
    "Python’s random module includes a function shuffle(data) that accepts a\n",
    "list of elements and randomly reorders the elements so that each possible\n",
    "order occurs with equal probability. The random module includes a\n",
    "more basic function randint(a, b) that returns a uniformly random integer\n",
    "from a to b (including both endpoints). Using only the randint function,\n",
    "implement your own version of the shuffle function.\n",
    "\"\"\"\n",
    "\n",
    "from random import randint, shuffle\n",
    "\n",
    "def new_shuffle(array):\n",
    "    for i in range(len(array)//2):\n",
    "        array[i], array[randint(i,len(array)-i-1)] = array[randint(i,len(array)-i-1)], array[i]\n",
    "    return array\n",
    "new_shuffle([1,2,3,4,5,6,7,8,9,10])"
   ]
  },
  {
   "cell_type": "code",
   "execution_count": 372,
   "metadata": {},
   "outputs": [
    {
     "name": "stdout",
     "output_type": "stream",
     "text": [
      "1\n",
      "1\n",
      "[3, 2, 1, 4, 5]\n",
      "+++++++++++++\n",
      "2\n",
      "4\n",
      "[3, 1, 1, 4, 2]\n",
      "+++++++++++++\n"
     ]
    }
   ],
   "source": [
    "from random import randint\n",
    "\n",
    "\"\"\"\n",
    "for i in range(len(array)//2):\n",
    "    print(i)\n",
    "    print(randint(i,len(array)-i))\n",
    "    print(\"+++++++++++++\")\n",
    "    # print(array[randint(i, len(array)-i-1)])\n",
    "\"\"\"\n",
    "\n",
    "array = [1,2,3,4,5]\n",
    "\n",
    "for i in range(len(array)//2):\n",
    "    print(array[i])\n",
    "    print(array[randint(i,len(array)-i-1)])\n",
    "    array[i], array[randint(i+1, i + len(array)-2)] = array[randint(i+1, i + len(array)-2)], array[i]\n",
    "    print(array)\n",
    "    print(\"+++++++++++++\")"
   ]
  },
  {
   "cell_type": "code",
   "execution_count": 370,
   "metadata": {},
   "outputs": [
    {
     "name": "stdout",
     "output_type": "stream",
     "text": [
      "[1, 2, 3, 4, 5, 6]\n",
      "[1, 3, 2, 4, 5, 6]\n"
     ]
    }
   ],
   "source": [
    "x = [1,2,3,4,5,6]\n",
    "print(x)\n",
    "x[1], x[2] = x[2], x[1]\n",
    "print(x)"
   ]
  },
  {
   "cell_type": "code",
   "execution_count": 162,
   "metadata": {},
   "outputs": [
    {
     "name": "stdout",
     "output_type": "stream",
     "text": [
      "--------------------------------------------------------------------------------\n",
      "Namespaces are one honking great idea -- let's do more of those!\n",
      "If the implementation is easy to explain, it may be a good idea.\n",
      "If the implementation is hard to explain, it's a bad idea.\n",
      "Although never is often better than *right* now.\n",
      "Now is better than never.\n",
      "Although that way may not be obvious at first unless you're Dutch.\n",
      "There should be one-- and preferably only one --obvious way to do it.\n",
      "In the face of ambiguity, refuse the temptation to guess.\n",
      "Unless explicitly silenced.\n",
      "Errors should never pass silently.\n",
      "Although practicality beats purity.\n",
      "Special cases aren't special enough to break the rules.\n",
      "Readability counts.\n",
      "Sparse is better than dense.\n",
      "Flat is better than nested.\n",
      "Complex is better than complicated.\n",
      "Simple is better than complex.\n",
      "Explicit is better than implicit.\n",
      "Beautiful is better than ugly.\n"
     ]
    }
   ],
   "source": [
    "# C-1.21\n",
    "\n",
    "with open('text.txt', 'r') as file:\n",
    "    text = []\n",
    "    for i in file.readlines():\n",
    "        text.append(i[:-1])\n",
    "    print(\"-\"*80)\n",
    "    for i in reversed(text):\n",
    "        print(i)"
   ]
  },
  {
   "cell_type": "code",
   "execution_count": 2,
   "metadata": {},
   "outputs": [
    {
     "name": "stdout",
     "output_type": "stream",
     "text": [
      "1,2,3,4,5\n",
      "5,6,7,8,10\n"
     ]
    },
    {
     "data": {
      "text/plain": [
       "[5, 12, 21, 32, 50]"
      ]
     },
     "execution_count": 2,
     "metadata": {},
     "output_type": "execute_result"
    }
   ],
   "source": [
    "# C-1.22\n",
    "\n",
    "a = list(map(int,input().strip().split(',')))\n",
    "b = list(map(int,input().strip().split(',')))\n",
    "if len(a) == len(b):\n",
    "    [i*j for i,j in zip(a,b)]\n",
    "else:\n",
    "    print(\"The length of the arrays must match.\")"
   ]
  },
  {
   "cell_type": "code",
   "execution_count": 14,
   "metadata": {},
   "outputs": [
    {
     "data": {
      "text/plain": [
       "'list index out of range: Index is out of bounds.'"
      ]
     },
     "execution_count": 14,
     "metadata": {},
     "output_type": "execute_result"
    }
   ],
   "source": [
    "# C-1.23\n",
    "\n",
    "def catch_index_out_of_bounds(array, index):\n",
    "    try:\n",
    "        return array[index]\n",
    "    except IndexError as e:\n",
    "        return f\"{e}: Don't try buffer overflow attacks in Python!\"\n",
    "    \n",
    "\n",
    "catch_index_out_of_bounds([1,2,3,4,5,6,7,8,9],2)        \n",
    "catch_index_out_of_bounds([1,2,3,4,5,6,7,8,9],11)        "
   ]
  },
  {
   "cell_type": "code",
   "execution_count": 11,
   "metadata": {},
   "outputs": [
    {
     "name": "stdout",
     "output_type": "stream",
     "text": [
      "{'a': 4, 'e': 9, 'i': 2, 'o': 0, 'u': 5}\n",
      "{'a': 0, 'e': 2, 'i': 0, 'o': 1, 'u': 1}\n",
      "{'a': 1, 'e': 0, 'i': 0, 'o': 0, 'u': 2}\n"
     ]
    }
   ],
   "source": [
    "# C-1.24\n",
    "\n",
    "def counter_dict(string):\n",
    "    count = {'a':0,\n",
    "            'e':0,\n",
    "            'i':0,\n",
    "            'o':0,\n",
    "            'u':0}\n",
    "    for i in string.lower():\n",
    "        if i in count:\n",
    "            count[i] += 1\n",
    "    return count\n",
    "\n",
    "print(counter('dfgawefweabcfhewbcuwedfghcew7fhcweiufhuwefhbcyuewbcjawbhcipebwau'))\n",
    "print(counter('hdfjuvejrrewlo'))\n",
    "print(counter('dvjnwauvur'))"
   ]
  },
  {
   "cell_type": "code",
   "execution_count": 37,
   "metadata": {},
   "outputs": [
    {
     "name": "stdout",
     "output_type": "stream",
     "text": [
      "Lets try Mike\n",
      "Lets try Mike\n",
      "User defined Revert Function takes: 2.1501665999999204\n",
      "User defined Revert Function takes: 1.7261324000000968\n"
     ]
    }
   ],
   "source": [
    "# C-1.25\n",
    "\n",
    "def remove_punc(string):\n",
    "    string_list = []\n",
    "    for i in string:\n",
    "        if i.isalpha() or i == \" \":\n",
    "            string_list.append(i)\n",
    "        else:\n",
    "            pass\n",
    "    return \"\".join(string_list)\n",
    "print(remove_punc(\"Let's try, Mike.\"))\n",
    "\n",
    "def del_punc(string):\n",
    "    str_list = list(string)\n",
    "    for i in reversed(range(len(str_list))): # start from end so that index error does not occur\n",
    "        if not(str_list[i].isalpha()) and not(str_list[i]==\" \"):\n",
    "            del str_list[i]\n",
    "    return \"\".join(str_list)\n",
    "print(del_punc(\"Let's try, Mike.\"))\n",
    "\n",
    "import timeit\n",
    "print(f\"User defined Revert Function takes: {timeit.timeit(lambda: del_punc('Let.s try, Mike.'))}\")\n",
    "print(f\"User defined Revert Function takes: {timeit.timeit(lambda: remove_punc('Let.s try, Mike.'))}\")"
   ]
  },
  {
   "cell_type": "code",
   "execution_count": 40,
   "metadata": {},
   "outputs": [
    {
     "name": "stdout",
     "output_type": "stream",
     "text": [
      "Addition OK\n",
      "Multiplication OK\n"
     ]
    }
   ],
   "source": [
    "# C-1.26\n",
    "\n",
    "def arithmetic_check(a,b,c):\n",
    "    if a+b==c:  return 'Addition OK'\n",
    "    elif a-b==c: return 'Subtraction OK'\n",
    "    elif a*b==c: return 'Multiplication OK' \n",
    "    else: return 'Not OK'\n",
    "    \n",
    "print(arithmetic_check(1,2,3))\n",
    "print(arithmetic_check(2,3,6))"
   ]
  },
  {
   "cell_type": "code",
   "execution_count": 42,
   "metadata": {},
   "outputs": [],
   "source": [
    "# C-1.27\n",
    "'''\n",
    "In Section 1.8, we provided three different implementations of a generator\n",
    "that computes factors of a given integer. The third of those implementations,\n",
    "from page 41, was the most efficient, but we noted that it did not\n",
    "yield the factors in increasing order. Modify the generator so that it reports\n",
    "factors in increasing order, while maintaining its general performance advantages.\n",
    "'''\n",
    "\n",
    "\n",
    "# Textbook solution\n",
    "def factors(n): # generator that computes factors\n",
    "    k = 1\n",
    "    while k*k < n: # while k < sqrt(n)\n",
    "        if n % k == 0:\n",
    "            yield k\n",
    "            yield n // k\n",
    "        k += 1\n",
    "    if k*k == n: # special case if n is perfect square\n",
    "        yield k"
   ]
  },
  {
   "cell_type": "code",
   "execution_count": 68,
   "metadata": {},
   "outputs": [
    {
     "name": "stdout",
     "output_type": "stream",
     "text": [
      "5.477225575051661\n",
      "1.97435048583482\n",
      "0.6151523364908557\n",
      "p is 0\n"
     ]
    }
   ],
   "source": [
    "# C-1.28\n",
    "\n",
    "def norm(v, p = 2):\n",
    "    if p > 0 or p < 0:\n",
    "        return sum([i**2 for i in v]) ** (1/p)\n",
    "    else:\n",
    "        return \"p is 0\"\n",
    "\n",
    "print(norm([1,2,3,4]))\n",
    "print(norm([1,2,3,4],5))\n",
    "print(norm([1,2,3,4],-7))\n",
    "print(norm([1,2,3,4],0))"
   ]
  },
  {
   "cell_type": "markdown",
   "metadata": {},
   "source": [
    "## Projects"
   ]
  },
  {
   "cell_type": "code",
   "execution_count": 1,
   "metadata": {},
   "outputs": [
    {
     "data": {
      "text/plain": [
       "'catdogatdog'"
      ]
     },
     "execution_count": 1,
     "metadata": {},
     "output_type": "execute_result"
    }
   ],
   "source": [
    "# P-1.29\n",
    "\n",
    "\"\"\"\n",
    "Write a Python program that outputs all possible strings formed by using\n",
    "the characters c , a , t , d , o , and g exactly once.\n",
    "\"\"\"\n",
    "\n",
    "char = ['c', 'a', 't', 'd', 'o', 'g']\n",
    "\n",
    "def brute_force(char):\n",
    "    s = []\n",
    "    for i in char:\n",
    "        s.append(i)\n",
    "        for j in char:\n",
    "            if j not in s:\n",
    "                s.append(j)\n",
    "    return \"\".join(s)\n",
    "\n",
    "brute_force(char)"
   ]
  },
  {
   "cell_type": "code",
   "execution_count": 9,
   "metadata": {},
   "outputs": [
    {
     "name": "stdout",
     "output_type": "stream",
     "text": [
      "3\n",
      "23\n",
      "Number smaller than 2.\n",
      "0\n",
      "2\n"
     ]
    }
   ],
   "source": [
    "# P-1.30\n",
    "\n",
    "def repeat_div(num):\n",
    "    count = 0\n",
    "    if num > 2:\n",
    "        while num >= 2:\n",
    "            num = num / 2\n",
    "            count += 1\n",
    "    else:\n",
    "        print(\"Number smaller than 2.\")\n",
    "    return count\n",
    "\n",
    "print(repeat_div(12))\n",
    "print(repeat_div(12233546))\n",
    "print(repeat_div(1))\n",
    "print(repeat_div(4))"
   ]
  },
  {
   "cell_type": "code",
   "execution_count": 417,
   "metadata": {},
   "outputs": [
    {
     "name": "stdout",
     "output_type": "stream",
     "text": [
      "{1000: 2, 500: 0, 100: 0, 50: 0, 10: 0, 1: 0}\n",
      "{1000: 1, 500: 0, 100: 2, 50: 0, 10: 3, 1: 4}\n",
      "Amount insufficient.\n"
     ]
    }
   ],
   "source": [
    "# P-1.31\n",
    "\n",
    "def get_change(charged, given):\n",
    "    if given > charged:\n",
    "        change = given - charged\n",
    "        count = {1000: 0,\n",
    "        500:0,\n",
    "        100:0,\n",
    "        50:0,\n",
    "        10:0,\n",
    "        1:0}\n",
    "        while change > 0:\n",
    "            if change > 1000:\n",
    "                count[1000] += change // 1000\n",
    "                change = change % 1000\n",
    "            elif change > 500:\n",
    "                count[500] += change // 500\n",
    "                change = change % 500\n",
    "            elif change > 100:\n",
    "                count[100] += change // 100\n",
    "                change = change % 100\n",
    "            elif change > 50:\n",
    "                count[50] += change // 50\n",
    "                change = change % 50\n",
    "            elif change > 10:\n",
    "                count[10] += change // 10\n",
    "                change = change % 10\n",
    "            elif change > 50:\n",
    "                count[50] += change // 50\n",
    "                change = change % 50\n",
    "            elif change > 1:\n",
    "                count[1] += change // 1\n",
    "                change = change % 1\n",
    "        return count\n",
    "    else:\n",
    "        return \"Amount insufficient.\"\n",
    "\n",
    "print(get_change(charged = 500, given = 2500))\n",
    "print(get_change(charged = 0, given = 1234))\n",
    "print(get_change(charged = 500, given = 50))"
   ]
  },
  {
   "cell_type": "code",
   "execution_count": 410,
   "metadata": {},
   "outputs": [
    {
     "ename": "KeyboardInterrupt",
     "evalue": "Interrupted by user",
     "output_type": "error",
     "traceback": [
      "\u001b[1;31m---------------------------------------------------------------------------\u001b[0m",
      "\u001b[1;31mKeyboardInterrupt\u001b[0m                         Traceback (most recent call last)",
      "\u001b[1;32m<ipython-input-410-e0f49d712f87>\u001b[0m in \u001b[0;36m<module>\u001b[1;34m\u001b[0m\n\u001b[0;32m     10\u001b[0m \u001b[1;33m\u001b[0m\u001b[0m\n\u001b[0;32m     11\u001b[0m \u001b[1;32mwhile\u001b[0m \u001b[1;32mTrue\u001b[0m\u001b[1;33m:\u001b[0m\u001b[1;33m\u001b[0m\u001b[1;33m\u001b[0m\u001b[0m\n\u001b[1;32m---> 12\u001b[1;33m     \u001b[0ma\u001b[0m \u001b[1;33m=\u001b[0m \u001b[0minput\u001b[0m\u001b[1;33m(\u001b[0m\u001b[1;34m\"Enter the number: \"\u001b[0m\u001b[1;33m)\u001b[0m\u001b[1;33m\u001b[0m\u001b[1;33m\u001b[0m\u001b[0m\n\u001b[0m\u001b[0;32m     13\u001b[0m     \u001b[1;32mif\u001b[0m \u001b[0ma\u001b[0m \u001b[1;33m==\u001b[0m \u001b[1;34m\"quit\"\u001b[0m\u001b[1;33m:\u001b[0m\u001b[1;33m\u001b[0m\u001b[1;33m\u001b[0m\u001b[0m\n\u001b[0;32m     14\u001b[0m         \u001b[0mprint\u001b[0m\u001b[1;33m(\u001b[0m\u001b[1;34m\"Exited calculator.\"\u001b[0m\u001b[1;33m)\u001b[0m\u001b[1;33m\u001b[0m\u001b[1;33m\u001b[0m\u001b[0m\n",
      "\u001b[1;32mc:\\users\\khuba\\appdata\\local\\programs\\python\\python39\\lib\\site-packages\\ipykernel\\kernelbase.py\u001b[0m in \u001b[0;36mraw_input\u001b[1;34m(self, prompt)\u001b[0m\n\u001b[0;32m    855\u001b[0m                 \u001b[1;34m\"raw_input was called, but this frontend does not support input requests.\"\u001b[0m\u001b[1;33m\u001b[0m\u001b[1;33m\u001b[0m\u001b[0m\n\u001b[0;32m    856\u001b[0m             )\n\u001b[1;32m--> 857\u001b[1;33m         return self._input_request(str(prompt),\n\u001b[0m\u001b[0;32m    858\u001b[0m             \u001b[0mself\u001b[0m\u001b[1;33m.\u001b[0m\u001b[0m_parent_ident\u001b[0m\u001b[1;33m,\u001b[0m\u001b[1;33m\u001b[0m\u001b[1;33m\u001b[0m\u001b[0m\n\u001b[0;32m    859\u001b[0m             \u001b[0mself\u001b[0m\u001b[1;33m.\u001b[0m\u001b[0m_parent_header\u001b[0m\u001b[1;33m,\u001b[0m\u001b[1;33m\u001b[0m\u001b[1;33m\u001b[0m\u001b[0m\n",
      "\u001b[1;32mc:\\users\\khuba\\appdata\\local\\programs\\python\\python39\\lib\\site-packages\\ipykernel\\kernelbase.py\u001b[0m in \u001b[0;36m_input_request\u001b[1;34m(self, prompt, ident, parent, password)\u001b[0m\n\u001b[0;32m    899\u001b[0m             \u001b[1;32mexcept\u001b[0m \u001b[0mKeyboardInterrupt\u001b[0m\u001b[1;33m:\u001b[0m\u001b[1;33m\u001b[0m\u001b[1;33m\u001b[0m\u001b[0m\n\u001b[0;32m    900\u001b[0m                 \u001b[1;31m# re-raise KeyboardInterrupt, to truncate traceback\u001b[0m\u001b[1;33m\u001b[0m\u001b[1;33m\u001b[0m\u001b[1;33m\u001b[0m\u001b[0m\n\u001b[1;32m--> 901\u001b[1;33m                 \u001b[1;32mraise\u001b[0m \u001b[0mKeyboardInterrupt\u001b[0m\u001b[1;33m(\u001b[0m\u001b[1;34m\"Interrupted by user\"\u001b[0m\u001b[1;33m)\u001b[0m \u001b[1;32mfrom\u001b[0m \u001b[1;32mNone\u001b[0m\u001b[1;33m\u001b[0m\u001b[1;33m\u001b[0m\u001b[0m\n\u001b[0m\u001b[0;32m    902\u001b[0m             \u001b[1;32mexcept\u001b[0m \u001b[0mException\u001b[0m \u001b[1;32mas\u001b[0m \u001b[0me\u001b[0m\u001b[1;33m:\u001b[0m\u001b[1;33m\u001b[0m\u001b[1;33m\u001b[0m\u001b[0m\n\u001b[0;32m    903\u001b[0m                 \u001b[0mself\u001b[0m\u001b[1;33m.\u001b[0m\u001b[0mlog\u001b[0m\u001b[1;33m.\u001b[0m\u001b[0mwarning\u001b[0m\u001b[1;33m(\u001b[0m\u001b[1;34m\"Invalid Message:\"\u001b[0m\u001b[1;33m,\u001b[0m \u001b[0mexc_info\u001b[0m\u001b[1;33m=\u001b[0m\u001b[1;32mTrue\u001b[0m\u001b[1;33m)\u001b[0m\u001b[1;33m\u001b[0m\u001b[1;33m\u001b[0m\u001b[0m\n",
      "\u001b[1;31mKeyboardInterrupt\u001b[0m: Interrupted by user"
     ]
    }
   ],
   "source": [
    "# P-1.32 & P-1.33\n",
    "\n",
    "\"\"\"\n",
    "Write a Python program that can simulate a simple calculator, using the\n",
    "console as the exclusive input and output device. That is, each input to the\n",
    "calculator, be it a number, like 12.34 or 1034, or an operator, like + or =,\n",
    "can be done on a separate line. After each such input, you should output\n",
    "to the Python console what would be displayed on your calculator.\n",
    "\"\"\"\n",
    "\n",
    "while True:\n",
    "    a = input(\"Enter the number: \")\n",
    "    if a == \"quit\":\n",
    "        print(\"Exited calculator.\")\n",
    "        break\n",
    "    ops = input(\"Enter any operation from +, -, /, *: \")\n",
    "    b = input(\"Enter the number: \")\n",
    "    if ops in ['+', \"-\", \"*\", \"/\"]:\n",
    "        print(eval(a+ops+b))\n",
    "        continue\n",
    "    else:\n",
    "        print(\"Invalid operation.\")\n",
    "        continue"
   ]
  },
  {
   "cell_type": "code",
   "execution_count": 398,
   "metadata": {},
   "outputs": [
    {
     "name": "stdout",
     "output_type": "stream",
     "text": [
      "I will never spam my friends again.\n",
      "I will never spam my friends again.\n",
      "I will never spam my friends again.\n",
      "I will never spam my friends again.\n",
      "I will never spam my friends again.\n",
      "I will never spam my frkends again.<----------- Error\n",
      "I will never spam my friends again.\n",
      "I will never spam my friends again.\n",
      "I will never spam my friends again.\n",
      "I will never spam my friends again.\n",
      "I will never spam my friends again.\n",
      "I will never spam my friends again.\n",
      "I will never spam my friends again.\n",
      "I will never spam my friends again.\n",
      "I will never spam my friends again.\n",
      "I will never spam my friends again.\n",
      "I will never spam my friends again.\n",
      "I will never spam my friends again.\n",
      "I will never spam my friends again.\n",
      "I will never spam my friends again.\n",
      "I will never spam my friends again.\n",
      "I will never spam my friends again.\n",
      "I will never spam my friends again.\n",
      "I will never spam my friends again.\n",
      "I will never spam my friends again.\n",
      "I will never spam my friends again.\n",
      "I will never spam my friends again.\n",
      "I will never spam my friends again.\n",
      "I will never spam my friends again.\n",
      "I will never spam my friends again.\n",
      "I will never spam my friends again.\n",
      "I will never spam my friends again.\n",
      "I will never spam my friends again.\n",
      "I will never spam my friends again.\n",
      "I will never spam my friends again.\n",
      "I will neveM spam my friends again.<----------- Error\n",
      "I will never spam my friends again.\n",
      "I will never spam my friends again.\n",
      "I will never spam my friends again.\n",
      "I will never spam my friends again.\n",
      "I will never spam my friends again.\n",
      "I will never spam my friends again.\n",
      "I will nevermspam my friends again.<----------- Error\n",
      "I will never spam my friends again.\n",
      "I will never spam my friends again.\n",
      "I will never spam my friends again.\n",
      "I will never spam my friends again.\n",
      "I will never spam my friends again.\n",
      "I will never spam my friends again.\n",
      "I will neCer spam my friends again.<----------- Error\n",
      "I will never spam my friends again.\n",
      "I will never spam my friends again.\n",
      "I will never spam my friends again.\n",
      "I will never spam my friends again.\n",
      "I will never spam my friends again.\n",
      "I will never spam my friends again.\n",
      "I will never spam my friends again.\n",
      "I will never spam my friends again.\n",
      "I will never spam my friends again.\n",
      "I will never spam my Briends again.<----------- Error\n",
      "I will never spam my friends again.\n",
      "I will never spam my friends again.\n",
      "I will never spam my friends again.\n",
      "I will never spam my friends again.\n",
      "I will never spam my friends again.\n",
      "I will never spam my friends again.\n",
      "I will never spam my friends again.\n",
      "I will never spam my friends again.\n",
      "I will never spam my friends again.\n",
      "I will never spam my friends again.\n",
      "I will never spam my friends again.\n",
      "I will never spam my friends again.\n",
      "I will never spam my friends again.\n",
      "I will never spam my friends again.\n",
      "I will never spam my friends again.\n",
      "I will never spam my friends again.\n",
      "I will never spam my friends again.\n",
      "I wilV never spam my friends again.<----------- Error\n",
      "I will never spam my friends again.\n",
      "I will never spam my friends again.\n",
      "I will never spam my friends again.\n",
      "I will never spam my friends again.\n",
      "I will never spam my friends again.\n",
      "I will never spam my friends again.\n",
      "I will never spam my friends again.\n",
      "I will nevNr spam my friends again.<----------- Error\n",
      "I will never spag my friends again.<----------- Error\n",
      "I will never spam my friends again.\n",
      "I will never spam my friends again.\n",
      "I will never spam my friends again.\n",
      "I will never spam my friends again.\n",
      "I will never spam my friends again.\n",
      "I will never spam my friends again.\n",
      "I will never spam my friends again.\n",
      "J will never spam my friends again.<----------- Error\n",
      "I will never spam my friends again.\n",
      "I will never spam my friends again.\n",
      "I will never spam my friends again.\n",
      "I will never spam my friends again.\n",
      "I will never spam my friends again.\n"
     ]
    }
   ],
   "source": [
    "# P-1.34\n",
    "\n",
    "from random import choice, randint\n",
    "\n",
    "alphabet = [chr(i) for i in range(97, 123)] + [chr(i) for i in range(65, 91)]\n",
    "\n",
    "def make_error(string):\n",
    "    \"\"\"\n",
    "    Returns the typo line\n",
    "    \"\"\"\n",
    "    string_list = list(string)\n",
    "    string_list[randint(0, len(string_list)-1)] = choice(alphabet)\n",
    "    return \"\".join(string_list)\n",
    "        \n",
    "def typo_lines():\n",
    "    typo_lines_list = []\n",
    "    while len(typo_lines_list) <= 8:\n",
    "        rand = randint(0,100)\n",
    "        if rand not in typo_lines_list:\n",
    "            typo_lines_list.append(rand)\n",
    "    typo_lines_list = sorted(typo_lines_list)\n",
    "    return typo_lines_list\n",
    "    \n",
    "def writing_the_lines(string):\n",
    "    typo_lines_list = typo_lines()\n",
    "    for i in range(100):\n",
    "        if i in typo_lines_list:\n",
    "            print(make_error(string) + \"<----------- Error\") \n",
    "        else:\n",
    "            print(string)\n",
    "    return None\n",
    "\n",
    "\n",
    "writing_the_lines(\"I will never spam my friends again.\")\n"
   ]
  },
  {
   "cell_type": "code",
   "execution_count": 405,
   "metadata": {},
   "outputs": [
    {
     "name": "stdout",
     "output_type": "stream",
     "text": [
      "The probability for 1 people is  0.0\n",
      "The probability for 2 people is  0.0\n",
      "The probability for 3 people is  0.0\n",
      "The probability for 4 people is  0.0\n",
      "The probability for 5 people is  0.0\n",
      "The probability for 6 people is  0.0\n",
      "The probability for 7 people is  0.0\n",
      "The probability for 8 people is  0.0\n",
      "The probability for 9 people is  0.0\n",
      "The probability for 10 people is  0.0\n",
      "The probability for 11 people is  0.09090909090909091\n",
      "The probability for 12 people is  0.08333333333333333\n",
      "The probability for 13 people is  0.0\n",
      "The probability for 14 people is  0.0\n",
      "The probability for 15 people is  0.0\n",
      "The probability for 16 people is  0.0625\n",
      "The probability for 17 people is  0.058823529411764705\n",
      "The probability for 18 people is  0.16666666666666666\n",
      "The probability for 19 people is  0.0\n",
      "The probability for 20 people is  0.05\n",
      "The probability for 21 people is  0.047619047619047616\n",
      "The probability for 22 people is  0.0\n",
      "The probability for 23 people is  0.08695652173913043\n",
      "The probability for 24 people is  0.041666666666666664\n",
      "The probability for 25 people is  0.08\n",
      "The probability for 26 people is  0.038461538461538464\n",
      "The probability for 27 people is  0.07407407407407407\n",
      "The probability for 28 people is  0.03571428571428571\n",
      "The probability for 29 people is  0.0\n",
      "The probability for 30 people is  0.03333333333333333\n",
      "The probability for 31 people is  0.06451612903225806\n",
      "The probability for 32 people is  0.03125\n",
      "The probability for 33 people is  0.030303030303030304\n",
      "The probability for 34 people is  0.058823529411764705\n",
      "The probability for 35 people is  0.11428571428571428\n",
      "The probability for 36 people is  0.08333333333333333\n",
      "The probability for 37 people is  0.05405405405405406\n",
      "The probability for 38 people is  0.07894736842105263\n",
      "The probability for 39 people is  0.07692307692307693\n",
      "The probability for 40 people is  0.0\n",
      "The probability for 41 people is  0.0975609756097561\n",
      "The probability for 42 people is  0.023809523809523808\n",
      "The probability for 43 people is  0.023255813953488372\n",
      "The probability for 44 people is  0.11363636363636363\n",
      "The probability for 45 people is  0.06666666666666667\n",
      "The probability for 46 people is  0.06521739130434782\n",
      "The probability for 47 people is  0.0425531914893617\n",
      "The probability for 48 people is  0.08333333333333333\n",
      "The probability for 49 people is  0.12244897959183673\n",
      "The probability for 50 people is  0.08\n",
      "The probability for 51 people is  0.058823529411764705\n",
      "The probability for 52 people is  0.07692307692307693\n",
      "The probability for 53 people is  0.05660377358490566\n",
      "The probability for 54 people is  0.12962962962962962\n",
      "The probability for 55 people is  0.12727272727272726\n",
      "The probability for 56 people is  0.05357142857142857\n",
      "The probability for 57 people is  0.07017543859649122\n",
      "The probability for 58 people is  0.08620689655172414\n",
      "The probability for 59 people is  0.11864406779661017\n",
      "The probability for 60 people is  0.13333333333333333\n",
      "The probability for 61 people is  0.03278688524590164\n",
      "The probability for 62 people is  0.0967741935483871\n",
      "The probability for 63 people is  0.07936507936507936\n",
      "The probability for 64 people is  0.03125\n",
      "The probability for 65 people is  0.07692307692307693\n",
      "The probability for 66 people is  0.07575757575757576\n",
      "The probability for 67 people is  0.13432835820895522\n",
      "The probability for 68 people is  0.08823529411764706\n",
      "The probability for 69 people is  0.13043478260869565\n",
      "The probability for 70 people is  0.11428571428571428\n",
      "The probability for 71 people is  0.08450704225352113\n",
      "The probability for 72 people is  0.125\n",
      "The probability for 73 people is  0.1095890410958904\n",
      "The probability for 74 people is  0.0945945945945946\n",
      "The probability for 75 people is  0.06666666666666667\n",
      "The probability for 76 people is  0.10526315789473684\n",
      "The probability for 77 people is  0.09090909090909091\n",
      "The probability for 78 people is  0.10256410256410256\n",
      "The probability for 79 people is  0.12658227848101267\n",
      "The probability for 80 people is  0.075\n",
      "The probability for 81 people is  0.12345679012345678\n",
      "The probability for 82 people is  0.12195121951219512\n",
      "The probability for 83 people is  0.12048192771084337\n",
      "The probability for 84 people is  0.13095238095238096\n",
      "The probability for 85 people is  0.1411764705882353\n",
      "The probability for 86 people is  0.05813953488372093\n",
      "The probability for 87 people is  0.11494252873563218\n",
      "The probability for 88 people is  0.056818181818181816\n",
      "The probability for 89 people is  0.11235955056179775\n",
      "The probability for 90 people is  0.07777777777777778\n",
      "The probability for 91 people is  0.13186813186813187\n",
      "The probability for 92 people is  0.13043478260869565\n",
      "The probability for 93 people is  0.13978494623655913\n",
      "The probability for 94 people is  0.05319148936170213\n",
      "The probability for 95 people is  0.10526315789473684\n",
      "The probability for 96 people is  0.17708333333333334\n",
      "The probability for 97 people is  0.12371134020618557\n",
      "The probability for 98 people is  0.15306122448979592\n",
      "The probability for 99 people is  0.12121212121212122\n"
     ]
    }
   ],
   "source": [
    "# P-1.35\n",
    "\n",
    "from random import *\n",
    "\n",
    "def probability(num_of_people):\n",
    "    birthdays = [randint(1,366) for i in range(num_of_people)]\n",
    "    birthdays_set = set(birthdays)\n",
    "    print(f\"The probability for {num_of_people} people is \", \n",
    "          str((len(birthdays) - len(birthdays_set))/len(birthdays)))\n",
    "\n",
    "for i in range(1,100):\n",
    "    probability(i)"
   ]
  },
  {
   "cell_type": "code",
   "execution_count": 42,
   "metadata": {},
   "outputs": [
    {
     "data": {
      "text/plain": [
       "{'face': 1,\n",
       " 'break': 1,\n",
       " 'not': 1,\n",
       " 'idea': 1,\n",
       " 'Now': 1,\n",
       " 'enough': 1,\n",
       " 'it.': 1,\n",
       " 'way': 2,\n",
       " 'only': 1,\n",
       " 'unless': 1,\n",
       " 'great': 1,\n",
       " \"let's\": 1,\n",
       " 'complicated.': 1,\n",
       " 'now.': 1,\n",
       " 'Unless': 1,\n",
       " 'first': 1,\n",
       " 'Special': 1,\n",
       " 'bad': 1,\n",
       " 'Beautiful': 1,\n",
       " '*right*': 1,\n",
       " 'counts.': 1,\n",
       " 'Flat': 1,\n",
       " 'dense.': 1,\n",
       " 'practicality': 1,\n",
       " 'explain,': 2,\n",
       " 'special': 1,\n",
       " 'of': 2,\n",
       " \"it's\": 1,\n",
       " 'it': 1,\n",
       " 'never': 2,\n",
       " 'idea.': 2,\n",
       " 'ugly.': 1,\n",
       " 'easy': 1,\n",
       " 'than': 8,\n",
       " 'Dutch.': 1,\n",
       " 'beats': 1,\n",
       " 'often': 1,\n",
       " 'nested.': 1,\n",
       " 'purity.': 1,\n",
       " 'more': 1,\n",
       " 'be': 3,\n",
       " 'Explicit': 1,\n",
       " 'a': 2,\n",
       " 'Complex': 1,\n",
       " 'implicit.': 1,\n",
       " 'one--': 1,\n",
       " 'one': 2,\n",
       " 'There': 1,\n",
       " 'Namespaces': 1,\n",
       " 'cases': 1,\n",
       " 'explicitly': 1,\n",
       " 'silently.': 1,\n",
       " 'complex.': 1,\n",
       " '--obvious': 1,\n",
       " 'those!': 1,\n",
       " 'Simple': 1,\n",
       " 'refuse': 1,\n",
       " 'implementation': 2,\n",
       " 'are': 1,\n",
       " 'In': 1,\n",
       " 'at': 1,\n",
       " \"aren't\": 1,\n",
       " 'is': 10,\n",
       " \"you're\": 1,\n",
       " 'guess.': 1,\n",
       " 'to': 5,\n",
       " 'do': 2,\n",
       " 'pass': 1,\n",
       " 'Errors': 1,\n",
       " 'better': 8,\n",
       " 'If': 2,\n",
       " 'ambiguity,': 1,\n",
       " 'Although': 3,\n",
       " 'hard': 1,\n",
       " '--': 1,\n",
       " 'the': 5,\n",
       " 'that': 1,\n",
       " 'may': 2,\n",
       " 'obvious': 1,\n",
       " 'preferably': 1,\n",
       " 'Readability': 1,\n",
       " 'rules.': 1,\n",
       " 'should': 2,\n",
       " 'temptation': 1,\n",
       " 'and': 1,\n",
       " 'never.': 1,\n",
       " 'good': 1,\n",
       " 'honking': 1,\n",
       " 'Sparse': 1,\n",
       " 'silenced.': 1}"
      ]
     },
     "execution_count": 42,
     "metadata": {},
     "output_type": "execute_result"
    }
   ],
   "source": [
    "# P-1.36\n",
    "\n",
    "def word_count(string):\n",
    "    array = string.split(\" \")\n",
    "    count_dict = {}\n",
    "    array_set = set(array)\n",
    "    for i in array_set:\n",
    "        count_dict[i] = 0\n",
    "        for j in array:\n",
    "            if i == j:\n",
    "                count_dict[i] += 1\n",
    "            else:\n",
    "                continue\n",
    "    return count_dict\n",
    "\n",
    "with open('zen.txt', 'r') as file:\n",
    "    data = file.read()\n",
    "word_count(data)"
   ]
  }
 ],
 "metadata": {
  "kernelspec": {
   "display_name": "Python 3",
   "language": "python",
   "name": "python3"
  },
  "language_info": {
   "codemirror_mode": {
    "name": "ipython",
    "version": 3
   },
   "file_extension": ".py",
   "mimetype": "text/x-python",
   "name": "python",
   "nbconvert_exporter": "python",
   "pygments_lexer": "ipython3",
   "version": "3.9.1"
  }
 },
 "nbformat": 4,
 "nbformat_minor": 4
}
