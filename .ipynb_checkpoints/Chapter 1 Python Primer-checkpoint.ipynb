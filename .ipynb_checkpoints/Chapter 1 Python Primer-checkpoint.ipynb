{
 "cells": [
  {
   "cell_type": "markdown",
   "metadata": {},
   "source": [
    "# Chapter 1: Python Primer"
   ]
  },
  {
   "cell_type": "markdown",
   "metadata": {},
   "source": [
    "## Reinforcement"
   ]
  },
  {
   "cell_type": "code",
   "execution_count": 7,
   "metadata": {},
   "outputs": [
    {
     "name": "stdout",
     "output_type": "stream",
     "text": [
      "False\n",
      "False\n",
      "True\n"
     ]
    }
   ],
   "source": [
    "# R-1.1\n",
    "\n",
    "def is_multiple(n,m):\n",
    "    if n%m == 0: return True\n",
    "    else: return False\n",
    "\n",
    "print(is_multiple(2,3))\n",
    "print(is_multiple(1824732189479,32748217384237))\n",
    "print(is_multiple(6,3))"
   ]
  },
  {
   "cell_type": "code",
   "execution_count": 10,
   "metadata": {},
   "outputs": [
    {
     "name": "stdout",
     "output_type": "stream",
     "text": [
      "True\n",
      "False\n",
      "False\n",
      "True\n"
     ]
    }
   ],
   "source": [
    "# R-1.2\n",
    "\n",
    "def is_even(k):\n",
    "    if isinstance(k, int):\n",
    "        return k&1 == 0\n",
    "    else:\n",
    "        return False\n",
    "        \n",
    "print(is_even(8))\n",
    "print(is_even(237583279845))\n",
    "print(is_even(893842934.6))\n",
    "print(is_even(-342348))"
   ]
  },
  {
   "cell_type": "code",
   "execution_count": 15,
   "metadata": {},
   "outputs": [
    {
     "name": "stdout",
     "output_type": "stream",
     "text": [
      "(8, 4)\n",
      "(9, 1)\n",
      "(9, 6)\n",
      "(8, 1)\n"
     ]
    }
   ],
   "source": [
    "# R-1.3\n",
    "\n",
    "def minmax(data):\n",
    "    largest, smallest = 0, 9\n",
    "    for i in str(data):\n",
    "        digit = int(i)\n",
    "        if digit > largest: largest = digit\n",
    "        if digit < largest: smallest = digit\n",
    "    return largest, smallest\n",
    "\n",
    "print(minmax(34837847837348))\n",
    "print(minmax(3284392831))\n",
    "print(minmax(198414637896))\n",
    "print(minmax(1865341))"
   ]
  },
  {
   "cell_type": "code",
   "execution_count": 26,
   "metadata": {},
   "outputs": [
    {
     "name": "stdout",
     "output_type": "stream",
     "text": [
      "3658116140695\n",
      "3187291745\n",
      "5\n"
     ]
    }
   ],
   "source": [
    "# R-1.4\n",
    "\n",
    "def sum_of_squares_until(num):\n",
    "    return sum([n*n for n in range(1,num+1)])\n",
    "\n",
    "print(sum_of_squares_until(22222))\n",
    "print(sum_of_squares_until(2122))\n",
    "print(sum_of_squares_until(2))"
   ]
  },
  {
   "cell_type": "code",
   "execution_count": null,
   "metadata": {},
   "outputs": [],
   "source": [
    "# R-1.5\n",
    "\n",
    "def sum_of_squares_until(num):\n",
    "    return sum([n*n for n in range(1,num+1)])\n",
    "\n",
    "print(sum_of_squares_until(22222))\n",
    "print(sum_of_squares_until(2122))\n",
    "print(sum_of_squares_until(2))"
   ]
  },
  {
   "cell_type": "code",
   "execution_count": 3,
   "metadata": {},
   "outputs": [
    {
     "name": "stdout",
     "output_type": "stream",
     "text": [
      "10\n",
      "35\n",
      "10131861606\n"
     ]
    }
   ],
   "source": [
    "# R-1.6\n",
    "\n",
    "def sum_of_odd_squares_until(num):\n",
    "    return sum((n*n for n in range(1,num+1) if n%2 != 0))\n",
    "\n",
    "print(sum_of_odd_squares_until(3))\n",
    "print(sum_of_odd_squares_until(5))\n",
    "print(sum_of_odd_squares_until(3932))"
   ]
  },
  {
   "cell_type": "code",
   "execution_count": 1,
   "metadata": {},
   "outputs": [
    {
     "name": "stdout",
     "output_type": "stream",
     "text": [
      "10\n",
      "35\n",
      "10131861606\n"
     ]
    }
   ],
   "source": [
    "# R-1.7\n",
    "\n",
    "def sum_of_odd_squares_until(num):\n",
    "    return sum((n*n for n in range(1,num+1) if n%2 != 0))\n",
    "\n",
    "print(sum_of_odd_squares_until(3))\n",
    "print(sum_of_odd_squares_until(5))\n",
    "print(sum_of_odd_squares_until(3932))"
   ]
  },
  {
   "cell_type": "code",
   "execution_count": 9,
   "metadata": {},
   "outputs": [
    {
     "name": "stdout",
     "output_type": "stream",
     "text": [
      "2\n",
      "2\n"
     ]
    }
   ],
   "source": [
    "# R-1.8\n",
    "\n",
    "j = n + k"
   ]
  },
  {
   "cell_type": "code",
   "execution_count": 3,
   "metadata": {},
   "outputs": [
    {
     "data": {
      "text/plain": [
       "[50, 60, 70, 80]"
      ]
     },
     "execution_count": 3,
     "metadata": {},
     "output_type": "execute_result"
    }
   ],
   "source": [
    "# R-1.9\n",
    "\n",
    "[i for i in range(50, 81, 10)]"
   ]
  },
  {
   "cell_type": "code",
   "execution_count": 13,
   "metadata": {},
   "outputs": [
    {
     "data": {
      "text/plain": [
       "[8, 6, 4, 2, 0, -2, -4, -6, -8]"
      ]
     },
     "execution_count": 13,
     "metadata": {},
     "output_type": "execute_result"
    }
   ],
   "source": [
    "# R-1.10\n",
    "\n",
    "[i for i in range(8, -9, -2)]"
   ]
  },
  {
   "cell_type": "code",
   "execution_count": 23,
   "metadata": {},
   "outputs": [
    {
     "name": "stdout",
     "output_type": "stream",
     "text": [
      "[1, 2, 4, 8, 16, 32, 64, 128, 256]\n"
     ]
    }
   ],
   "source": [
    "# R-1.11\n",
    "\n",
    "print([2**i for i in range(0,9)])"
   ]
  },
  {
   "cell_type": "code",
   "execution_count": 44,
   "metadata": {},
   "outputs": [
    {
     "name": "stdout",
     "output_type": "stream",
     "text": [
      "0\n",
      "6\n",
      "166 438 479 567 47 692 27 985 877 52 205 114 763 79 53 349 414 519 321 785 393 270 40 468 737 663 729 369 425 455 317 212 584 206 353 152 394 923 15 735 830 781 6 512 312 668 461 808 643 820 113 59 154 394 538 54 763 516 734 418 318 109 326 875 19 352 780 541 18 911 27 675 523 618 951 923 876 845 903 319 274 286 427 671 193 702 756 565 125 84 0 968 545 175 440 947 549 83 373 "
     ]
    }
   ],
   "source": [
    "# R-1.12\n",
    "\n",
    "from random import randint\n",
    "\n",
    "def choice(array):\n",
    "    return randint(0,len(array))\n",
    "\n",
    "print(choice([1,2,3,4,5,6,7,8,9,10]))\n",
    "print(choice((1,2,3,4,5,6,7,8,9,10)))\n",
    "for i in range(1,100):\n",
    "    print(choice(range(1,1000)), end= \" \")"
   ]
  },
  {
   "cell_type": "markdown",
   "metadata": {},
   "source": [
    "## Creativity"
   ]
  },
  {
   "cell_type": "code",
   "execution_count": null,
   "metadata": {},
   "outputs": [],
   "source": []
  },
  {
   "cell_type": "code",
   "execution_count": null,
   "metadata": {},
   "outputs": [],
   "source": []
  },
  {
   "cell_type": "code",
   "execution_count": null,
   "metadata": {},
   "outputs": [],
   "source": []
  },
  {
   "cell_type": "code",
   "execution_count": null,
   "metadata": {},
   "outputs": [],
   "source": []
  },
  {
   "cell_type": "code",
   "execution_count": null,
   "metadata": {},
   "outputs": [],
   "source": []
  },
  {
   "cell_type": "code",
   "execution_count": null,
   "metadata": {},
   "outputs": [],
   "source": []
  },
  {
   "cell_type": "code",
   "execution_count": null,
   "metadata": {},
   "outputs": [],
   "source": []
  }
 ],
 "metadata": {
  "kernelspec": {
   "display_name": "Python 3",
   "language": "python",
   "name": "python3"
  },
  "language_info": {
   "codemirror_mode": {
    "name": "ipython",
    "version": 3
   },
   "file_extension": ".py",
   "mimetype": "text/x-python",
   "name": "python",
   "nbconvert_exporter": "python",
   "pygments_lexer": "ipython3",
   "version": "3.9.1"
  }
 },
 "nbformat": 4,
 "nbformat_minor": 4
}
