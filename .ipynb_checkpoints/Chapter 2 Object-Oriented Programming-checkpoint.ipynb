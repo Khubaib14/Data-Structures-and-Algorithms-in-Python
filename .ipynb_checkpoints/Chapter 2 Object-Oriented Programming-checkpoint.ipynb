{
 "cells": [
  {
   "cell_type": "markdown",
   "metadata": {},
   "source": [
    "# Chapter 2: Object-Oriented Programming"
   ]
  },
  {
   "cell_type": "code",
   "execution_count": 1,
   "metadata": {},
   "outputs": [
    {
     "data": {
      "text/plain": [
       "''"
      ]
     },
     "execution_count": 1,
     "metadata": {},
     "output_type": "execute_result"
    }
   ],
   "source": [
    "# R-2.1\n",
    "\"Medical Devices.\""
   ]
  },
  {
   "cell_type": "code",
   "execution_count": 2,
   "metadata": {},
   "outputs": [
    {
     "data": {
      "text/plain": [
       "''"
      ]
     },
     "execution_count": 2,
     "metadata": {},
     "output_type": "execute_result"
    }
   ],
   "source": [
    "# R-2.2\n",
    "\"\""
   ]
  },
  {
   "cell_type": "code",
   "execution_count": 3,
   "metadata": {},
   "outputs": [
    {
     "data": {
      "text/plain": [
       "''"
      ]
     },
     "execution_count": 3,
     "metadata": {},
     "output_type": "execute_result"
    }
   ],
   "source": [
    "# R-2.3\n",
    "\"\""
   ]
  },
  {
   "cell_type": "code",
   "execution_count": 11,
   "metadata": {},
   "outputs": [
    {
     "name": "stdout",
     "output_type": "stream",
     "text": [
      "Rose\n",
      "12\n",
      "15.5\n"
     ]
    }
   ],
   "source": [
    "# R-2.4\n",
    "\n",
    "class Flower():\n",
    "    def __init__(self, name=None, petal_count=None, price=None):\n",
    "        self._name = self._petal_count = self._price = None\n",
    "        self.set_name(name)\n",
    "        self.set_petal_count(petal_count) \n",
    "        self.set_price(price)\n",
    "    def set_name(self, name):\n",
    "        assert type(name) == str, \"Argument name should be of type string.\"\n",
    "        self._name = name\n",
    "    def set_petal_count(self, petal_count):\n",
    "        assert type(petal_count) == int, \"Argument petal_count should be of type int.\"\n",
    "        self._petal_count = petal_count\n",
    "    def set_price(self, price):\n",
    "        assert type(price) == float, \"Argument price should be of type float.\"\n",
    "        self._price = price\n",
    "    def get_name(self):\n",
    "        return self._name\n",
    "    def get_petal_count(self):\n",
    "        return self._petal_count\n",
    "    def get_price(self):\n",
    "        return self._price\n",
    "\n",
    "# Throws Error\n",
    "r = Flower('Dandelion', 13.5, \"2.5\")\n",
    "    \n",
    "f = Flower(\"Rose\", 12, 15.5)\n",
    "print(f.get_name())\n",
    "print(f.get_petal_count())\n",
    "print(f.get_price())"
   ]
  },
  {
   "cell_type": "code",
   "execution_count": null,
   "metadata": {},
   "outputs": [],
   "source": [
    "\"\"\"\n",
    "########################################\n",
    "# ORIGINAL CREDIT CARD CLASS FROM TEXT #\n",
    "########################################\n",
    "\"\"\"\n",
    "\n",
    "\"\"\"\n",
    "class CreditCard():\n",
    "    def __init__(self, customer, bank, acnt, limit):\n",
    "        self._customer = customer\n",
    "        self._bank = bank\n",
    "        self._account = acnt\n",
    "        self._limit = limit\n",
    "        self._balance = 0  #Start with a balance of zero\n",
    "        \n",
    "    def get_customer(self):\n",
    "        return self._customer\n",
    "    def get_bank(self):\n",
    "        return self._bank\n",
    "    def get_account(self):\n",
    "        return self._account\n",
    "    def get_limit(self):\n",
    "        return self._limit\n",
    "    def get_balance(self):\n",
    "        return self._balance\n",
    "    \n",
    "    def set_balance(self, value):\n",
    "        self._balance = value\n",
    "        \n",
    "    def charge(self, price):\n",
    "        if price + self._balance > self._limit:\n",
    "            return False\n",
    "        else:\n",
    "            self._balance += price\n",
    "            return True\n",
    "           \n",
    "    def make_payment(self, amount):\n",
    "        self._balance -= amount\n",
    "\"\"\""
   ]
  },
  {
   "cell_type": "code",
   "execution_count": 25,
   "metadata": {},
   "outputs": [
    {
     "data": {
      "text/plain": [
       "True"
      ]
     },
     "execution_count": 25,
     "metadata": {},
     "output_type": "execute_result"
    }
   ],
   "source": [
    "# R-2.5\n",
    "\n",
    "class CreditCard():\n",
    "    def __init__(self, customer, bank, acnt, limit):\n",
    "        self._customer = customer\n",
    "        self._bank = bank\n",
    "        self._account = acnt\n",
    "        self._limit = limit\n",
    "        self._balance = 0  #Start with a balance of zero\n",
    "        \n",
    "    def get_customer(self):\n",
    "        return self._customer\n",
    "    def get_bank(self):\n",
    "        return self._bank\n",
    "    def get_account(self):\n",
    "        return self._account\n",
    "    def get_limit(self):\n",
    "        return self._limit\n",
    "    def get_balance(self):\n",
    "        return self._balance\n",
    "    \n",
    "    def set_balance(self, value):\n",
    "        self._balance = value\n",
    "        \n",
    "    def charge(self, price):\n",
    "        try:\n",
    "            price = float(price)\n",
    "        except:\n",
    "            print(\"Enter a valid value.\")\n",
    "            return False\n",
    "        if price + self._balance > self._limit:\n",
    "            return False\n",
    "        else:\n",
    "            self._balance += price\n",
    "            return True\n",
    "           \n",
    "            \n",
    "    def make_payment(self, amount):\n",
    "        try:\n",
    "            amount = float(amount)\n",
    "        except:\n",
    "            print(\"Enter a valid value.\")\n",
    "        self._balance -= amount\n",
    "        \n",
    "\n",
    "cc = CreditCard(\"Khubaib\", \"IDBI\", 1001, 1000)\n",
    "cc.charge(1000)\n",
    "# Throws error\n",
    "# cc.charge(\"fefefe\")\n",
    "# cc.make_payment(\"dwedfw\")"
   ]
  },
  {
   "cell_type": "code",
   "execution_count": 28,
   "metadata": {},
   "outputs": [],
   "source": [
    "# R-2.6\n",
    "\"\"\"\n",
    "I have used the customised CreditCard class from the previous question for this question.\n",
    "\"\"\"\n",
    "\n",
    "class CreditCard():\n",
    "    def __init__(self, customer, bank, acnt, limit):\n",
    "        self._customer = customer\n",
    "        self._bank = bank\n",
    "        self._account = acnt\n",
    "        self._limit = limit\n",
    "        self._balance = 0  #Start with a balance of zero\n",
    "        \n",
    "    def get_customer(self):\n",
    "        return self._customer\n",
    "    def get_bank(self):\n",
    "        return self._bank\n",
    "    def get_account(self):\n",
    "        return self._account\n",
    "    def get_limit(self):\n",
    "        return self._limit\n",
    "    def get_balance(self):\n",
    "        return self._balance\n",
    "    \n",
    "    def set_balance(self, value):\n",
    "        self._balance = value\n",
    "        \n",
    "    def charge(self, price):\n",
    "        try:\n",
    "            price = float(price)\n",
    "        except:\n",
    "            print(\"Enter a valid value.\")\n",
    "            return False\n",
    "        if price + self._balance > self._limit:\n",
    "            return False\n",
    "        else:\n",
    "            self._balance += price\n",
    "            return True\n",
    "           \n",
    "            \n",
    "    def make_payment(self, amount):\n",
    "        try:\n",
    "            amount = float(amount)\n",
    "        except:\n",
    "            raise ValueError(\"Invalid amount entered.\")\n",
    "        \n",
    "        if amount < 0: # Checks if the amount passed is negative\n",
    "            raise ValueError(\"Negative value entered.\")\n",
    "        else:\n",
    "            self._balance -= amount\n",
    "cc = CreditCard(\"Khubaib\", \"IDBI\", 1001 , 1000)\n",
    "\n",
    "# Throws error\n",
    "# cc.make_payment(\"-123\")"
   ]
  },
  {
   "cell_type": "code",
   "execution_count": 31,
   "metadata": {},
   "outputs": [
    {
     "name": "stdout",
     "output_type": "stream",
     "text": [
      "0.0\n",
      "500.0\n"
     ]
    }
   ],
   "source": [
    "# R-2.7\n",
    "\n",
    "class CreditCard():\n",
    "    def __init__(self, customer, bank, acnt, limit, reward = 0):\n",
    "        self._customer = customer\n",
    "        self._bank = bank\n",
    "        self._account = acnt\n",
    "        self._limit = limit\n",
    "        \n",
    "        try:\n",
    "            reward = float(reward)\n",
    "        except:\n",
    "            raise ValueError(\"Invalid Value Added.\")\n",
    "        if reward >= 0:\n",
    "            self._balance = 0 + float(reward) # Start with a balance of zero\n",
    "        else:\n",
    "            raise ValueError(\"Negative Value Cannot be Added.\")\n",
    "        \n",
    "    def get_customer(self):\n",
    "        return self._customer\n",
    "    def get_bank(self):\n",
    "        return self._bank\n",
    "    def get_account(self):\n",
    "        return self._account\n",
    "    def get_limit(self):\n",
    "        return self._limit\n",
    "    def get_balance(self):\n",
    "        return self._balance\n",
    "    \n",
    "    def set_balance(self, value):\n",
    "        self._balance = value\n",
    "        \n",
    "    def charge(self, price):\n",
    "        try:\n",
    "            price = float(price)\n",
    "        except:\n",
    "            print(\"Enter a valid value.\")\n",
    "            return False\n",
    "        \n",
    "        if price + self._balance > self._limit:\n",
    "            return False\n",
    "        else:\n",
    "            self._balance += price\n",
    "            return True\n",
    "           \n",
    "            \n",
    "    def make_payment(self, amount):\n",
    "        try:\n",
    "            amount = float(amount)\n",
    "        except:\n",
    "            raise ValueError(\"Invalid amount entered.\")\n",
    "        \n",
    "        if amount < 0: # Checks if the amount passed is negative\n",
    "            raise ValueError(\"Negative value entered.\")\n",
    "        else:\n",
    "            self._balance -= amount\n",
    "\n",
    "cc1 = CreditCard(\"Khubaib\", \"IDBI\", '1001', '1000') # 4 parameters\n",
    "cc2 = CreditCard(\"Khubaib\", \"IDBI\", '1001', '1000', \"500\") # 5 parameters\n",
    "\n",
    "print(cc1.get_balance())\n",
    "print(cc2.get_balance())\n",
    "\n",
    "# Throws error\n",
    "# cc3 = CreditCard(\"Khubaib\", \"IDBI\", '1001', '1000', \"-500.5\") # 5 parameters\n",
    "# print(cc3.get_balance())"
   ]
  },
  {
   "cell_type": "code",
   "execution_count": 33,
   "metadata": {},
   "outputs": [
    {
     "name": "stdout",
     "output_type": "stream",
     "text": [
      "Customer =  John Bowman\n",
      "Bank =  California Savings\n",
      "Account =  5391\n",
      "Limit =  250\n",
      "Balance =  231.0\n",
      "New Balance =  131.0\n",
      "New Balance =  31.0\n",
      "\n",
      "Customer =  John Bowman\n",
      "Bank =  California Federal\n",
      "Account =  5392\n",
      "Limit =  500\n",
      "Balance =  462.0\n",
      "New Balance =  362.0\n",
      "New Balance =  262.0\n",
      "New Balance =  162.0\n",
      "New Balance =  62.0\n",
      "\n",
      "Customer =  John Bowman\n",
      "Bank =  California Finance\n",
      "Account =  5393\n",
      "Limit =  750\n",
      "Balance =  693.0\n",
      "New Balance =  593.0\n",
      "New Balance =  493.0\n",
      "New Balance =  393.0\n",
      "New Balance =  293.0\n",
      "New Balance =  193.0\n",
      "New Balance =  93.0\n",
      "\n"
     ]
    }
   ],
   "source": [
    "# R-2.8\n",
    "\n",
    "wallet = []\n",
    "wallet.append(CreditCard( \"John Bowman\" , \"California Savings\" ,5391 , 250) )\n",
    "wallet.append(CreditCard( \"John Bowman\" , \"California Federal\" ,5392 , 500) )\n",
    "wallet.append(CreditCard( \"John Bowman\" , \"California Finance\" ,5393 , 750) )\n",
    "\n",
    "for val in range(1,100):\n",
    "    wallet[0].charge(val)\n",
    "    wallet[1].charge(2 * val)\n",
    "    wallet[2].charge(3 * val)\n",
    "    \n",
    "for c in range(3):\n",
    "    print ('Customer = ', wallet[c].get_customer())\n",
    "    print ('Bank = ', wallet[c].get_bank())\n",
    "    print('Account = ', wallet[c].get_account())\n",
    "    print ('Limit = ', wallet[c].get_limit())\n",
    "    print('Balance = ', wallet[c].get_balance())\n",
    "    while wallet[c].get_balance() > 100:\n",
    "        wallet[c].make_payment(100)\n",
    "        print('New Balance = ', wallet[c].get_balance())\n",
    "    print()"
   ]
  }
 ],
 "metadata": {
  "kernelspec": {
   "display_name": "Python 3",
   "language": "python",
   "name": "python3"
  },
  "language_info": {
   "codemirror_mode": {
    "name": "ipython",
    "version": 3
   },
   "file_extension": ".py",
   "mimetype": "text/x-python",
   "name": "python",
   "nbconvert_exporter": "python",
   "pygments_lexer": "ipython3",
   "version": "3.9.1"
  }
 },
 "nbformat": 4,
 "nbformat_minor": 4
}
