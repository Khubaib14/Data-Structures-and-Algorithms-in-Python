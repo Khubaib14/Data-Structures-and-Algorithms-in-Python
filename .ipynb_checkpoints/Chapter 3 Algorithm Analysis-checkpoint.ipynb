{
 "cells": [
  {
   "cell_type": "markdown",
   "metadata": {},
   "source": [
    "# Chapter 3: Algorithm Analysis "
   ]
  },
  {
   "cell_type": "markdown",
   "metadata": {},
   "source": [
    "## Reinforcement"
   ]
  },
  {
   "cell_type": "code",
   "execution_count": 1,
   "metadata": {},
   "outputs": [],
   "source": [
    "import matplotlib.pyplot as plt\n",
    "import numpy as np"
   ]
  },
  {
   "cell_type": "code",
   "execution_count": 2,
   "metadata": {},
   "outputs": [
    {
     "data": {
      "image/png": "[encoded data removed]",
      "text/plain": [
       "<Figure size 432x288 with 1 Axes>"
      ]
     },
     "metadata": {
      "needs_background": "light"
     },
     "output_type": "display_data"
    }
   ],
   "source": [
    "\"\"\"\n",
    "Just some plt recall.\n",
    "\"\"\"\n",
    "x = [i for i in range(1,10000)]\n",
    "y = [i*i for i in range(1,10000)]\n",
    "plt.plot(x, y)\n",
    "\n",
    "plt.yscale('log')\n",
    "plt.xscale('log')"
   ]
  },
  {
   "cell_type": "code",
   "execution_count": 3,
   "metadata": {},
   "outputs": [
    {
     "ename": "SyntaxError",
     "evalue": "invalid syntax (<ipython-input-3-5b49415dc740>, line 27)",
     "output_type": "error",
     "traceback": [
      "\u001b[1;36m  File \u001b[1;32m\"<ipython-input-3-5b49415dc740>\"\u001b[1;36m, line \u001b[1;32m27\u001b[0m\n\u001b[1;33m    plt.xscale('log')cd Py\u001b[0m\n\u001b[1;37m                     ^\u001b[0m\n\u001b[1;31mSyntaxError\u001b[0m\u001b[1;31m:\u001b[0m invalid syntax\n"
     ]
    }
   ],
   "source": [
    "# R-3.1\n",
    "\n",
    "# build array for x-axis\n",
    "x = [i for i in range(1,100)]\n",
    "\n",
    "# list of all functions\n",
    "functions = [lambda x: 8*x,\n",
    "            lambda x: 4*x*log(x),\n",
    "            lambda x: 2*x**2,\n",
    "            lambda x: x**3,\n",
    "            lambda x: 2**x,\n",
    "            ]\n",
    "\n",
    "# empty array for y axis\n",
    "y = []\n",
    "\n",
    "# calculate the y value for corresponding x value and store in y\n",
    "for function in functions:\n",
    "    y.append(list(map(function, x)))\n",
    "\n",
    "# plot each function from y\n",
    "for j in y:\n",
    "    plt.plot(x,j)\n",
    "\n",
    "# change the scale\n",
    "plt.yscale('log')\n",
    "plt.xscale('log')cd Py"
   ]
  },
  {
   "cell_type": "code",
   "execution_count": null,
   "metadata": {},
   "outputs": [],
   "source": [
    "# R-3.2\n",
    "\n",
    "from math import log\n",
    "\n",
    "x = [i for i in range(1,20)]\n",
    "\n",
    "functions = [lambda x: 8*x*log(x),\n",
    "            lambda x: 2*(x**2)]\n",
    "\n",
    "y_vals = []\n",
    "\n",
    "[y_vals.append(list(map(function, x))) for function in functions]\n",
    "\n",
    "[plt.plot(x,y) for y in y_vals]\n",
    "    \n",
    "\n",
    "plt.show()\n",
    "\n",
    "\"\"\"\n",
    "The point of intersection here is x = 4log(n)\n",
    "\"\"\""
   ]
  },
  {
   "cell_type": "code",
   "execution_count": null,
   "metadata": {},
   "outputs": [],
   "source": [
    "# R-3.3\n",
    "\n",
    "x = [i for i in range(1,25)]\n",
    "\n",
    "functions = [lambda x: 40*x**2,\n",
    "            lambda x: 2*(x**3)]\n",
    "\n",
    "y_vals = []\n",
    "\n",
    "[y_vals.append(list(map(function, x))) for function in functions]\n",
    "\n",
    "[plt.plot(x,y) for y in y_vals]\n",
    "    \n",
    "\n",
    "plt.show()\n",
    "\n",
    "\"\"\"\n",
    "The point of intersection here is x = 20.\n",
    "\"\"\""
   ]
  },
  {
   "cell_type": "code",
   "execution_count": null,
   "metadata": {},
   "outputs": [],
   "source": [
    "# R-3.4\n",
    "\"\"\"\n",
    "A constant function.\n",
    "\"\"\""
   ]
  },
  {
   "cell_type": "code",
   "execution_count": null,
   "metadata": {},
   "outputs": [],
   "source": [
    "# R-3.5\n",
    "\n",
    "\"\"\"\n",
    "y = n^c\n",
    "\n",
    "Take log on both sides\n",
    "\n",
    "log(y) = c * log(n)\n",
    "\n",
    "Plotting between log(y) and log(n) will form a straight line that passes through origin and has slope c.\n",
    "\"\"\""
   ]
  },
  {
   "cell_type": "code",
   "execution_count": null,
   "metadata": {},
   "outputs": [],
   "source": [
    "# R-3.6\n",
    "\n",
    "def sum_int(j):\n",
    "    total = 0\n",
    "    for i in range(j+1):\n",
    "        total += i\n",
    "    return total\n",
    "\n",
    "\"\"\"\n",
    "The formula for this purpose:\n",
    "\n",
    "(n*(n+1))/2\n",
    "\n",
    "also returns the same ans.\n",
    "\"\"\"\n",
    "\n",
    "print(sum_int(3))"
   ]
  },
  {
   "cell_type": "code",
   "execution_count": null,
   "metadata": {},
   "outputs": [],
   "source": [
    "# R-3.7\n",
    "\n",
    "\"\"\"\n",
    "The running time of the algorithm is f(n) <= c(g(n)) where c>0 and n>=n0 and n0>=1.\n",
    "\n",
    "If the running time of algorithm A is always O(f(n)), it is the equality case of the \n",
    "above definition where c(g(n)) is the worst case.\n",
    "\"\"\""
   ]
  },
  {
   "cell_type": "code",
   "execution_count": null,
   "metadata": {},
   "outputs": [],
   "source": [
    "# R-3.8\n",
    "\n",
    "\"\"\"\n",
    "2^10              <---- constant \n",
    "\n",
    "4n                <---- linear\n",
    "\n",
    "3n + 100logn      <---- linear\n",
    "\n",
    "nlogn             <---- nlogn\n",
    "\n",
    "4nlogn + 2n       <---- nlogn\n",
    "\n",
    "n^2 + 10n         <---- exponential\n",
    "\n",
    "n^3               <---- exponential\n",
    "\n",
    "2^(logn)          <---- exponential\n",
    "\n",
    "2^n               <---- exponential\n",
    "\"\"\"\n",
    "\n",
    "x = [i for i in range(1,25)]\n",
    "\n",
    "functions = [lambda x: 4*x*2,\n",
    "            lambda x: 3*x + 100*log(x)]\n",
    "\n",
    "y_vals = []\n",
    "\n",
    "[y_vals.append(list(map(function, x))) for function in functions]\n",
    "\n",
    "[plt.plot(x,y) for y in y_vals]\n",
    "    \n",
    "\n",
    "plt.show()"
   ]
  },
  {
   "cell_type": "code",
   "execution_count": null,
   "metadata": {},
   "outputs": [],
   "source": [
    "# R-3.9\n",
    "\n",
    "\"\"\"\n",
    "- If d(n) belongs to O(f(n)) => d(n) <= c(f(n)) (by defintion) where c is some constant.\n",
    "\n",
    "- Multiply both sides by some constant a such that a > 0:\n",
    " a*d(n) <= a*c(f(n)) => a*d(n) <= C'(f(n)) = O(f(n)) where C' is some other constant C' = a*d\n",
    " \n",
    "- Thus, a*d(n) also belongs to  O(f(n)).\n",
    "\"\"\""
   ]
  },
  {
   "cell_type": "code",
   "execution_count": null,
   "metadata": {},
   "outputs": [],
   "source": [
    "#  R-3.10\n",
    "\n",
    "\"\"\"\n",
    "If d(n) belongs to O(f(n)) => d(n) <= c(f(n)) (by defintion) where c is some constant.\n",
    "\n",
    "If e(n) belongs to O(g(n)) => e(n) <= c'(g(n)) (by defintion) where c' is some constant.\n",
    "\n",
    "Multiplying both:\n",
    "\n",
    "d(n)*e(n) <= c(f(n))*c'(g(n))\n",
    "d(n)*e(n) <= C(f(n))*(g(n)) where C = c*c'\n",
    "d(n)*e(n) <= C(Z(n)) where Z(n)=f(n))*(g(n)\n",
    "\n",
    "Thus d(n)*e(n) belongs to O(Z(n)) = O(f(n)*g(n)).\n",
    "\"\"\""
   ]
  },
  {
   "cell_type": "code",
   "execution_count": null,
   "metadata": {},
   "outputs": [],
   "source": [
    "# R-3.11\n",
    "\n",
    "\"\"\"Basically the same argument as above but for addition.\"\"\""
   ]
  },
  {
   "cell_type": "code",
   "execution_count": null,
   "metadata": {},
   "outputs": [],
   "source": [
    "# R-3.12\n",
    "\n",
    "\"\"\"\n",
    "- Can't extend the above argument in case of subtraction.\n",
    "\n",
    "- Reason being d(n) belongs to O(f(n)) could be a constant function\n",
    "while e(n) that belongs to O(g(n)) could be an exponential one.\n",
    "\n",
    "- That function obtained after subtraction could very well be part \n",
    "of the O(g(n)) (the more populous set), not necessarily a part of \n",
    "O(g(n)) - O(f(n)).\n",
    "\"\"\""
   ]
  },
  {
   "cell_type": "code",
   "execution_count": null,
   "metadata": {},
   "outputs": [],
   "source": [
    "# R-3.13\n",
    "\n",
    "\"\"\"\n",
    "Show that if d(n) is O(f(n)) and f(n) is O(g(n)), then d(n) is O(g(n)).\n",
    "\"\"\"\n",
    "\n",
    "\"\"\"\n",
    "d(n) =< c*f(n)         <--- (1)\n",
    "\n",
    "f(n) =< a*g(n)\n",
    "\n",
    "c*f(n) =< a*c*g(n)     <--- (2)\n",
    "\n",
    "Using (1) and (2)\n",
    "\n",
    "d(n) =< c*f(n) =< a*c*g(n)\n",
    "\n",
    "which is the same as:\n",
    "\n",
    "d(n) belongs to O(f(n)) belongs to O(g(n))\n",
    "\n",
    "Thus d(n) belongs to O(g(n)).\n",
    "\n",
    "\"\"\""
   ]
  },
  {
   "cell_type": "code",
   "execution_count": null,
   "metadata": {},
   "outputs": [],
   "source": [
    "# R-3.14 [UNSOLVED]\n",
    "\n",
    "\"\"\"\n",
    "Show that O(max{f(n),g(n)}) = O(f(n)+g(n)).\n",
    "\"\"\"\n",
    "\n",
    "\"\"\"\n",
    "\n",
    "d(n) =< c*max{f(n), g(n)}\n",
    "\n",
    "\n",
    "\"\"\""
   ]
  },
  {
   "cell_type": "code",
   "execution_count": null,
   "metadata": {},
   "outputs": [],
   "source": [
    "# R-3.15\n",
    "\n",
    "\"\"\"\n",
    "Given: g(n) >= a*f(n)      \n",
    "\n",
    "Divide both sides by a (a > 0)\n",
    "\n",
    "(1/a)*g(n) >= f(n)\n",
    "\n",
    "Let 1/a = c\n",
    "\n",
    "c*g(n) >= f(n)   =>   f(n) =< c*g(n)     =>   f(n) is O(g(n))\n",
    "\"\"\""
   ]
  },
  {
   "cell_type": "code",
   "execution_count": null,
   "metadata": {},
   "outputs": [],
   "source": [
    "# R-3.16\n",
    "\n",
    "\"\"\"\n",
    "Show that if p(n) is a polynomial in n, then log p(n) is O(logn).\n",
    "\"\"\"\n",
    "\n",
    "\"\"\"\n",
    "p(n) = O(n^d)    where d is degree of the polynomial\n",
    "\n",
    "=> p(n) =< c(n^d)\n",
    "\n",
    "taking log on both side:\n",
    "\n",
    "log(p(n)) =< log(c) + dlog(n)   =>   log(p(n)) is O(log(n))\n",
    "\n",
    "We can drop the constant log(c) and the constant d.\n",
    "\"\"\""
   ]
  },
  {
   "cell_type": "code",
   "execution_count": null,
   "metadata": {},
   "outputs": [],
   "source": [
    "# R-3.17\n",
    "\n",
    "\"\"\"\n",
    "On exapanding the given function, the degree of the expression is 5. Hence the run-time will be O(n^5).\n",
    "\"\"\""
   ]
  },
  {
   "cell_type": "code",
   "execution_count": null,
   "metadata": {},
   "outputs": [],
   "source": [
    "# R-3.18\n",
    "\n",
    "\"\"\"\n",
    "2^(n+1) = 2*(2^n)\n",
    "\n",
    "We can drop the constant value from the 2*(2^n) to get 2^n. Thus f(n) belongs to O(2^n). \n",
    "\"\"\""
   ]
  },
  {
   "cell_type": "code",
   "execution_count": null,
   "metadata": {},
   "outputs": [],
   "source": [
    "# R-3.19\n",
    "\"\"\"\n",
    "Show that n is O(nlog n).\n",
    "\"\"\"\n",
    "\n",
    "\"\"\"\n",
    "Big-oh: f(n) =< c(g(n)) for n>=n0 and c>0\n",
    "In our case, f(n) = n and g(n) = nlog n. For any value n>2, the above will hold.\n",
    "Thus, n is a part of O(nlog n)\n",
    "\n",
    "ALTERNATIVELY\n",
    "\n",
    "Using the result of problem 10:  d(n)*e(n) belongs to O(f(n)*g(n)).\n",
    "For our case, we can take take \n",
    "- d(n) = n and f(n) = n \n",
    "- e(n) = 1 and g(n) = log n\n",
    "Thus, n belongs to O(nlog n).\n",
    "\"\"\""
   ]
  },
  {
   "cell_type": "code",
   "execution_count": null,
   "metadata": {},
   "outputs": [],
   "source": [
    "# R-3.20\n",
    "\n",
    "\"\"\"\n",
    "Big Omega: f(n) >= c(g(n)) for n >= n0, c > 0 and n0 >= 1\n",
    "\n",
    "Setting f(n) = n^2 and g(n) = nlog n. For any n >= 1 and appropriate c, n^2 belongs to Ω(nlog n).  \n",
    "\"\"\""
   ]
  },
  {
   "cell_type": "code",
   "execution_count": null,
   "metadata": {},
   "outputs": [],
   "source": [
    "# R-3.21 [UNSOLVED]\n",
    "\n",
    "\"\"\"\n",
    "\n",
    "\"\"\""
   ]
  },
  {
   "cell_type": "code",
   "execution_count": null,
   "metadata": {},
   "outputs": [],
   "source": [
    "# R-3.22"
   ]
  },
  {
   "cell_type": "code",
   "execution_count": null,
   "metadata": {},
   "outputs": [],
   "source": [
    "# R-3.23\n",
    "\n",
    "def example1(S):\n",
    "    n = len(S) # Findind the length is a constant time operation: O(1\n",
    "    total = 0 #  O(1) \n",
    "    for j in range(n): # loop from 0 to n-1  The loop goes n times \n",
    "        total += S[j]   #  Addition and getting the element both are: O(1) \n",
    "    return total #  O(1) \n",
    "\n",
    "\"\"\"\n",
    "All operations are O(1). The for loop goes for n iterations, the body having only constant time \n",
    "operations the net run-time is O(n).\n",
    "\n",
    "Adding all the above we get 5 O(1) and 1 O(n). Hence the net run-time is O(n).\n",
    "\"\"\""
   ]
  },
  {
   "cell_type": "code",
   "execution_count": null,
   "metadata": {},
   "outputs": [],
   "source": [
    "# R-3.24\n",
    "\n",
    "def example2(S):\n",
    "    n = len(S) # O(1) \n",
    "    total = 0  # O(1)\n",
    "    for j in range(0, n, 2): # note the increment of 2, The loop iterates n/2 times: O(n)\n",
    "        total += S[j] # Both operations are O(1)\n",
    "    return total # O(1)\n",
    "\n",
    "\"\"\"\n",
    "The for loop is O(n) while all the rest opeartions are O(1). Thus the net run time is O(n).  \n",
    "\"\"\""
   ]
  },
  {
   "cell_type": "code",
   "execution_count": null,
   "metadata": {},
   "outputs": [],
   "source": [
    "# R-3.25\n",
    "\n",
    "def example3(S):\n",
    "    n = len(S) # O(1)\n",
    "    total = 0 # O(1)\n",
    "    for j in range(n): # loop from 0 to n-1, loops n-1 times\n",
    "        for k in range(1+j): # loop from 0 to j, loops 1+2+3+4+.....+n-1+n times\n",
    "            total += S[k] # Both operations take O(1)\n",
    "    return total # O(1)\n",
    "\n",
    "\"\"\"\n",
    "Outer loop runs n times and the inner one runs 1+2+3+4+.....+n-1+n times. All the other opeartions, \n",
    "inside or outside the loops take O(1) time. Thus the net run-time will be O(n^2) plus all the O(1)s.\n",
    "\"\"\""
   ]
  },
  {
   "cell_type": "code",
   "execution_count": null,
   "metadata": {},
   "outputs": [],
   "source": [
    "# R-3.26\n",
    "\n",
    "def example4(S):\n",
    "    n = len(S) # O(1)\n",
    "    prefix = 0 # O(1)\n",
    "    total = 0 # O(1)\n",
    "    for j in range(n): # loop runs n times\n",
    "        prefix += S[j] # both are O(1)\n",
    "        total += prefix # both are O(1)\n",
    "    return total # O(1)\n",
    "\n",
    "\"\"\"\n",
    "Run-time is O(n).\n",
    "\"\"\""
   ]
  },
  {
   "cell_type": "code",
   "execution_count": null,
   "metadata": {},
   "outputs": [],
   "source": [
    "# R-3.27\n",
    "\n",
    "def example5(A, B): # assume that A and B have equal length\n",
    "    n = len(A) #  O(1)\n",
    "    count = 0 # O(1)\n",
    "    for i in range(n): # loop from 0 to n-1\n",
    "        total = 0 # O(1)\n",
    "        for j in range(n): # loop from 0 to n-1\n",
    "            for k in range(1+j): # loop from 0 to j, loop runs 1+2+3+4+....n times\n",
    "                total += A[k] # both O(1)\n",
    "        if B[i] == total: # both O(1)\n",
    "            count += 1 # both O(1)\n",
    "    return count # O(1)\n",
    "\n",
    "\"\"\"\n",
    "Outer loop has n calls.\n",
    "Inner one has n-1 calls. Each iterations of this loop further calls another another for loop, resulting\n",
    "in O(n^2.)\n",
    "\n",
    "Both the inner loops are called n times by the outer loop, hence O(n*n^2) = O(n^3).\n",
    "\"\"\""
   ]
  },
  {
   "cell_type": "code",
   "execution_count": null,
   "metadata": {},
   "outputs": [],
   "source": [
    "# R-3.28 [UNSOLVED]\n",
    "\n",
    "\"\"\"\n",
    "\n",
    "\"\"\""
   ]
  },
  {
   "cell_type": "code",
   "execution_count": null,
   "metadata": {},
   "outputs": [],
   "source": [
    "# R-3.29\n",
    "\n",
    "\"\"\"\n",
    "O(nlog n)\n",
    "\"\"\""
   ]
  },
  {
   "cell_type": "code",
   "execution_count": null,
   "metadata": {},
   "outputs": [],
   "source": [
    "# R-3.30\n",
    "\n",
    "\"\"\"\n",
    "Each of the chosen log n elements involve execution of O(n) time operation(s). Hence net run-time is\n",
    "O(nlog n).\n",
    "\"\"\""
   ]
  },
  {
   "cell_type": "code",
   "execution_count": null,
   "metadata": {},
   "outputs": [],
   "source": [
    "# R-3.31\n",
    "\n",
    "\"\"\"\n",
    "Worst: All are even: O(n)\n",
    "Best: All are odd: O(log n)\n",
    "\"\"\""
   ]
  },
  {
   "cell_type": "code",
   "execution_count": 4,
   "metadata": {},
   "outputs": [
    {
     "data": {
      "text/plain": [
       "'\\nWorst Case: E runs on the nth element of S taking O(n) time. Going through the whole array the \\nnumberof calls would have been: 1+2+3+4+...+n. This shows O(n*(n+1)/2) => 0(n) run-time.\\n'"
      ]
     },
     "execution_count": 4,
     "metadata": {},
     "output_type": "execute_result"
    }
   ],
   "source": [
    "# R-3.32 !!!Not very sure about this one!!!\n",
    "\n",
    "\"\"\"\n",
    "Worst Case: E runs on the nth element of S taking O(n) time. Going through the whole array the \n",
    "numberof calls would have been: 1+2+3+4+...+n. This shows O(n*(n+1)/2) => 0(n) run-time.\n",
    "\"\"\""
   ]
  },
  {
   "cell_type": "code",
   "execution_count": 13,
   "metadata": {},
   "outputs": [
    {
     "data": {
      "text/plain": [
       "15.051499783199061"
      ]
     },
     "execution_count": 13,
     "metadata": {},
     "output_type": "execute_result"
    }
   ],
   "source": [
    "# R-3.33 [UNSOLVED]\n",
    "\n",
    "\"\"\"\n",
    "The O(n) notation or the big-oh takes into account only the worst case run-time. f(n) <= c*g(n).\n",
    "\n",
    "Thus for A algorithm: a(nlog n)\n",
    "Thus for B algorithm: b(n^2)\n",
    "\n",
    "These run-times are equal for n = 100.\n",
    "\n",
    "anlogn = bn^2\n",
    "a/b = n/logn\n",
    "a = 15.05*b\n",
    "\n",
    "From the above set of equations, we see that time taken by algorithm A is 15 times the time taken by B.\n",
    "As the number of calls increase further, algorithm B will turn out to be faster.\n",
    "\"\"\"\n",
    "\n",
    "from math import log2\n",
    "100/log2(100)"
   ]
  }
 ],
 "metadata": {
  "kernelspec": {
   "display_name": "Python 3",
   "language": "python",
   "name": "python3"
  },
  "language_info": {
   "codemirror_mode": {
    "name": "ipython",
    "version": 3
   },
   "file_extension": ".py",
   "mimetype": "text/x-python",
   "name": "python",
   "nbconvert_exporter": "python",
   "pygments_lexer": "ipython3",
   "version": "3.9.1"
  }
 },
 "nbformat": 4,
 "nbformat_minor": 4
}
