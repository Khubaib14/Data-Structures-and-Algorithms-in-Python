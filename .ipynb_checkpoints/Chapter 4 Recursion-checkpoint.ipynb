{
 "cells": [
  {
   "cell_type": "markdown",
   "metadata": {},
   "source": [
    "# Chapter 4: Recursion"
   ]
  },
  {
   "cell_type": "markdown",
   "metadata": {},
   "source": [
    "## Reinforcement"
   ]
  },
  {
   "cell_type": "code",
   "execution_count": 3,
   "metadata": {},
   "outputs": [
    {
     "name": "stdout",
     "output_type": "stream",
     "text": [
      "86\n",
      "515814\n"
     ]
    }
   ],
   "source": [
    "# R-4.1\n",
    "\n",
    "x = [1,2,3,5,67,6,4,3,1,1,3,34,5,5,7,8,86,6,45,4,3,3,2,2]\n",
    "y = [21,515814,518,185,1,5,18,48,18,1,1,2156,15321,0,15864,15,189,156,1,584,5,18,1,1,681,84,51,8641]\n",
    "\n",
    "def get_max(lst):\n",
    "    if len(lst) <= 1:\n",
    "        return lst[0]\n",
    "    else:\n",
    "        if lst[0] > get_max(lst[1:]):\n",
    "            return lst[0]\n",
    "        else:\n",
    "            return get_max(lst[1:])\n",
    "        \n",
    "print(get_max(x))\n",
    "print(get_max(y))"
   ]
  },
  {
   "cell_type": "code",
   "execution_count": 5,
   "metadata": {},
   "outputs": [
    {
     "data": {
      "text/plain": [
       "'\\n-----------------------------Recursion Trace-----------------------------\\npower(2,5)  ---> returns 2 * 16\\n    power(2,4)  ---> returns 2 * 8\\n        power(2,3)  ---> returns 2 * 4\\n            power(2,2)  ---> returns 2 * 2\\n                power(2,1)  ---> returns 2 * 1\\n                    power(2,0)  ---> returns 1\\n\\n'"
      ]
     },
     "execution_count": 5,
     "metadata": {},
     "output_type": "execute_result"
    }
   ],
   "source": [
    "# R-4.2\n",
    "\n",
    "def power(base,expo):\n",
    "    if expo == 0:\n",
    "        return 1\n",
    "    else:\n",
    "        return base * power(base, expo-1)\n",
    "    \n",
    "\"\"\"\n",
    "-----------------------------Recursion Trace-----------------------------\n",
    "power(2,5)  ---> returns 2 * 16\n",
    "    power(2,4)  ---> returns 2 * 8\n",
    "        power(2,3)  ---> returns 2 * 4\n",
    "            power(2,2)  ---> returns 2 * 2\n",
    "                power(2,1)  ---> returns 2 * 1\n",
    "                    power(2,0)  ---> returns 1\n",
    "\n",
    "\"\"\""
   ]
  },
  {
   "cell_type": "code",
   "execution_count": 7,
   "metadata": {},
   "outputs": [
    {
     "data": {
      "text/plain": [
       "'\\n-----------------------------Recursion Trace-----------------------------\\npower(2,18)   ---> returns 512 * 512 = 262144 \\n    power(2,9)   ---> returns 2 * 16 * 16 = 512\\n        power(2,4)   ---> returns 4 * 4 = 16\\n            power(2,2)   ---> returns 2 * 2 = 4  \\n                power(2,1)   ---> returns (1 * 1) * 2 = 2\\n                    power(2,0)   ---> returns 1\\n\\n'"
      ]
     },
     "execution_count": 7,
     "metadata": {},
     "output_type": "execute_result"
    }
   ],
   "source": [
    "# R-4.3\n",
    "\n",
    "def power(x, n):\n",
    "    # ”””Compute the value x n for integer n.”””\n",
    "    if n == 0:\n",
    "        return 1\n",
    "    else:\n",
    "        partial = power(x, n // 2) # rely on truncated division\n",
    "        result = partial * partial\n",
    "        if n % 2 == 1: # if n odd, include extra factor of x\n",
    "            result = x\n",
    "    return result\n",
    "\n",
    "\"\"\"\n",
    "-----------------------------Recursion Trace-----------------------------\n",
    "power(2,18)   ---> returns 512 * 512 = 262144 \n",
    "    power(2,9)   ---> returns 2 * 16 * 16 = 512\n",
    "        power(2,4)   ---> returns 4 * 4 = 16\n",
    "            power(2,2)   ---> returns 2 * 2 = 4  \n",
    "                power(2,1)   ---> returns (1 * 1) * 2 = 2\n",
    "                    power(2,0)   ---> returns 1\n",
    "\n",
    "\"\"\""
   ]
  },
  {
   "cell_type": "code",
   "execution_count": 13,
   "metadata": {},
   "outputs": [
    {
     "name": "stdout",
     "output_type": "stream",
     "text": [
      "[6, 2, 6, 3, 4]\n"
     ]
    }
   ],
   "source": [
    "# R-4.4\n",
    "\n",
    "def reverse(S, start, stop):\n",
    "    if start < stop - 1: # if at least 2 elements:\n",
    "        S[start], S[stop-1] = S[stop-1], S[start] # swap first and last\n",
    "        reverse(S, start+1, stop-1) # recur on rest\n",
    "        \n",
    "\"\"\"\n",
    "i = [0, 1, 2, 3, 4]\n",
    "S = [4, 3, 6, 2, 6]\n",
    "\n",
    "reverse(S, 0, 5)   ---> S = [6, 2, 6, 3, 4]\n",
    "    reverse(S, 1, 4)   ---> S = [4, 2, 6, 3, 6]\n",
    "        reverse(S, 2, 3)   ---> S = [4, 3, 6, 2, 6]\n",
    "            reverse(S, 3, 2)   ---> recursion stops \n",
    "\"\"\"\n",
    "\n",
    "S = [4, 3, 6, 2, 6]\n",
    "reverse(S, 0, 5)\n",
    "print(S)"
   ]
  },
  {
   "cell_type": "code",
   "execution_count": 14,
   "metadata": {},
   "outputs": [],
   "source": [
    "# R-4.5"
   ]
  },
  {
   "cell_type": "code",
   "execution_count": null,
   "metadata": {},
   "outputs": [],
   "source": [
    "# R-4.6\n",
    "\"\"\"\n",
    "Describe a recursive function for computing the nth Harmonic number,\n",
    "Hn = Σni=1 1/i.\n",
    "\"\"\"\n",
    "\n",
    "def sum_harmonic(n):\n",
    "    if n == 1:\n",
    "        return 1\n",
    "    else:\n",
    "        return 1/n + sum_harmonic(n-1)\n",
    "\n",
    "    \n",
    "print(sum_harmonic(3))\n",
    "print(sum_harmonic(4))\n",
    "print(sum_harmonic(5))\n",
    "print(sum_harmonic(55))\n",
    "print(sum_harmonic(555))\n",
    "print(sum_harmonic(5555))"
   ]
  },
  {
   "cell_type": "code",
   "execution_count": null,
   "metadata": {},
   "outputs": [],
   "source": []
  }
 ],
 "metadata": {
  "kernelspec": {
   "display_name": "Python 3",
   "language": "python",
   "name": "python3"
  },
  "language_info": {
   "codemirror_mode": {
    "name": "ipython",
    "version": 3
   },
   "file_extension": ".py",
   "mimetype": "text/x-python",
   "name": "python",
   "nbconvert_exporter": "python",
   "pygments_lexer": "ipython3",
   "version": "3.9.1"
  }
 },
 "nbformat": 4,
 "nbformat_minor": 4
}
